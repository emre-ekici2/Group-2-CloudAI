{
 "cells": [
  {
   "cell_type": "markdown",
   "metadata": {},
   "source": [
    "## Loading the data"
   ]
  },
  {
   "cell_type": "code",
   "execution_count": 155,
   "metadata": {},
   "outputs": [],
   "source": [
    "import pandas as pd\n",
    "df = pd.read_excel(\"crops.xlsx\")"
   ]
  },
  {
   "cell_type": "code",
   "execution_count": 156,
   "metadata": {},
   "outputs": [],
   "source": [
    "from sklearn.model_selection import train_test_split"
   ]
  },
  {
   "cell_type": "code",
   "execution_count": 157,
   "metadata": {},
   "outputs": [],
   "source": [
    "train, test_and_validate = train_test_split(df, \n",
    "                                            test_size=0.2, \n",
    "                                            random_state=42)"
   ]
  },
  {
   "cell_type": "code",
   "execution_count": 158,
   "metadata": {},
   "outputs": [],
   "source": [
    "test, validate = train_test_split(test_and_validate, \n",
    "                                  test_size=0.5, \n",
    "                                  random_state=42)"
   ]
  },
  {
   "cell_type": "markdown",
   "metadata": {},
   "source": [
    "## Uploading to Amazon S3\n",
    "\n",
    "We need to upload the data to S3 since we will be pulling the datasets from there for our model\n",
    "\n"
   ]
  },
  {
   "cell_type": "code",
   "execution_count": 159,
   "metadata": {},
   "outputs": [],
   "source": [
    "import boto3\n",
    "import io\n",
    "import os"
   ]
  },
  {
   "cell_type": "code",
   "execution_count": 173,
   "metadata": {},
   "outputs": [
    {
     "name": "stderr",
     "output_type": "stream",
     "text": [
      "INFO:botocore.credentials:Found credentials from IAM Role: BaseNotebookInstanceEc2InstanceRole\n"
     ]
    }
   ],
   "source": [
    "bucket='c93435a2086654l5083652t1w4297761148-sandboxbucket-1mais214ncuy7'\n",
    "prefix='crops'\n",
    "train_file='train.csv'\n",
    "test_file='test.csv'\n",
    "validate_file='validate.csv'\n",
    "whole_file='crops.csv'\n",
    "s3_resource = boto3.Session().resource('s3')\n",
    "\n",
    "def upload_s3_csv(filename, folder, dataframe):\n",
    "    csv_buffer = io.StringIO()\n",
    "    dataframe.to_csv(csv_buffer, header=False, index=False )\n",
    "    s3_resource.Bucket(bucket).Object(os.path.join(prefix, folder, filename)).put(Body=csv_buffer.getvalue())\n",
    "\n",
    "upload_s3_csv(train_file, 'train', train)\n",
    "upload_s3_csv(test_file, 'test', test)\n",
    "upload_s3_csv(validate_file, 'validate', validate)\n",
    "upload_s3_csv(whole_file,\"crops\", df)"
   ]
  },
  {
   "cell_type": "markdown",
   "metadata": {},
   "source": [
    "## Lets create the estimator\n",
    "\n",
    "Now that the data in Amazon S3, we can train the model.\n",
    "\n",
    "The first step is to get the XGBoost container URI."
   ]
  },
  {
   "cell_type": "code",
   "execution_count": 161,
   "metadata": {},
   "outputs": [
    {
     "name": "stdout",
     "output_type": "stream",
     "text": [
      "sagemaker.config INFO - Not applying SDK defaults from location: /etc/xdg/sagemaker/config.yaml\n",
      "sagemaker.config INFO - Not applying SDK defaults from location: /home/ec2-user/.config/sagemaker/config.yaml\n"
     ]
    },
    {
     "name": "stderr",
     "output_type": "stream",
     "text": [
      "INFO:sagemaker.image_uris:Defaulting to only available Python version: py3\n",
      "INFO:sagemaker.image_uris:Defaulting to only supported image scope: cpu.\n"
     ]
    }
   ],
   "source": [
    "from sagemaker.image_uris import retrieve\n",
    "import sagemaker\n",
    "role=sagemaker.get_execution_role()\n",
    "s3_output_location=\"s3://{}/{}/output/\".format(bucket,prefix)\n",
    "container = retrieve('xgboost',boto3.Session().region_name,'1.0-1')"
   ]
  },
  {
   "cell_type": "markdown",
   "metadata": {},
   "source": [
    "The only value to point out is the *num_class*, which is set to *6* to match the number of target classes in the dataset."
   ]
  },
  {
   "cell_type": "code",
   "execution_count": 162,
   "metadata": {},
   "outputs": [],
   "source": [
    "hyperparams = {\n",
    "    \"num_round\": \"40\",\n",
    "    \"objective\": \"reg:linear\"\n",
    "}"
   ]
  },
  {
   "cell_type": "markdown",
   "metadata": {},
   "source": [
    "Use the `estimator` function to set up the model. Here are a few parameters of interest:\n",
    "\n",
    "- **instance_count** - Defines how many instances will be used for training. We will use on* instance.\n",
    "- **instance_type** - Defines the instance type for training. In this case, it's ml.m4.xlarge."
   ]
  },
  {
   "cell_type": "code",
   "execution_count": 163,
   "metadata": {},
   "outputs": [],
   "source": [
    "import sagemaker\n",
    "from sagemaker import get_execution_role\n",
    "from sagemaker.amazon.amazon_estimator import get_image_uri\n",
    "from sagemaker.inputs import TrainingInput\n",
    "from sagemaker.estimator import Estimator\n"
   ]
  },
  {
   "cell_type": "code",
   "execution_count": 164,
   "metadata": {},
   "outputs": [
    {
     "name": "stdout",
     "output_type": "stream",
     "text": [
      "sagemaker.config INFO - Not applying SDK defaults from location: /etc/xdg/sagemaker/config.yaml\n",
      "sagemaker.config INFO - Not applying SDK defaults from location: /home/ec2-user/.config/sagemaker/config.yaml\n",
      "sagemaker.config INFO - Not applying SDK defaults from location: /etc/xdg/sagemaker/config.yaml\n",
      "sagemaker.config INFO - Not applying SDK defaults from location: /home/ec2-user/.config/sagemaker/config.yaml\n"
     ]
    },
    {
     "name": "stderr",
     "output_type": "stream",
     "text": [
      "WARNING:sagemaker.deprecations:The method get_image_uri has been renamed in sagemaker>=2.\n",
      "See: https://sagemaker.readthedocs.io/en/stable/v2.html for details.\n",
      "INFO:sagemaker.image_uris:Ignoring unnecessary instance type: None.\n"
     ]
    }
   ],
   "source": [
    "# Set up SageMaker\n",
    "sagemaker_session = sagemaker.Session()\n",
    "role = get_execution_role()\n",
    "bucket = 'c93435a2086654l5083652t1w4297761148-sandboxbucket-1mais214ncuy7'\n",
    "prefix = 'crops'\n",
    "\n",
    "# Specify your container (image) for XGBoost\n",
    "container = get_image_uri(sagemaker_session.boto_region_name, 'xgboost')\n"
   ]
  },
  {
   "cell_type": "code",
   "execution_count": 165,
   "metadata": {},
   "outputs": [],
   "source": [
    "# Initialize and configure the XGBoost estimator\n",
    "xgb_model = Estimator(container,\n",
    "                      role,\n",
    "                      instance_count=1,\n",
    "                      instance_type='ml.m5.xlarge',\n",
    "                      output_path=f's3://{bucket}/{prefix}/output',\n",
    "                      sagemaker_session=sagemaker_session,\n",
    "                      hyperparameters=hyperparams)\n"
   ]
  },
  {
   "cell_type": "markdown",
   "metadata": {},
   "source": [
    "## Creating the input channels\n",
    "\n",
    "The estimator needs *channels* to feed data into the model. For training, the *train_channel* and the *validate_channel* will be used."
   ]
  },
  {
   "cell_type": "code",
   "execution_count": 166,
   "metadata": {},
   "outputs": [],
   "source": [
    "train_channel = sagemaker.inputs.TrainingInput(\n",
    "    \"s3://{}/{}/train/\".format(bucket,prefix,train_file),\n",
    "    content_type='text/csv')\n",
    "\n",
    "validate_channel = sagemaker.inputs.TrainingInput(\n",
    "    \"s3://{}/{}/validate/\".format(bucket,prefix,validate_file),\n",
    "    content_type='text/csv')\n",
    "\n",
    "data_channels = {'train': train_channel, 'validation': validate_channel}"
   ]
  },
  {
   "cell_type": "markdown",
   "metadata": {},
   "source": [
    "## Training the model\n",
    "\n",
    "Running `fit` will train the model.\n",
    "\n",
    "**Note:** This process can take up to 5 minutes."
   ]
  },
  {
   "cell_type": "code",
   "execution_count": 167,
   "metadata": {},
   "outputs": [
    {
     "data": {
      "text/html": [
       "<div>\n",
       "<style scoped>\n",
       "    .dataframe tbody tr th:only-of-type {\n",
       "        vertical-align: middle;\n",
       "    }\n",
       "\n",
       "    .dataframe tbody tr th {\n",
       "        vertical-align: top;\n",
       "    }\n",
       "\n",
       "    .dataframe thead th {\n",
       "        text-align: right;\n",
       "    }\n",
       "</style>\n",
       "<table border=\"1\" class=\"dataframe\">\n",
       "  <thead>\n",
       "    <tr style=\"text-align: right;\">\n",
       "      <th></th>\n",
       "      <th>Unnamed: 0</th>\n",
       "      <th>year</th>\n",
       "      <th>hectares</th>\n",
       "      <th>production</th>\n",
       "      <th>yield</th>\n",
       "      <th>country_Argentina</th>\n",
       "      <th>country_Australia</th>\n",
       "      <th>country_Austria</th>\n",
       "      <th>country_Belgium</th>\n",
       "      <th>country_Brazil</th>\n",
       "      <th>...</th>\n",
       "      <th>country_region_valencia</th>\n",
       "      <th>country_region_xinjiang</th>\n",
       "      <th>country_region_yunnan</th>\n",
       "      <th>country_region_zhejiang</th>\n",
       "      <th>country_region_Île-de-France</th>\n",
       "      <th>crop_cereals</th>\n",
       "      <th>crop_maize</th>\n",
       "      <th>crop_spring wheat</th>\n",
       "      <th>crop_wheat</th>\n",
       "      <th>crop_winter wheat</th>\n",
       "    </tr>\n",
       "  </thead>\n",
       "  <tbody>\n",
       "    <tr>\n",
       "      <th>0</th>\n",
       "      <td>0</td>\n",
       "      <td>1902</td>\n",
       "      <td>285197.421053</td>\n",
       "      <td>695060.488176</td>\n",
       "      <td>1.310000</td>\n",
       "      <td>0</td>\n",
       "      <td>0</td>\n",
       "      <td>1</td>\n",
       "      <td>0</td>\n",
       "      <td>0</td>\n",
       "      <td>...</td>\n",
       "      <td>0</td>\n",
       "      <td>0</td>\n",
       "      <td>0</td>\n",
       "      <td>0</td>\n",
       "      <td>0</td>\n",
       "      <td>0</td>\n",
       "      <td>0</td>\n",
       "      <td>0</td>\n",
       "      <td>1</td>\n",
       "      <td>0</td>\n",
       "    </tr>\n",
       "    <tr>\n",
       "      <th>1</th>\n",
       "      <td>1</td>\n",
       "      <td>1903</td>\n",
       "      <td>285197.421053</td>\n",
       "      <td>695060.488176</td>\n",
       "      <td>1.470000</td>\n",
       "      <td>0</td>\n",
       "      <td>0</td>\n",
       "      <td>1</td>\n",
       "      <td>0</td>\n",
       "      <td>0</td>\n",
       "      <td>...</td>\n",
       "      <td>0</td>\n",
       "      <td>0</td>\n",
       "      <td>0</td>\n",
       "      <td>0</td>\n",
       "      <td>0</td>\n",
       "      <td>0</td>\n",
       "      <td>0</td>\n",
       "      <td>0</td>\n",
       "      <td>1</td>\n",
       "      <td>0</td>\n",
       "    </tr>\n",
       "    <tr>\n",
       "      <th>2</th>\n",
       "      <td>2</td>\n",
       "      <td>1904</td>\n",
       "      <td>285197.421053</td>\n",
       "      <td>695060.488176</td>\n",
       "      <td>1.270000</td>\n",
       "      <td>0</td>\n",
       "      <td>0</td>\n",
       "      <td>1</td>\n",
       "      <td>0</td>\n",
       "      <td>0</td>\n",
       "      <td>...</td>\n",
       "      <td>0</td>\n",
       "      <td>0</td>\n",
       "      <td>0</td>\n",
       "      <td>0</td>\n",
       "      <td>0</td>\n",
       "      <td>0</td>\n",
       "      <td>0</td>\n",
       "      <td>0</td>\n",
       "      <td>1</td>\n",
       "      <td>0</td>\n",
       "    </tr>\n",
       "    <tr>\n",
       "      <th>3</th>\n",
       "      <td>3</td>\n",
       "      <td>1905</td>\n",
       "      <td>285197.421053</td>\n",
       "      <td>695060.488176</td>\n",
       "      <td>1.330000</td>\n",
       "      <td>0</td>\n",
       "      <td>0</td>\n",
       "      <td>1</td>\n",
       "      <td>0</td>\n",
       "      <td>0</td>\n",
       "      <td>...</td>\n",
       "      <td>0</td>\n",
       "      <td>0</td>\n",
       "      <td>0</td>\n",
       "      <td>0</td>\n",
       "      <td>0</td>\n",
       "      <td>0</td>\n",
       "      <td>0</td>\n",
       "      <td>0</td>\n",
       "      <td>1</td>\n",
       "      <td>0</td>\n",
       "    </tr>\n",
       "    <tr>\n",
       "      <th>4</th>\n",
       "      <td>4</td>\n",
       "      <td>1906</td>\n",
       "      <td>285197.421053</td>\n",
       "      <td>695060.488176</td>\n",
       "      <td>1.280000</td>\n",
       "      <td>0</td>\n",
       "      <td>0</td>\n",
       "      <td>1</td>\n",
       "      <td>0</td>\n",
       "      <td>0</td>\n",
       "      <td>...</td>\n",
       "      <td>0</td>\n",
       "      <td>0</td>\n",
       "      <td>0</td>\n",
       "      <td>0</td>\n",
       "      <td>0</td>\n",
       "      <td>0</td>\n",
       "      <td>0</td>\n",
       "      <td>0</td>\n",
       "      <td>1</td>\n",
       "      <td>0</td>\n",
       "    </tr>\n",
       "    <tr>\n",
       "      <th>...</th>\n",
       "      <td>...</td>\n",
       "      <td>...</td>\n",
       "      <td>...</td>\n",
       "      <td>...</td>\n",
       "      <td>...</td>\n",
       "      <td>...</td>\n",
       "      <td>...</td>\n",
       "      <td>...</td>\n",
       "      <td>...</td>\n",
       "      <td>...</td>\n",
       "      <td>...</td>\n",
       "      <td>...</td>\n",
       "      <td>...</td>\n",
       "      <td>...</td>\n",
       "      <td>...</td>\n",
       "      <td>...</td>\n",
       "      <td>...</td>\n",
       "      <td>...</td>\n",
       "      <td>...</td>\n",
       "      <td>...</td>\n",
       "      <td>...</td>\n",
       "    </tr>\n",
       "    <tr>\n",
       "      <th>35824</th>\n",
       "      <td>36702</td>\n",
       "      <td>2013</td>\n",
       "      <td>75520.000000</td>\n",
       "      <td>278300.000000</td>\n",
       "      <td>3.685117</td>\n",
       "      <td>0</td>\n",
       "      <td>0</td>\n",
       "      <td>0</td>\n",
       "      <td>0</td>\n",
       "      <td>0</td>\n",
       "      <td>...</td>\n",
       "      <td>0</td>\n",
       "      <td>0</td>\n",
       "      <td>0</td>\n",
       "      <td>1</td>\n",
       "      <td>0</td>\n",
       "      <td>0</td>\n",
       "      <td>0</td>\n",
       "      <td>0</td>\n",
       "      <td>1</td>\n",
       "      <td>0</td>\n",
       "    </tr>\n",
       "    <tr>\n",
       "      <th>35825</th>\n",
       "      <td>36703</td>\n",
       "      <td>2014</td>\n",
       "      <td>82120.000000</td>\n",
       "      <td>309500.000000</td>\n",
       "      <td>3.768875</td>\n",
       "      <td>0</td>\n",
       "      <td>0</td>\n",
       "      <td>0</td>\n",
       "      <td>0</td>\n",
       "      <td>0</td>\n",
       "      <td>...</td>\n",
       "      <td>0</td>\n",
       "      <td>0</td>\n",
       "      <td>0</td>\n",
       "      <td>1</td>\n",
       "      <td>0</td>\n",
       "      <td>0</td>\n",
       "      <td>0</td>\n",
       "      <td>0</td>\n",
       "      <td>1</td>\n",
       "      <td>0</td>\n",
       "    </tr>\n",
       "    <tr>\n",
       "      <th>35826</th>\n",
       "      <td>36704</td>\n",
       "      <td>2015</td>\n",
       "      <td>89800.000000</td>\n",
       "      <td>351300.000000</td>\n",
       "      <td>3.912027</td>\n",
       "      <td>0</td>\n",
       "      <td>0</td>\n",
       "      <td>0</td>\n",
       "      <td>0</td>\n",
       "      <td>0</td>\n",
       "      <td>...</td>\n",
       "      <td>0</td>\n",
       "      <td>0</td>\n",
       "      <td>0</td>\n",
       "      <td>1</td>\n",
       "      <td>0</td>\n",
       "      <td>0</td>\n",
       "      <td>0</td>\n",
       "      <td>0</td>\n",
       "      <td>1</td>\n",
       "      <td>0</td>\n",
       "    </tr>\n",
       "    <tr>\n",
       "      <th>35827</th>\n",
       "      <td>36705</td>\n",
       "      <td>2016</td>\n",
       "      <td>76590.000000</td>\n",
       "      <td>253900.000000</td>\n",
       "      <td>3.315054</td>\n",
       "      <td>0</td>\n",
       "      <td>0</td>\n",
       "      <td>0</td>\n",
       "      <td>0</td>\n",
       "      <td>0</td>\n",
       "      <td>...</td>\n",
       "      <td>0</td>\n",
       "      <td>0</td>\n",
       "      <td>0</td>\n",
       "      <td>1</td>\n",
       "      <td>0</td>\n",
       "      <td>0</td>\n",
       "      <td>0</td>\n",
       "      <td>0</td>\n",
       "      <td>1</td>\n",
       "      <td>0</td>\n",
       "    </tr>\n",
       "    <tr>\n",
       "      <th>35828</th>\n",
       "      <td>36706</td>\n",
       "      <td>2017</td>\n",
       "      <td>103670.000000</td>\n",
       "      <td>419200.000000</td>\n",
       "      <td>4.043600</td>\n",
       "      <td>0</td>\n",
       "      <td>0</td>\n",
       "      <td>0</td>\n",
       "      <td>0</td>\n",
       "      <td>0</td>\n",
       "      <td>...</td>\n",
       "      <td>0</td>\n",
       "      <td>0</td>\n",
       "      <td>0</td>\n",
       "      <td>1</td>\n",
       "      <td>0</td>\n",
       "      <td>0</td>\n",
       "      <td>0</td>\n",
       "      <td>0</td>\n",
       "      <td>1</td>\n",
       "      <td>0</td>\n",
       "    </tr>\n",
       "  </tbody>\n",
       "</table>\n",
       "<p>35829 rows × 167 columns</p>\n",
       "</div>"
      ],
      "text/plain": [
       "       Unnamed: 0  year       hectares     production     yield  \\\n",
       "0               0  1902  285197.421053  695060.488176  1.310000   \n",
       "1               1  1903  285197.421053  695060.488176  1.470000   \n",
       "2               2  1904  285197.421053  695060.488176  1.270000   \n",
       "3               3  1905  285197.421053  695060.488176  1.330000   \n",
       "4               4  1906  285197.421053  695060.488176  1.280000   \n",
       "...           ...   ...            ...            ...       ...   \n",
       "35824       36702  2013   75520.000000  278300.000000  3.685117   \n",
       "35825       36703  2014   82120.000000  309500.000000  3.768875   \n",
       "35826       36704  2015   89800.000000  351300.000000  3.912027   \n",
       "35827       36705  2016   76590.000000  253900.000000  3.315054   \n",
       "35828       36706  2017  103670.000000  419200.000000  4.043600   \n",
       "\n",
       "       country_Argentina  country_Australia  country_Austria  country_Belgium  \\\n",
       "0                      0                  0                1                0   \n",
       "1                      0                  0                1                0   \n",
       "2                      0                  0                1                0   \n",
       "3                      0                  0                1                0   \n",
       "4                      0                  0                1                0   \n",
       "...                  ...                ...              ...              ...   \n",
       "35824                  0                  0                0                0   \n",
       "35825                  0                  0                0                0   \n",
       "35826                  0                  0                0                0   \n",
       "35827                  0                  0                0                0   \n",
       "35828                  0                  0                0                0   \n",
       "\n",
       "       country_Brazil  ...  country_region_valencia  country_region_xinjiang  \\\n",
       "0                   0  ...                        0                        0   \n",
       "1                   0  ...                        0                        0   \n",
       "2                   0  ...                        0                        0   \n",
       "3                   0  ...                        0                        0   \n",
       "4                   0  ...                        0                        0   \n",
       "...               ...  ...                      ...                      ...   \n",
       "35824               0  ...                        0                        0   \n",
       "35825               0  ...                        0                        0   \n",
       "35826               0  ...                        0                        0   \n",
       "35827               0  ...                        0                        0   \n",
       "35828               0  ...                        0                        0   \n",
       "\n",
       "       country_region_yunnan  country_region_zhejiang  \\\n",
       "0                          0                        0   \n",
       "1                          0                        0   \n",
       "2                          0                        0   \n",
       "3                          0                        0   \n",
       "4                          0                        0   \n",
       "...                      ...                      ...   \n",
       "35824                      0                        1   \n",
       "35825                      0                        1   \n",
       "35826                      0                        1   \n",
       "35827                      0                        1   \n",
       "35828                      0                        1   \n",
       "\n",
       "       country_region_Île-de-France  crop_cereals  crop_maize  \\\n",
       "0                                 0             0           0   \n",
       "1                                 0             0           0   \n",
       "2                                 0             0           0   \n",
       "3                                 0             0           0   \n",
       "4                                 0             0           0   \n",
       "...                             ...           ...         ...   \n",
       "35824                             0             0           0   \n",
       "35825                             0             0           0   \n",
       "35826                             0             0           0   \n",
       "35827                             0             0           0   \n",
       "35828                             0             0           0   \n",
       "\n",
       "       crop_spring wheat  crop_wheat  crop_winter wheat  \n",
       "0                      0           1                  0  \n",
       "1                      0           1                  0  \n",
       "2                      0           1                  0  \n",
       "3                      0           1                  0  \n",
       "4                      0           1                  0  \n",
       "...                  ...         ...                ...  \n",
       "35824                  0           1                  0  \n",
       "35825                  0           1                  0  \n",
       "35826                  0           1                  0  \n",
       "35827                  0           1                  0  \n",
       "35828                  0           1                  0  \n",
       "\n",
       "[35829 rows x 167 columns]"
      ]
     },
     "execution_count": 167,
     "metadata": {},
     "output_type": "execute_result"
    }
   ],
   "source": [
    "df"
   ]
  },
  {
   "cell_type": "code",
   "execution_count": 168,
   "metadata": {},
   "outputs": [
    {
     "name": "stderr",
     "output_type": "stream",
     "text": [
      "INFO:sagemaker:Creating training-job with name: xgboost-2023-11-05-19-09-25-411\n"
     ]
    },
    {
     "name": "stdout",
     "output_type": "stream",
     "text": [
      "\n",
      "2023-11-05 19:09:25 Starting - Starting the training job....\n",
      "2023-11-05 19:09:54 Starting - Preparing the instances for training..........\n",
      "2023-11-05 19:10:46 Downloading - Downloading input data.....\n",
      "2023-11-05 19:11:17 Training - Downloading the training image..\n",
      "2023-11-05 19:11:32 Training - Training image download completed. Training in progress...\n",
      "2023-11-05 19:11:47 Uploading - Uploading generated training model.\n",
      "2023-11-05 19:11:59 Completed - Training job completed\n"
     ]
    }
   ],
   "source": [
    "xgb_model.fit(inputs=data_channels, logs=False)"
   ]
  },
  {
   "cell_type": "markdown",
   "metadata": {},
   "source": [
    "## Viewing the metrics from the training job\n",
    "\n",
    "After the job is complete, you can view the metrics from the training job."
   ]
  },
  {
   "cell_type": "code",
   "execution_count": 169,
   "metadata": {},
   "outputs": [
    {
     "name": "stdout",
     "output_type": "stream",
     "text": [
      "sagemaker.config INFO - Not applying SDK defaults from location: /etc/xdg/sagemaker/config.yaml\n",
      "sagemaker.config INFO - Not applying SDK defaults from location: /home/ec2-user/.config/sagemaker/config.yaml\n"
     ]
    },
    {
     "data": {
      "text/html": [
       "<div>\n",
       "<style scoped>\n",
       "    .dataframe tbody tr th:only-of-type {\n",
       "        vertical-align: middle;\n",
       "    }\n",
       "\n",
       "    .dataframe tbody tr th {\n",
       "        vertical-align: top;\n",
       "    }\n",
       "\n",
       "    .dataframe thead th {\n",
       "        text-align: right;\n",
       "    }\n",
       "</style>\n",
       "<table border=\"1\" class=\"dataframe\">\n",
       "  <thead>\n",
       "    <tr style=\"text-align: right;\">\n",
       "      <th></th>\n",
       "      <th>metric_name</th>\n",
       "      <th>value</th>\n",
       "    </tr>\n",
       "  </thead>\n",
       "  <tbody>\n",
       "    <tr>\n",
       "      <th>0</th>\n",
       "      <td>train:rmse</td>\n",
       "      <td>669.6315</td>\n",
       "    </tr>\n",
       "    <tr>\n",
       "      <th>1</th>\n",
       "      <td>validation:rmse</td>\n",
       "      <td>669.4760</td>\n",
       "    </tr>\n",
       "  </tbody>\n",
       "</table>\n",
       "</div>"
      ],
      "text/plain": [
       "       metric_name     value\n",
       "0       train:rmse  669.6315\n",
       "1  validation:rmse  669.4760"
      ]
     },
     "execution_count": 169,
     "metadata": {},
     "output_type": "execute_result"
    }
   ],
   "source": [
    "s = sagemaker.analytics.TrainingJobAnalytics(xgb_model._current_job_name, \n",
    "                                            metric_names=['train:rmse', 'validation:rmse']\n",
    ")\n",
    "\n",
    "s_df = s.dataframe()\n",
    "s_df = s_df.iloc[:, 1:3]\n",
    "s_df"
   ]
  },
  {
   "cell_type": "code",
   "execution_count": 207,
   "metadata": {},
   "outputs": [
    {
     "name": "stderr",
     "output_type": "stream",
     "text": [
      "INFO:sagemaker:Creating model with name: xgboost-2023-11-05-22-29-11-715\n",
      "INFO:sagemaker:Creating endpoint-config with name xgboost-2023-11-05-22-29-11-715\n",
      "INFO:sagemaker:Creating endpoint with name xgboost-2023-11-05-22-29-11-715\n"
     ]
    },
    {
     "name": "stdout",
     "output_type": "stream",
     "text": [
      "----!"
     ]
    }
   ],
   "source": [
    "xgb_predictor = xgb_model.deploy(\n",
    "    initial_instance_count=1,\n",
    "    instance_type='ml.m5.large'\n",
    ")"
   ]
  },
  {
   "cell_type": "markdown",
   "metadata": {},
   "source": [
    "After this point we couldn't figure out how to make predictions."
   ]
  }
 ],
 "metadata": {
  "kernelspec": {
   "display_name": "conda_python3",
   "language": "python",
   "name": "conda_python3"
  },
  "language_info": {
   "codemirror_mode": {
    "name": "ipython",
    "version": 3
   },
   "file_extension": ".py",
   "mimetype": "text/x-python",
   "name": "python",
   "nbconvert_exporter": "python",
   "pygments_lexer": "ipython3",
   "version": "3.10.12"
  }
 },
 "nbformat": 4,
 "nbformat_minor": 4
}
