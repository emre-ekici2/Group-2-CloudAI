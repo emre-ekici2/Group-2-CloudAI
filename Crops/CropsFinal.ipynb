{
 "cells": [
  {
   "cell_type": "markdown",
   "metadata": {},
   "source": [
    "As with the titanic notebook, this notebook will also function as a report alongside our completed work. This notebook will also consist of 3 parts similar to the titanic notebook"
   ]
  },
  {
   "cell_type": "markdown",
   "metadata": {},
   "source": [
    "The EDA:"
   ]
  },
  {
   "cell_type": "markdown",
   "metadata": {},
   "source": [
    "As always, let's begin by installing/importing all the libraries we are going to be using."
   ]
  },
  {
   "cell_type": "code",
   "execution_count": 237,
   "metadata": {},
   "outputs": [],
   "source": [
    "#import libaries\n",
    "import pandas as pd\n",
    "import numpy as np\n",
    "import matplotlib.pyplot as plt\n",
    "import seaborn as sns\n",
    "from sklearn.preprocessing import OneHotEncoder\n",
    "from sklearn.linear_model import LinearRegression\n",
    "import plotly.express as px\n",
    "from sklearn.ensemble import RandomForestClassifier\n",
    "from sklearn.model_selection import train_test_split\n",
    "from sklearn.metrics import confusion_matrix, ConfusionMatrixDisplay\n",
    "from sklearn import metrics"
   ]
  },
  {
   "cell_type": "markdown",
   "metadata": {},
   "source": [
    "We will be loading data from an Excel file we renamed to \"crops.xlsx\" for ease of use, loading the data will be done using the Pandas library. We specify the sheet name as \"CropStats\" to read data from that specific sheet, as we felt like it held all the useful data. After loading the data, we display the first 10 rows of the DataFrame to get an initial look at the dataset, which allows us to quickly examine the structure and content of the dataset. It's essential for understanding the data before performing further analysis or preprocessing."
   ]
  },
  {
   "cell_type": "code",
   "execution_count": 238,
   "metadata": {},
   "outputs": [
    {
     "name": "stdout",
     "output_type": "stream",
     "text": [
      "First 10 rows:\n"
     ]
    },
    {
     "data": {
      "text/html": [
       "<div>\n",
       "<style scoped>\n",
       "    .dataframe tbody tr th:only-of-type {\n",
       "        vertical-align: middle;\n",
       "    }\n",
       "\n",
       "    .dataframe tbody tr th {\n",
       "        vertical-align: top;\n",
       "    }\n",
       "\n",
       "    .dataframe thead th {\n",
       "        text-align: right;\n",
       "    }\n",
       "</style>\n",
       "<table border=\"1\" class=\"dataframe\">\n",
       "  <thead>\n",
       "    <tr style=\"text-align: right;\">\n",
       "      <th></th>\n",
       "      <th>Unnamed: 0</th>\n",
       "      <th>Harvest_year</th>\n",
       "      <th>admin0</th>\n",
       "      <th>admin1</th>\n",
       "      <th>crop</th>\n",
       "      <th>hectares (ha)</th>\n",
       "      <th>production (tonnes)</th>\n",
       "      <th>year</th>\n",
       "      <th>yield(tonnes/ha)</th>\n",
       "      <th>admin2</th>\n",
       "      <th>notes</th>\n",
       "    </tr>\n",
       "  </thead>\n",
       "  <tbody>\n",
       "    <tr>\n",
       "      <th>0</th>\n",
       "      <td>0</td>\n",
       "      <td>1902</td>\n",
       "      <td>Austria</td>\n",
       "      <td>NaN</td>\n",
       "      <td>wheat</td>\n",
       "      <td>NaN</td>\n",
       "      <td>NaN</td>\n",
       "      <td>1902</td>\n",
       "      <td>1.31</td>\n",
       "      <td>NaN</td>\n",
       "      <td>NaN</td>\n",
       "    </tr>\n",
       "    <tr>\n",
       "      <th>1</th>\n",
       "      <td>1</td>\n",
       "      <td>1903</td>\n",
       "      <td>Austria</td>\n",
       "      <td>NaN</td>\n",
       "      <td>wheat</td>\n",
       "      <td>NaN</td>\n",
       "      <td>NaN</td>\n",
       "      <td>1903</td>\n",
       "      <td>1.47</td>\n",
       "      <td>NaN</td>\n",
       "      <td>NaN</td>\n",
       "    </tr>\n",
       "    <tr>\n",
       "      <th>2</th>\n",
       "      <td>2</td>\n",
       "      <td>1904</td>\n",
       "      <td>Austria</td>\n",
       "      <td>NaN</td>\n",
       "      <td>wheat</td>\n",
       "      <td>NaN</td>\n",
       "      <td>NaN</td>\n",
       "      <td>1904</td>\n",
       "      <td>1.27</td>\n",
       "      <td>NaN</td>\n",
       "      <td>NaN</td>\n",
       "    </tr>\n",
       "    <tr>\n",
       "      <th>3</th>\n",
       "      <td>3</td>\n",
       "      <td>1905</td>\n",
       "      <td>Austria</td>\n",
       "      <td>NaN</td>\n",
       "      <td>wheat</td>\n",
       "      <td>NaN</td>\n",
       "      <td>NaN</td>\n",
       "      <td>1905</td>\n",
       "      <td>1.33</td>\n",
       "      <td>NaN</td>\n",
       "      <td>NaN</td>\n",
       "    </tr>\n",
       "    <tr>\n",
       "      <th>4</th>\n",
       "      <td>4</td>\n",
       "      <td>1906</td>\n",
       "      <td>Austria</td>\n",
       "      <td>NaN</td>\n",
       "      <td>wheat</td>\n",
       "      <td>NaN</td>\n",
       "      <td>NaN</td>\n",
       "      <td>1906</td>\n",
       "      <td>1.28</td>\n",
       "      <td>NaN</td>\n",
       "      <td>NaN</td>\n",
       "    </tr>\n",
       "    <tr>\n",
       "      <th>5</th>\n",
       "      <td>5</td>\n",
       "      <td>1907</td>\n",
       "      <td>Austria</td>\n",
       "      <td>NaN</td>\n",
       "      <td>wheat</td>\n",
       "      <td>NaN</td>\n",
       "      <td>NaN</td>\n",
       "      <td>1907</td>\n",
       "      <td>1.37</td>\n",
       "      <td>NaN</td>\n",
       "      <td>NaN</td>\n",
       "    </tr>\n",
       "    <tr>\n",
       "      <th>6</th>\n",
       "      <td>6</td>\n",
       "      <td>1908</td>\n",
       "      <td>Austria</td>\n",
       "      <td>NaN</td>\n",
       "      <td>wheat</td>\n",
       "      <td>NaN</td>\n",
       "      <td>NaN</td>\n",
       "      <td>1908</td>\n",
       "      <td>1.36</td>\n",
       "      <td>NaN</td>\n",
       "      <td>NaN</td>\n",
       "    </tr>\n",
       "    <tr>\n",
       "      <th>7</th>\n",
       "      <td>7</td>\n",
       "      <td>1909</td>\n",
       "      <td>Austria</td>\n",
       "      <td>NaN</td>\n",
       "      <td>wheat</td>\n",
       "      <td>NaN</td>\n",
       "      <td>NaN</td>\n",
       "      <td>1909</td>\n",
       "      <td>1.35</td>\n",
       "      <td>NaN</td>\n",
       "      <td>NaN</td>\n",
       "    </tr>\n",
       "    <tr>\n",
       "      <th>8</th>\n",
       "      <td>8</td>\n",
       "      <td>1910</td>\n",
       "      <td>Austria</td>\n",
       "      <td>NaN</td>\n",
       "      <td>wheat</td>\n",
       "      <td>NaN</td>\n",
       "      <td>NaN</td>\n",
       "      <td>1910</td>\n",
       "      <td>1.18</td>\n",
       "      <td>NaN</td>\n",
       "      <td>NaN</td>\n",
       "    </tr>\n",
       "    <tr>\n",
       "      <th>9</th>\n",
       "      <td>9</td>\n",
       "      <td>1911</td>\n",
       "      <td>Austria</td>\n",
       "      <td>NaN</td>\n",
       "      <td>wheat</td>\n",
       "      <td>NaN</td>\n",
       "      <td>NaN</td>\n",
       "      <td>1911</td>\n",
       "      <td>1.37</td>\n",
       "      <td>NaN</td>\n",
       "      <td>NaN</td>\n",
       "    </tr>\n",
       "  </tbody>\n",
       "</table>\n",
       "</div>"
      ],
      "text/plain": [
       "   Unnamed: 0  Harvest_year   admin0 admin1   crop  hectares (ha)  \\\n",
       "0           0          1902  Austria    NaN  wheat            NaN   \n",
       "1           1          1903  Austria    NaN  wheat            NaN   \n",
       "2           2          1904  Austria    NaN  wheat            NaN   \n",
       "3           3          1905  Austria    NaN  wheat            NaN   \n",
       "4           4          1906  Austria    NaN  wheat            NaN   \n",
       "5           5          1907  Austria    NaN  wheat            NaN   \n",
       "6           6          1908  Austria    NaN  wheat            NaN   \n",
       "7           7          1909  Austria    NaN  wheat            NaN   \n",
       "8           8          1910  Austria    NaN  wheat            NaN   \n",
       "9           9          1911  Austria    NaN  wheat            NaN   \n",
       "\n",
       "   production (tonnes)  year  yield(tonnes/ha)  admin2 notes  \n",
       "0                  NaN  1902              1.31     NaN   NaN  \n",
       "1                  NaN  1903              1.47     NaN   NaN  \n",
       "2                  NaN  1904              1.27     NaN   NaN  \n",
       "3                  NaN  1905              1.33     NaN   NaN  \n",
       "4                  NaN  1906              1.28     NaN   NaN  \n",
       "5                  NaN  1907              1.37     NaN   NaN  \n",
       "6                  NaN  1908              1.36     NaN   NaN  \n",
       "7                  NaN  1909              1.35     NaN   NaN  \n",
       "8                  NaN  1910              1.18     NaN   NaN  \n",
       "9                  NaN  1911              1.37     NaN   NaN  "
      ]
     },
     "execution_count": 238,
     "metadata": {},
     "output_type": "execute_result"
    }
   ],
   "source": [
    "#loading our file\n",
    "df = pd.read_excel(\"../files/crops.xlsx\", sheet_name=\"CropStats\")\n",
    "\n",
    "#reading and displaying the first 10 rows\n",
    "print(\"First 10 rows:\")\n",
    "df.head(10)\n"
   ]
  },
  {
   "cell_type": "markdown",
   "metadata": {},
   "source": [
    "Now, we are reading and displaying the last 10 rows of the DataFrame loaded from the \"crops.xlsx\" Excel file, specifically from the \"CropStats\" sheet.\n",
    "\n",
    "This action provides insight into the end of the dataset, helping to ensure that we have a complete view of the data. Examining the last rows can be useful to check for any patterns or any deformities in the shape of our dataframe that might not be evident when looking at only the first rows."
   ]
  },
  {
   "cell_type": "markdown",
   "metadata": {},
   "source": [
    "Now let's check the details of our dataframe to see what we are working with."
   ]
  },
  {
   "cell_type": "code",
   "execution_count": 239,
   "metadata": {},
   "outputs": [
    {
     "name": "stdout",
     "output_type": "stream",
     "text": [
      "<class 'pandas.core.frame.DataFrame'>\n",
      "RangeIndex: 36707 entries, 0 to 36706\n",
      "Data columns (total 11 columns):\n",
      " #   Column               Non-Null Count  Dtype  \n",
      "---  ------               --------------  -----  \n",
      " 0   Unnamed: 0           36707 non-null  int64  \n",
      " 1   Harvest_year         36707 non-null  int64  \n",
      " 2   admin0               36707 non-null  object \n",
      " 3   admin1               33716 non-null  object \n",
      " 4   crop                 36707 non-null  object \n",
      " 5   hectares (ha)        35084 non-null  float64\n",
      " 6   production (tonnes)  34709 non-null  float64\n",
      " 7   year                 36707 non-null  int64  \n",
      " 8   yield(tonnes/ha)     34694 non-null  float64\n",
      " 9   admin2               0 non-null      float64\n",
      " 10  notes                5641 non-null   object \n",
      "dtypes: float64(4), int64(3), object(4)\n",
      "memory usage: 3.1+ MB\n"
     ]
    }
   ],
   "source": [
    "#check the columns and their dataypes\n",
    "df.info()"
   ]
  },
  {
   "cell_type": "markdown",
   "metadata": {},
   "source": [
    "It seems we have an admin2 column which is completely empty, also we have tons of missing values in the notes column as well. So let's drop the admin2 column and look at the notes column a bit more in detail to see if we can find anything useful in there. Also according to the docoumentation, the harvest_year and year columns are not the same. For the sake of this project, we will only use the harvest_year feature as that will actually be related to any insights we want to make, the year feature only pertains to the year in which the data was reported."
   ]
  },
  {
   "cell_type": "code",
   "execution_count": 240,
   "metadata": {},
   "outputs": [
    {
     "data": {
      "text/html": [
       "<div>\n",
       "<style scoped>\n",
       "    .dataframe tbody tr th:only-of-type {\n",
       "        vertical-align: middle;\n",
       "    }\n",
       "\n",
       "    .dataframe tbody tr th {\n",
       "        vertical-align: top;\n",
       "    }\n",
       "\n",
       "    .dataframe thead th {\n",
       "        text-align: right;\n",
       "    }\n",
       "</style>\n",
       "<table border=\"1\" class=\"dataframe\">\n",
       "  <thead>\n",
       "    <tr style=\"text-align: right;\">\n",
       "      <th></th>\n",
       "      <th>year</th>\n",
       "      <th>country</th>\n",
       "      <th>country_region</th>\n",
       "      <th>crop</th>\n",
       "      <th>hectares</th>\n",
       "      <th>production</th>\n",
       "      <th>yield</th>\n",
       "      <th>notes</th>\n",
       "    </tr>\n",
       "  </thead>\n",
       "  <tbody>\n",
       "    <tr>\n",
       "      <th>0</th>\n",
       "      <td>1902</td>\n",
       "      <td>Austria</td>\n",
       "      <td>NaN</td>\n",
       "      <td>wheat</td>\n",
       "      <td>NaN</td>\n",
       "      <td>NaN</td>\n",
       "      <td>1.31</td>\n",
       "      <td>NaN</td>\n",
       "    </tr>\n",
       "    <tr>\n",
       "      <th>1</th>\n",
       "      <td>1903</td>\n",
       "      <td>Austria</td>\n",
       "      <td>NaN</td>\n",
       "      <td>wheat</td>\n",
       "      <td>NaN</td>\n",
       "      <td>NaN</td>\n",
       "      <td>1.47</td>\n",
       "      <td>NaN</td>\n",
       "    </tr>\n",
       "    <tr>\n",
       "      <th>2</th>\n",
       "      <td>1904</td>\n",
       "      <td>Austria</td>\n",
       "      <td>NaN</td>\n",
       "      <td>wheat</td>\n",
       "      <td>NaN</td>\n",
       "      <td>NaN</td>\n",
       "      <td>1.27</td>\n",
       "      <td>NaN</td>\n",
       "    </tr>\n",
       "    <tr>\n",
       "      <th>3</th>\n",
       "      <td>1905</td>\n",
       "      <td>Austria</td>\n",
       "      <td>NaN</td>\n",
       "      <td>wheat</td>\n",
       "      <td>NaN</td>\n",
       "      <td>NaN</td>\n",
       "      <td>1.33</td>\n",
       "      <td>NaN</td>\n",
       "    </tr>\n",
       "    <tr>\n",
       "      <th>4</th>\n",
       "      <td>1906</td>\n",
       "      <td>Austria</td>\n",
       "      <td>NaN</td>\n",
       "      <td>wheat</td>\n",
       "      <td>NaN</td>\n",
       "      <td>NaN</td>\n",
       "      <td>1.28</td>\n",
       "      <td>NaN</td>\n",
       "    </tr>\n",
       "  </tbody>\n",
       "</table>\n",
       "</div>"
      ],
      "text/plain": [
       "   year  country country_region   crop  hectares  production  yield notes\n",
       "0  1902  Austria            NaN  wheat       NaN         NaN   1.31   NaN\n",
       "1  1903  Austria            NaN  wheat       NaN         NaN   1.47   NaN\n",
       "2  1904  Austria            NaN  wheat       NaN         NaN   1.27   NaN\n",
       "3  1905  Austria            NaN  wheat       NaN         NaN   1.33   NaN\n",
       "4  1906  Austria            NaN  wheat       NaN         NaN   1.28   NaN"
      ]
     },
     "execution_count": 240,
     "metadata": {},
     "output_type": "execute_result"
    }
   ],
   "source": [
    "#dropping columns\n",
    "df = df.drop('admin2', axis=1)\n",
    "df = df.drop('year', axis=1)\n",
    "df = df.drop('Unnamed: 0', axis=1)\n",
    "\n",
    "\n",
    "#renaming columns to make it easier for us\n",
    "df.rename(columns={\n",
    "    'admin0' : 'country',\n",
    "    'admin1' : 'country_region',\n",
    "    'Harvest_year' : 'year',\n",
    "    'yield(tonnes/ha)' : 'yield',\n",
    "    'hectares (ha)' : 'hectares',\n",
    "    'production (tonnes)' : 'production'}, inplace=True)\n",
    "\n",
    "df.head()"
   ]
  },
  {
   "cell_type": "code",
   "execution_count": 241,
   "metadata": {},
   "outputs": [],
   "source": [
    "\n",
    "# # Assuming you have a DataFrame called df\n",
    "# non_identical_rows = []  # To store indices of rows with non-identical information\n",
    "\n",
    "# # Loop through the rows in the DataFrame\n",
    "# for index, row in df.iterrows():\n",
    "#     harvest_year = row['Harvest_year']\n",
    "#     year = row['year']\n",
    "    \n",
    "#     # Check if the values in \"harvest_year\" and \"year\" columns are not identical\n",
    "#     if harvest_year != year:\n",
    "#         non_identical_rows.append(index)\n",
    "\n",
    "# # Check if there are any rows with non-identical information\n",
    "# if len(non_identical_rows) > 0:\n",
    "#     print(\"Rows with non-identical 'harvest_year' and 'year' information:\")\n",
    "#     for index in non_identical_rows:\n",
    "#         print(f\"Row {index}: 'harvest_year' = {df.at[index, 'Harvest_year']}, 'year' = {df.at[index, 'year']}\")\n",
    "# else:\n",
    "#     print(\"All rows have identical 'harvest_year' and 'year' information.\")\n"
   ]
  },
  {
   "cell_type": "markdown",
   "metadata": {},
   "source": [
    "Now let's also take a closer look into the notes column to see if there is any relevant information for us there."
   ]
  },
  {
   "cell_type": "code",
   "execution_count": 242,
   "metadata": {},
   "outputs": [
    {
     "data": {
      "text/plain": [
       "INSEE code 52                                                         238\n",
       "INSEE code 11                                                         238\n",
       "INSEE code 93                                                         238\n",
       "INSEE code 91                                                         238\n",
       "INSEE code 83                                                         238\n",
       "INSEE code 82                                                         238\n",
       "INSEE code 74                                                         238\n",
       "INSEE code 73                                                         238\n",
       "INSEE code 72                                                         238\n",
       "INSEE code 54                                                         238\n",
       "INSEE code 53                                                         238\n",
       "INSEE code 43                                                         238\n",
       "INSEE code 42                                                         238\n",
       "INSEE code 41                                                         238\n",
       "INSEE code 31                                                         238\n",
       "INSEE code 26                                                         238\n",
       "INSEE code 25                                                         238\n",
       "INSEE code 24                                                         238\n",
       "INSEE code 23                                                         238\n",
       "INSEE code 22                                                         238\n",
       "INSEE code 21                                                         238\n",
       "INSEE code 94                                                         238\n",
       "Hebei, Beijing, Tianjin, Liaoning, Jilin, Heilongjiang, Nei Mongol    174\n",
       "Sichuan, Xizang, Chongqing                                            174\n",
       "FAO country level data                                                 57\n",
       "Name: notes, dtype: int64"
      ]
     },
     "execution_count": 242,
     "metadata": {},
     "output_type": "execute_result"
    }
   ],
   "source": [
    "df['notes'].value_counts()"
   ]
  },
  {
   "cell_type": "markdown",
   "metadata": {},
   "source": [
    "It seems that the notes column has information in regards to the 'country region' column we have renamed. Let's check the country_region column and notes columns together to see if there are any missing values in the region column we could fill in with the notes."
   ]
  },
  {
   "cell_type": "code",
   "execution_count": 243,
   "metadata": {},
   "outputs": [
    {
     "name": "stdout",
     "output_type": "stream",
     "text": [
      "Row 5532: 'country_region' is NaN, but 'notes' is not NaN.\n",
      "Row 5533: 'country_region' is NaN, but 'notes' is not NaN.\n",
      "Row 5534: 'country_region' is NaN, but 'notes' is not NaN.\n",
      "Row 5535: 'country_region' is NaN, but 'notes' is not NaN.\n",
      "Row 5536: 'country_region' is NaN, but 'notes' is not NaN.\n",
      "Row 5537: 'country_region' is NaN, but 'notes' is not NaN.\n",
      "Row 5538: 'country_region' is NaN, but 'notes' is not NaN.\n",
      "Row 5539: 'country_region' is NaN, but 'notes' is not NaN.\n",
      "Row 5540: 'country_region' is NaN, but 'notes' is not NaN.\n",
      "Row 5541: 'country_region' is NaN, but 'notes' is not NaN.\n",
      "Row 5542: 'country_region' is NaN, but 'notes' is not NaN.\n",
      "Row 5543: 'country_region' is NaN, but 'notes' is not NaN.\n",
      "Row 5544: 'country_region' is NaN, but 'notes' is not NaN.\n",
      "Row 5545: 'country_region' is NaN, but 'notes' is not NaN.\n",
      "Row 5546: 'country_region' is NaN, but 'notes' is not NaN.\n",
      "Row 5547: 'country_region' is NaN, but 'notes' is not NaN.\n",
      "Row 5548: 'country_region' is NaN, but 'notes' is not NaN.\n",
      "Row 5549: 'country_region' is NaN, but 'notes' is not NaN.\n",
      "Row 5550: 'country_region' is NaN, but 'notes' is not NaN.\n",
      "Row 5551: 'country_region' is NaN, but 'notes' is not NaN.\n",
      "Row 5552: 'country_region' is NaN, but 'notes' is not NaN.\n",
      "Row 5553: 'country_region' is NaN, but 'notes' is not NaN.\n",
      "Row 5554: 'country_region' is NaN, but 'notes' is not NaN.\n",
      "Row 5555: 'country_region' is NaN, but 'notes' is not NaN.\n",
      "Row 5556: 'country_region' is NaN, but 'notes' is not NaN.\n",
      "Row 5557: 'country_region' is NaN, but 'notes' is not NaN.\n",
      "Row 5558: 'country_region' is NaN, but 'notes' is not NaN.\n",
      "Row 5559: 'country_region' is NaN, but 'notes' is not NaN.\n",
      "Row 5560: 'country_region' is NaN, but 'notes' is not NaN.\n",
      "Row 5561: 'country_region' is NaN, but 'notes' is not NaN.\n",
      "Row 5562: 'country_region' is NaN, but 'notes' is not NaN.\n",
      "Row 5563: 'country_region' is NaN, but 'notes' is not NaN.\n",
      "Row 5564: 'country_region' is NaN, but 'notes' is not NaN.\n",
      "Row 5565: 'country_region' is NaN, but 'notes' is not NaN.\n",
      "Row 5566: 'country_region' is NaN, but 'notes' is not NaN.\n",
      "Row 5567: 'country_region' is NaN, but 'notes' is not NaN.\n",
      "Row 5568: 'country_region' is NaN, but 'notes' is not NaN.\n",
      "Row 5569: 'country_region' is NaN, but 'notes' is not NaN.\n",
      "Row 5570: 'country_region' is NaN, but 'notes' is not NaN.\n",
      "Row 5571: 'country_region' is NaN, but 'notes' is not NaN.\n",
      "Row 5572: 'country_region' is NaN, but 'notes' is not NaN.\n",
      "Row 5573: 'country_region' is NaN, but 'notes' is not NaN.\n",
      "Row 5574: 'country_region' is NaN, but 'notes' is not NaN.\n",
      "Row 5575: 'country_region' is NaN, but 'notes' is not NaN.\n",
      "Row 5576: 'country_region' is NaN, but 'notes' is not NaN.\n",
      "Row 5577: 'country_region' is NaN, but 'notes' is not NaN.\n",
      "Row 5578: 'country_region' is NaN, but 'notes' is not NaN.\n",
      "Row 5579: 'country_region' is NaN, but 'notes' is not NaN.\n",
      "Row 5580: 'country_region' is NaN, but 'notes' is not NaN.\n",
      "Row 5581: 'country_region' is NaN, but 'notes' is not NaN.\n",
      "Row 5582: 'country_region' is NaN, but 'notes' is not NaN.\n",
      "Row 5583: 'country_region' is NaN, but 'notes' is not NaN.\n",
      "Row 5584: 'country_region' is NaN, but 'notes' is not NaN.\n",
      "Row 5585: 'country_region' is NaN, but 'notes' is not NaN.\n",
      "Row 5586: 'country_region' is NaN, but 'notes' is not NaN.\n",
      "Row 5587: 'country_region' is NaN, but 'notes' is not NaN.\n",
      "Row 5588: 'country_region' is NaN, but 'notes' is not NaN.\n"
     ]
    }
   ],
   "source": [
    "for index, row in df.iterrows():\n",
    "    country_region = row['country_region']\n",
    "    notes = row['notes']\n",
    "    \n",
    "    if pd.isna(country_region) and not pd.isna(notes):\n",
    "        print(f\"Row {index}: 'country_region' is NaN, but 'notes' is not NaN.\")"
   ]
  },
  {
   "cell_type": "markdown",
   "metadata": {},
   "source": [
    "After looking at the spreadsheet manually as well, we have decided that the notes column is not worth using for our predictions/forecasts."
   ]
  },
  {
   "cell_type": "code",
   "execution_count": 244,
   "metadata": {},
   "outputs": [],
   "source": [
    "df = df.drop('notes', axis=1)\n"
   ]
  },
  {
   "cell_type": "markdown",
   "metadata": {},
   "source": [
    "Now let's handle the missing values in our data. Let's just get a quick overview about how much of what information we are missing out on."
   ]
  },
  {
   "cell_type": "code",
   "execution_count": 245,
   "metadata": {},
   "outputs": [
    {
     "data": {
      "image/png": "[encoded data removed]",
      "text/plain": [
       "<Figure size 1000x600 with 1 Axes>"
      ]
     },
     "metadata": {},
     "output_type": "display_data"
    }
   ],
   "source": [
    "\n",
    "# Count the number of missing values in each column\n",
    "missing_values = df.isnull().sum()\n",
    "\n",
    "# Filter columns with missing values\n",
    "missing_values = missing_values[missing_values > 0]\n",
    "missing_values = missing_values.sort_values(ascending=False)\n",
    "\n",
    "# Create a bar chart for columns with missing values\n",
    "plt.figure(figsize=(10, 6))\n",
    "missing_values.plot(kind='bar', color='lightcoral')\n",
    "plt.title(\"Number of Missing Values in Columns\")\n",
    "plt.ylabel(\"Count of Missing Values\")\n",
    "plt.xticks(rotation=45)\n",
    "plt.show()\n"
   ]
  },
  {
   "cell_type": "markdown",
   "metadata": {},
   "source": [
    "Honestly, we could just drop every row with missing values and our dataset would probably not suffer too much as we have so many rows. Regardless, let's not do that and instead let's figure out a way in which we can handle these in the most logical way possible."
   ]
  },
  {
   "cell_type": "markdown",
   "metadata": {},
   "source": [
    "First off let's begin with country_region, we've decided the best way to handle this is just to assign unspecified country_region's the value of unspecified."
   ]
  },
  {
   "cell_type": "code",
   "execution_count": 246,
   "metadata": {},
   "outputs": [],
   "source": [
    "df['country_region'].fillna(\"Not specified\", inplace=True)"
   ]
  },
  {
   "cell_type": "markdown",
   "metadata": {},
   "source": [
    "Also let's drop every row where all three of these columns are blank, as we have no reliable way of making predictions if they have no information at all."
   ]
  },
  {
   "cell_type": "code",
   "execution_count": 247,
   "metadata": {},
   "outputs": [],
   "source": [
    "df = df.dropna(subset=['production', 'yield', 'hectares'], how='all')\n"
   ]
  },
  {
   "cell_type": "code",
   "execution_count": 248,
   "metadata": {},
   "outputs": [
    {
     "data": {
      "image/png": "[encoded data removed]",
      "text/plain": [
       "<Figure size 1000x600 with 1 Axes>"
      ]
     },
     "metadata": {},
     "output_type": "display_data"
    }
   ],
   "source": [
    "\n",
    "# Count the number of missing values in each column\n",
    "missing_values = df.isnull().sum()\n",
    "\n",
    "# Filter columns with missing values\n",
    "missing_values = missing_values[missing_values > 0]\n",
    "missing_values = missing_values.sort_values(ascending=False)\n",
    "\n",
    "# Create a bar chart for columns with missing values\n",
    "plt.figure(figsize=(10, 6))\n",
    "missing_values.plot(kind='bar', color='lightcoral')\n",
    "plt.title(\"Number of Missing Values in Columns\")\n",
    "plt.ylabel(\"Count of Missing Values\")\n",
    "plt.xticks(rotation=45)\n",
    "plt.show()\n"
   ]
  },
  {
   "cell_type": "markdown",
   "metadata": {},
   "source": [
    "Now we need to decide how to fill in the values for the remaining 3 columns. These columns are all kind of related to each other so we should take this into account as well (production = yield * hectares)."
   ]
  },
  {
   "cell_type": "markdown",
   "metadata": {},
   "source": [
    "Let's see if we can decide which of these columns would be the easiest to average out. To do this, we can check for the column with the lowest coefficient of variation."
   ]
  },
  {
   "cell_type": "code",
   "execution_count": 249,
   "metadata": {},
   "outputs": [
    {
     "name": "stdout",
     "output_type": "stream",
     "text": [
      "Column with the smallest coefficient of variation:\n",
      "column                      hectares\n",
      "coefficient_of_variation    5.865151\n",
      "Name: 5, dtype: object\n"
     ]
    }
   ],
   "source": [
    "# Create a list to store DataFrames for each column\n",
    "result_dfs = []\n",
    "\n",
    "# Loop through unique countries\n",
    "for country in df['country'].unique():\n",
    "    # Filter the DataFrame for the specific country\n",
    "    country_df = df[df['country'] == country]\n",
    "    \n",
    "    # Calculate the coefficient of variation for each column\n",
    "    cv_production = (country_df['production'].std() / country_df['production'].mean()) * 100\n",
    "    cv_yield = (country_df['yield'].std() / country_df['yield'].mean()) * 100\n",
    "    cv_hectares = (country_df['hectares'].std() / country_df['hectares'].mean()) * 100\n",
    "    \n",
    "    # Create DataFrames for each column and store in the list\n",
    "    result_dfs.append(pd.DataFrame({'column': ['production'], 'coefficient_of_variation': [cv_production]}))\n",
    "    result_dfs.append(pd.DataFrame({'column': ['yield'], 'coefficient_of_variation': [cv_yield]}))\n",
    "    result_dfs.append(pd.DataFrame({'column': ['hectares'], 'coefficient_of_variation': [cv_hectares]}))\n",
    "\n",
    "# Concatenate the DataFrames in the list into a single result DataFrame\n",
    "result_df = pd.concat(result_dfs, ignore_index=True)\n",
    "\n",
    "# Find the column with the smallest coefficient of variation\n",
    "min_cv_column = result_df.loc[result_df['coefficient_of_variation'].idxmin()]\n",
    "\n",
    "# Display the result\n",
    "print(\"Column with the smallest coefficient of variation:\")\n",
    "print(min_cv_column)\n"
   ]
  },
  {
   "cell_type": "markdown",
   "metadata": {},
   "source": [
    "It seems that the hectares column has the smallest coefficient of variation. Which makes sense when we think about it as you cannot 'grow' more land. The land a country has is finite and not expandable (at least not like before). So let's fill in the missing values for hectares by grabbing the average of the countries."
   ]
  },
  {
   "cell_type": "code",
   "execution_count": 250,
   "metadata": {},
   "outputs": [],
   "source": [
    "def fill_average_hectares(row):\n",
    "    year = row['year']\n",
    "    country = row['country']\n",
    "    # left out part of the condition because some countries did not have data for it\n",
    "    condition = (df['country'] == country) # & (df['year'] < 1940 if year < 1940 else df['year'] >= 1940)\n",
    "    average_ha = df.loc[condition, 'hectares'].mean()\n",
    "    return average_ha\n",
    "\n",
    "# Fill missing values in 'hectares' based on the calculated averages\n",
    "df['hectares'] = df.apply(lambda row: fill_average_hectares(row) if pd.isna(row['hectares']) else row['hectares'], axis=1)\n"
   ]
  },
  {
   "cell_type": "markdown",
   "metadata": {},
   "source": [
    "Now that we have the hectares column filled out for each row, we can move on to handling the production and yield columns. Let's visualize these fields to get an idea of how we can do this."
   ]
  },
  {
   "cell_type": "code",
   "execution_count": 251,
   "metadata": {},
   "outputs": [
    {
     "name": "stderr",
     "output_type": "stream",
     "text": [
      "C:\\Users\\emree\\AppData\\Local\\Temp\\ipykernel_12720\\3316951442.py:1: FutureWarning:\n",
      "\n",
      "The default value of numeric_only in DataFrame.corr is deprecated. In a future version, it will default to False. Select only valid columns or specify the value of numeric_only to silence this warning.\n",
      "\n"
     ]
    },
    {
     "data": {
      "image/png": "[encoded data removed]",
      "text/plain": [
       "<Figure size 640x480 with 2 Axes>"
      ]
     },
     "metadata": {},
     "output_type": "display_data"
    }
   ],
   "source": [
    "correlation_matrix = df.corr()\n",
    "sns.heatmap(correlation_matrix, annot=True, cmap=\"coolwarm\")\n",
    "plt.title(\"Correlation Matrix\")\n",
    "plt.show()"
   ]
  },
  {
   "cell_type": "markdown",
   "metadata": {},
   "source": [
    "as it seems that production and hectares have a high correlation, let's use the hectares column to assist in filling in missing values for our production column. To do this, let's use a linear regression model and use that model to make predictions on the production column. Then we can fill in the missing values using our predictions."
   ]
  },
  {
   "cell_type": "code",
   "execution_count": 252,
   "metadata": {},
   "outputs": [
    {
     "data": {
      "text/html": [
       "<style>#sk-container-id-7 {color: black;}#sk-container-id-7 pre{padding: 0;}#sk-container-id-7 div.sk-toggleable {background-color: white;}#sk-container-id-7 label.sk-toggleable__label {cursor: pointer;display: block;width: 100%;margin-bottom: 0;padding: 0.3em;box-sizing: border-box;text-align: center;}#sk-container-id-7 label.sk-toggleable__label-arrow:before {content: \"▸\";float: left;margin-right: 0.25em;color: #696969;}#sk-container-id-7 label.sk-toggleable__label-arrow:hover:before {color: black;}#sk-container-id-7 div.sk-estimator:hover label.sk-toggleable__label-arrow:before {color: black;}#sk-container-id-7 div.sk-toggleable__content {max-height: 0;max-width: 0;overflow: hidden;text-align: left;background-color: #f0f8ff;}#sk-container-id-7 div.sk-toggleable__content pre {margin: 0.2em;color: black;border-radius: 0.25em;background-color: #f0f8ff;}#sk-container-id-7 input.sk-toggleable__control:checked~div.sk-toggleable__content {max-height: 200px;max-width: 100%;overflow: auto;}#sk-container-id-7 input.sk-toggleable__control:checked~label.sk-toggleable__label-arrow:before {content: \"▾\";}#sk-container-id-7 div.sk-estimator input.sk-toggleable__control:checked~label.sk-toggleable__label {background-color: #d4ebff;}#sk-container-id-7 div.sk-label input.sk-toggleable__control:checked~label.sk-toggleable__label {background-color: #d4ebff;}#sk-container-id-7 input.sk-hidden--visually {border: 0;clip: rect(1px 1px 1px 1px);clip: rect(1px, 1px, 1px, 1px);height: 1px;margin: -1px;overflow: hidden;padding: 0;position: absolute;width: 1px;}#sk-container-id-7 div.sk-estimator {font-family: monospace;background-color: #f0f8ff;border: 1px dotted black;border-radius: 0.25em;box-sizing: border-box;margin-bottom: 0.5em;}#sk-container-id-7 div.sk-estimator:hover {background-color: #d4ebff;}#sk-container-id-7 div.sk-parallel-item::after {content: \"\";width: 100%;border-bottom: 1px solid gray;flex-grow: 1;}#sk-container-id-7 div.sk-label:hover label.sk-toggleable__label {background-color: #d4ebff;}#sk-container-id-7 div.sk-serial::before {content: \"\";position: absolute;border-left: 1px solid gray;box-sizing: border-box;top: 0;bottom: 0;left: 50%;z-index: 0;}#sk-container-id-7 div.sk-serial {display: flex;flex-direction: column;align-items: center;background-color: white;padding-right: 0.2em;padding-left: 0.2em;position: relative;}#sk-container-id-7 div.sk-item {position: relative;z-index: 1;}#sk-container-id-7 div.sk-parallel {display: flex;align-items: stretch;justify-content: center;background-color: white;position: relative;}#sk-container-id-7 div.sk-item::before, #sk-container-id-7 div.sk-parallel-item::before {content: \"\";position: absolute;border-left: 1px solid gray;box-sizing: border-box;top: 0;bottom: 0;left: 50%;z-index: -1;}#sk-container-id-7 div.sk-parallel-item {display: flex;flex-direction: column;z-index: 1;position: relative;background-color: white;}#sk-container-id-7 div.sk-parallel-item:first-child::after {align-self: flex-end;width: 50%;}#sk-container-id-7 div.sk-parallel-item:last-child::after {align-self: flex-start;width: 50%;}#sk-container-id-7 div.sk-parallel-item:only-child::after {width: 0;}#sk-container-id-7 div.sk-dashed-wrapped {border: 1px dashed gray;margin: 0 0.4em 0.5em 0.4em;box-sizing: border-box;padding-bottom: 0.4em;background-color: white;}#sk-container-id-7 div.sk-label label {font-family: monospace;font-weight: bold;display: inline-block;line-height: 1.2em;}#sk-container-id-7 div.sk-label-container {text-align: center;}#sk-container-id-7 div.sk-container {/* jupyter's `normalize.less` sets `[hidden] { display: none; }` but bootstrap.min.css set `[hidden] { display: none !important; }` so we also need the `!important` here to be able to override the default hidden behavior on the sphinx rendered scikit-learn.org. See: https://github.com/scikit-learn/scikit-learn/issues/21755 */display: inline-block !important;position: relative;}#sk-container-id-7 div.sk-text-repr-fallback {display: none;}</style><div id=\"sk-container-id-7\" class=\"sk-top-container\"><div class=\"sk-text-repr-fallback\"><pre>LinearRegression()</pre><b>In a Jupyter environment, please rerun this cell to show the HTML representation or trust the notebook. <br />On GitHub, the HTML representation is unable to render, please try loading this page with nbviewer.org.</b></div><div class=\"sk-container\" hidden><div class=\"sk-item\"><div class=\"sk-estimator sk-toggleable\"><input class=\"sk-toggleable__control sk-hidden--visually\" id=\"sk-estimator-id-7\" type=\"checkbox\" checked><label for=\"sk-estimator-id-7\" class=\"sk-toggleable__label sk-toggleable__label-arrow\">LinearRegression</label><div class=\"sk-toggleable__content\"><pre>LinearRegression()</pre></div></div></div></div></div>"
      ],
      "text/plain": [
       "LinearRegression()"
      ]
     },
     "execution_count": 252,
     "metadata": {},
     "output_type": "execute_result"
    }
   ],
   "source": [
    "df2 = df.dropna(subset=['production'])\n",
    "\n",
    "X = df2[['hectares']]\n",
    "y = df2[['production']]\n",
    "\n",
    "model = LinearRegression()\n",
    "model.fit(X, y)"
   ]
  },
  {
   "cell_type": "code",
   "execution_count": 253,
   "metadata": {},
   "outputs": [],
   "source": [
    "missing_data = df[df['production'].isnull()]\n",
    "predictions = model.predict(missing_data[['hectares']])\n",
    "\n",
    "# Fill in missing data with predictions\n",
    "df.loc[df['production'].isnull(), 'production'] = predictions"
   ]
  },
  {
   "cell_type": "code",
   "execution_count": 254,
   "metadata": {},
   "outputs": [],
   "source": [
    "# correlation_matrix = df.corr()\n",
    "# sns.heatmap(correlation_matrix, annot=True, cmap=\"coolwarm\")\n",
    "# plt.title(\"Correlation Matrix\")\n",
    "# plt.show()"
   ]
  },
  {
   "cell_type": "markdown",
   "metadata": {},
   "source": [
    "And finally, let's handle the missing values in the yield column by just calculating the yield based on the hectares and production columns."
   ]
  },
  {
   "cell_type": "code",
   "execution_count": 255,
   "metadata": {},
   "outputs": [],
   "source": [
    "def fill_missing_yield(row):\n",
    "    yield_per_ha = row['yield']\n",
    "    if pd.isna(yield_per_ha):\n",
    "        hectares = row['hectares']\n",
    "        production = row['production']\n",
    "        if production == 0:\n",
    "            return 0\n",
    "        if pd.notna(hectares) and pd.notna(production):\n",
    "            return hectares / production\n",
    "    return yield_per_ha\n",
    "\n",
    "# Apply the function to fill missing values in 'yield'\n",
    "df['yield'] = df.apply(fill_missing_yield, axis=1)"
   ]
  },
  {
   "cell_type": "code",
   "execution_count": 256,
   "metadata": {},
   "outputs": [
    {
     "data": {
      "text/plain": [
       "year              False\n",
       "country           False\n",
       "country_region    False\n",
       "crop              False\n",
       "hectares          False\n",
       "production        False\n",
       "yield             False\n",
       "dtype: bool"
      ]
     },
     "execution_count": 256,
     "metadata": {},
     "output_type": "execute_result"
    }
   ],
   "source": [
    "df.isna().any()"
   ]
  },
  {
   "cell_type": "markdown",
   "metadata": {},
   "source": [
    "Now that our data is cleaned up a bit, let's take a closer look into it and see what interesting things we can pick up."
   ]
  },
  {
   "cell_type": "code",
   "execution_count": 257,
   "metadata": {},
   "outputs": [
    {
     "name": "stderr",
     "output_type": "stream",
     "text": [
      "C:\\Users\\emree\\AppData\\Local\\Temp\\ipykernel_12720\\515019979.py:39: UserWarning:\n",
      "\n",
      "set_ticklabels() should only be used with a fixed number of ticks, i.e. after set_ticks() or using a FixedLocator.\n",
      "\n",
      "C:\\Users\\emree\\AppData\\Local\\Temp\\ipykernel_12720\\515019979.py:40: UserWarning:\n",
      "\n",
      "set_ticklabels() should only be used with a fixed number of ticks, i.e. after set_ticks() or using a FixedLocator.\n",
      "\n",
      "C:\\Users\\emree\\AppData\\Local\\Temp\\ipykernel_12720\\515019979.py:41: UserWarning:\n",
      "\n",
      "set_ticklabels() should only be used with a fixed number of ticks, i.e. after set_ticks() or using a FixedLocator.\n",
      "\n"
     ]
    },
    {
     "data": {
      "image/png": "[encoded data removed]",
      "text/plain": [
       "<Figure size 1000x1200 with 3 Axes>"
      ]
     },
     "metadata": {},
     "output_type": "display_data"
    }
   ],
   "source": [
    "# Determine the minimum and maximum years for binning\n",
    "min_year = df['year'].min()\n",
    "max_year = df['year'].max()\n",
    "\n",
    "# Create 10 equal bins with rounded edges\n",
    "num_bins = 10\n",
    "bin_width = (max_year - min_year) / num_bins\n",
    "bin_edges = [min_year + i * bin_width for i in range(num_bins + 1)]\n",
    "\n",
    "# Create the 'year_bin' column with binned values\n",
    "df['year_bin'] = pd.cut(df['year'], bins=bin_edges, include_lowest=True, right=False)\n",
    "\n",
    "# Group data by 'year_bin' and calculate the mean yield, mean hectares, and mean production for each bin\n",
    "binned_yield = df.groupby('year_bin')['yield'].mean()\n",
    "binned_hectares = df.groupby('year_bin')['hectares'].mean()\n",
    "binned_production = df.groupby('year_bin')['production'].mean()\n",
    "\n",
    "# Convert the 'year_bin' labels to strings\n",
    "bin_labels = [f\"{int(b.left)}-{int(b.right)}\" for b in binned_yield.index]\n",
    "\n",
    "# Create a figure with three subplots\n",
    "fig, (ax1, ax2, ax3) = plt.subplots(3, 1, figsize=(10, 12))\n",
    "\n",
    "# Plot the binned yield data on the first subplot\n",
    "ax1.plot(bin_labels, binned_yield.values)\n",
    "ax1.set_ylabel('Average Yield (tonnes/ha)')\n",
    "ax1.set_title('Change in Crop Yield, Hectares, and Production Over Time')\n",
    "\n",
    "# Plot the binned hectares data on the second subplot\n",
    "ax2.plot(bin_labels, binned_hectares.values, color='orange')\n",
    "ax2.set_ylabel('Average Hectares (ha)')\n",
    "\n",
    "# Plot the binned production data on the third subplot\n",
    "ax3.plot(bin_labels, binned_production.values, color='green')\n",
    "ax3.set_xlabel('Year Bins')\n",
    "ax3.set_ylabel('Average Production (tonnes)')\n",
    "\n",
    "# Rotate x-axis labels for readability in all subplots\n",
    "ax1.set_xticklabels(bin_labels, rotation=45)\n",
    "ax2.set_xticklabels(bin_labels, rotation=45)\n",
    "ax3.set_xticklabels(bin_labels, rotation=45)\n",
    "\n",
    "# Adjust spacing between subplots\n",
    "plt.tight_layout()\n",
    "\n",
    "# Show the subplots\n",
    "plt.show()"
   ]
  },
  {
   "cell_type": "markdown",
   "metadata": {},
   "source": [
    "It seems that the hectares didn't really have an effect on the yield, in this case we can call yield something along the lines of efficiency as it would refer to the amount of production made in the same sized area. So it seems that around the end of the 1940's is when the farmers began utilizing different methods and technologies to improve their yield. Let's see which countries benefited the most from this."
   ]
  },
  {
   "cell_type": "code",
   "execution_count": 258,
   "metadata": {},
   "outputs": [
    {
     "name": "stdout",
     "output_type": "stream",
     "text": [
      "Top 5 countries with the highest average yield per hectare before 1940:\n",
      "country\n",
      "Belgium           2.513667\n",
      "United Kingdom    2.354909\n",
      "Canada            1.964231\n",
      "Sweden            1.878030\n",
      "Netherlands       1.824736\n",
      "Name: yield, dtype: float64\n",
      "\n",
      "Top 5 countries with the highest average yield per hectare after 1940:\n",
      "country\n",
      "Belgium           5.872049\n",
      "United Kingdom    5.499650\n",
      "Netherlands       5.456331\n",
      "France            4.845740\n",
      "Chile             4.059439\n",
      "Name: yield, dtype: float64\n"
     ]
    }
   ],
   "source": [
    "# Filter data before and after 1940\n",
    "df_before_1940 = df[df['year'] < 1940]\n",
    "df_after_1940 = df[df['year'] >= 1940]\n",
    "\n",
    "# Calculate the average yield for each country before and after 1940\n",
    "average_yield_before_1940 = df_before_1940.groupby('country')['yield'].mean()\n",
    "average_yield_after_1940 = df_after_1940.groupby('country')['yield'].mean()\n",
    "\n",
    "# Get the top 5 countries with the highest average yield before and after 1940\n",
    "top_5_before_1940 = average_yield_before_1940.nlargest(5)\n",
    "top_5_after_1940 = average_yield_after_1940.nlargest(5)\n",
    "\n",
    "# Print the results\n",
    "print(\"Top 5 countries with the highest average yield per hectare before 1940:\")\n",
    "print(top_5_before_1940)\n",
    "\n",
    "print(\"\\nTop 5 countries with the highest average yield per hectare after 1940:\")\n",
    "print(top_5_after_1940)"
   ]
  },
  {
   "cell_type": "code",
   "execution_count": 259,
   "metadata": {},
   "outputs": [
    {
     "data": {
      "image/png": "[encoded data removed]",
      "text/plain": [
       "<Figure size 1200x600 with 2 Axes>"
      ]
     },
     "metadata": {},
     "output_type": "display_data"
    }
   ],
   "source": [
    "max_value = max(top_5_before_1940.max(), top_5_after_1940.max())\n",
    "\n",
    "# Create bar charts to visualize the data\n",
    "plt.figure(figsize=(12, 6))\n",
    "plt.subplot(1, 2, 1)\n",
    "plt.bar(top_5_before_1940.index, top_5_before_1940)\n",
    "plt.xlabel('Country')\n",
    "plt.ylabel('Average Yield (tonnes/ha)')\n",
    "plt.title('Top 5 \"Efficient\" Countries Before 1940')\n",
    "plt.ylim(0, max_value + 1)  \n",
    "\n",
    "\n",
    "plt.subplot(1, 2, 2)\n",
    "plt.bar(top_5_after_1940.index, top_5_after_1940)\n",
    "plt.xlabel('Country')\n",
    "plt.ylabel('Average Yield (tonnes/ha)')\n",
    "plt.title('Top 5 \"Efficient\" Countries After 1940')\n",
    "plt.ylim(0, max_value + 1)  \n",
    "\n",
    "plt\n",
    "plt.tight_layout()\n",
    "plt.show()"
   ]
  },
  {
   "cell_type": "code",
   "execution_count": 260,
   "metadata": {},
   "outputs": [
    {
     "data": {
      "application/vnd.plotly.v1+json": {
       "config": {
        "plotlyServerURL": "https://plot.ly"
       },
       "data": [
        {
         "hovertemplate": "<b>%{hovertext}</b><br><br>Country=Australia<br>year=%{x}<br>yield=%{y}<extra></extra>",
         "hovertext": [
          "Australia",
          "Australia",
          "Australia",
          "Australia",
          "Australia",
          "Australia",
          "Australia",
          "Australia",
          "Australia",
          "Australia",
          "Australia",
          "Australia",
          "Australia",
          "Australia",
          "Australia",
          "Australia",
          "Australia",
          "Australia",
          "Australia",
          "Australia",
          "Australia",
          "Australia",
          "Australia",
          "Australia",
          "Australia",
          "Australia",
          "Australia",
          "Australia",
          "Australia",
          "Australia"
         ],
         "legendgroup": "Australia",
         "marker": {
          "color": "#636efa",
          "symbol": "circle"
         },
         "mode": "markers",
         "name": "Australia",
         "orientation": "v",
         "showlegend": true,
         "type": "scatter",
         "x": [
          1861,
          1882,
          1883,
          1884,
          1885,
          1887,
          1888,
          1889,
          1890,
          1891,
          1892,
          1893,
          1895,
          1896,
          1897,
          1898,
          1899,
          1900,
          1901,
          1902,
          1903,
          1904,
          1905,
          1906,
          1907,
          1910,
          1916,
          1917,
          1924,
          1929
         ],
         "xaxis": "x",
         "y": [
          1.8125,
          3,
          3,
          3,
          2.8125,
          2.95,
          3.375,
          2.956521739130435,
          2.676470588235294,
          3.476190476190476,
          3.545454545454545,
          3.518518518518519,
          3.260869565217391,
          3.068965517241379,
          3.692307692307693,
          2.977272727272727,
          3.465116279069767,
          3.533333333333333,
          4.026315789473684,
          3.804878048780488,
          4.340909090909091,
          4.791666666666667,
          3.434782608695652,
          3.395833333333333,
          3.808510638297872,
          3.818181818181817,
          2.822222222222222,
          3.204301075268817,
          3.152542372881356,
          2.661538461538461
         ],
         "yaxis": "y"
        },
        {
         "hovertemplate": "<b>%{hovertext}</b><br><br>Country=United States<br>year=%{x}<br>yield=%{y}<extra></extra>",
         "hovertext": [
          "United States",
          "United States",
          "United States",
          "United States",
          "United States",
          "United States",
          "United States",
          "United States",
          "United States",
          "United States",
          "United States",
          "United States",
          "United States",
          "United States",
          "United States",
          "United States",
          "United States",
          "United States",
          "United States",
          "United States",
          "United States",
          "United States",
          "United States",
          "United States",
          "United States",
          "United States",
          "United States",
          "United States",
          "United States",
          "United States",
          "United States",
          "United States",
          "United States",
          "United States",
          "United States",
          "United States",
          "United States",
          "United States",
          "United States",
          "United States",
          "United States",
          "United States",
          "United States",
          "United States",
          "United States",
          "United States",
          "United States",
          "United States",
          "United States",
          "United States",
          "United States",
          "United States",
          "United States",
          "United States",
          "United States",
          "United States",
          "United States",
          "United States",
          "United States",
          "United States",
          "United States",
          "United States",
          "United States",
          "United States",
          "United States",
          "United States",
          "United States",
          "United States",
          "United States",
          "United States",
          "United States",
          "United States",
          "United States",
          "United States",
          "United States",
          "United States",
          "United States",
          "United States",
          "United States",
          "United States",
          "United States",
          "United States",
          "United States",
          "United States"
         ],
         "legendgroup": "United States",
         "marker": {
          "color": "#EF553B",
          "symbol": "circle"
         },
         "mode": "markers",
         "name": "United States",
         "orientation": "v",
         "showlegend": true,
         "type": "scatter",
         "x": [
          1866,
          1867,
          1868,
          1869,
          1870,
          1871,
          1872,
          1873,
          1874,
          1875,
          1876,
          1877,
          1878,
          1879,
          1880,
          1881,
          1886,
          1894,
          1922,
          1923,
          1925,
          1926,
          1930,
          1931,
          1932,
          1937,
          1940,
          1941,
          1942,
          1943,
          1944,
          1945,
          1946,
          1947,
          1948,
          1962,
          1967,
          1969,
          1972,
          1973,
          1974,
          1975,
          1976,
          1977,
          1978,
          1980,
          1981,
          1982,
          1983,
          1984,
          1985,
          1986,
          1987,
          1988,
          1989,
          1990,
          1991,
          1992,
          1993,
          1994,
          1995,
          1996,
          1997,
          1998,
          1999,
          2000,
          2001,
          2002,
          2003,
          2004,
          2005,
          2006,
          2007,
          2008,
          2009,
          2010,
          2011,
          2012,
          2013,
          2014,
          2015,
          2016,
          2017,
          2018
         ],
         "xaxis": "x",
         "y": [
          2.32245137901589,
          2.573527203774365,
          2.542142725679556,
          2.416604813300319,
          2.510758247584746,
          2.730449594248411,
          2.573527203774365,
          2.385220335205509,
          2.32245137901589,
          2.542142725679556,
          2.510758247584746,
          2.573527203774365,
          2.573527203774365,
          2.611188577488136,
          2.542142725679556,
          2.479373769489937,
          2.573527203774365,
          2.573527203774365,
          2.824603028532839,
          2.699065116153602,
          3.107063331386124,
          2.761834072343221,
          2.824603028532839,
          2.918756462817268,
          2.699065116153602,
          3.012909897101696,
          3.29537019995498,
          3.326754678049789,
          3.766137371377119,
          3.452292590429026,
          3.29537019995498,
          3.326754678049789,
          3.577830502808264,
          3.515061546618645,
          3.828906327566738,
          5.492283666591632,
          6.52797144372034,
          6.716278312289196,
          7.281198917995764,
          6.779047268478815,
          6.716278312289196,
          7.281198917995764,
          7.532274742754239,
          7.469505786564619,
          7.90888847989195,
          8.473809085598518,
          8.473809085598518,
          10.04303299033898,
          10.16857090271822,
          9.980264034149366,
          10.35687777128708,
          10.67072255223517,
          10.67072255223517,
          10.67072255223517,
          10.98456733318326,
          10.98456733318326,
          11.29841211413136,
          11.29841211413136,
          11.92610167602755,
          11.61225689507945,
          11.92610167602755,
          11.61225689507945,
          12.23994645697564,
          11.92610167602755,
          12.23994645697564,
          12.30271541316526,
          13.05594288744068,
          11.92610167602755,
          12.23994645697564,
          12.55379123792373,
          12.86763601887182,
          13.18148079981991,
          13.18148079981991,
          12.86763601887182,
          13.49532558076801,
          13.18148079981991,
          14.1230151426642,
          13.49532558076801,
          13.49532558076801,
          13.49532558076801,
          13.49532558076801,
          14.75070470456038,
          14.1230151426642,
          14.1230151426642
         ],
         "yaxis": "y"
        },
        {
         "hovertemplate": "<b>%{hovertext}</b><br><br>Country=Canada<br>year=%{x}<br>yield=%{y}<extra></extra>",
         "hovertext": [
          "Canada",
          "Canada",
          "Canada",
          "Canada",
          "Canada",
          "Canada",
          "Canada",
          "Canada",
          "Canada"
         ],
         "legendgroup": "Canada",
         "marker": {
          "color": "#00cc96",
          "symbol": "circle"
         },
         "mode": "markers",
         "name": "Canada",
         "orientation": "v",
         "showlegend": true,
         "type": "scatter",
         "x": [
          1908,
          1909,
          1911,
          1913,
          1914,
          1915,
          1918,
          1919,
          1920
         ],
         "xaxis": "x",
         "y": [
          3.921859262689069,
          3.434103858805898,
          3.739236390152997,
          3.786006681250092,
          3.414042757750977,
          3.564681274831782,
          3.566532090694132,
          4.01247591642317,
          3.081482832117066
         ],
         "yaxis": "y"
        },
        {
         "hovertemplate": "<b>%{hovertext}</b><br><br>Country=Sweden<br>year=%{x}<br>yield=%{y}<extra></extra>",
         "hovertext": [
          "Sweden"
         ],
         "legendgroup": "Sweden",
         "marker": {
          "color": "#ab63fa",
          "symbol": "circle"
         },
         "mode": "markers",
         "name": "Sweden",
         "orientation": "v",
         "showlegend": true,
         "type": "scatter",
         "x": [
          1912
         ],
         "xaxis": "x",
         "y": [
          11.500063559792203
         ],
         "yaxis": "y"
        },
        {
         "hovertemplate": "<b>%{hovertext}</b><br><br>Country=Netherlands<br>year=%{x}<br>yield=%{y}<extra></extra>",
         "hovertext": [
          "Netherlands",
          "Netherlands",
          "Netherlands",
          "Netherlands",
          "Netherlands",
          "Netherlands",
          "Netherlands",
          "Netherlands"
         ],
         "legendgroup": "Netherlands",
         "marker": {
          "color": "#FFA15A",
          "symbol": "circle"
         },
         "mode": "markers",
         "name": "Netherlands",
         "orientation": "v",
         "showlegend": true,
         "type": "scatter",
         "x": [
          1921,
          1933,
          1934,
          1935,
          1936,
          1938,
          1939,
          1949
         ],
         "xaxis": "x",
         "y": [
          3.264705882352942,
          3.113043478260869,
          3.419354838709677,
          3.061538461538461,
          2.838461538461539,
          3.527272727272728,
          3.5,
          4.244444444444444
         ],
         "yaxis": "y"
        },
        {
         "hovertemplate": "<b>%{hovertext}</b><br><br>Country=Belgium<br>year=%{x}<br>yield=%{y}<extra></extra>",
         "hovertext": [
          "Belgium",
          "Belgium"
         ],
         "legendgroup": "Belgium",
         "marker": {
          "color": "#19d3f3",
          "symbol": "circle"
         },
         "mode": "markers",
         "name": "Belgium",
         "orientation": "v",
         "showlegend": true,
         "type": "scatter",
         "x": [
          1927,
          1928
         ],
         "xaxis": "x",
         "y": [
          2.8,
          2.84
         ],
         "yaxis": "y"
        },
        {
         "hovertemplate": "<b>%{hovertext}</b><br><br>Country=France<br>year=%{x}<br>yield=%{y}<extra></extra>",
         "hovertext": [
          "France",
          "France",
          "France",
          "France",
          "France",
          "France",
          "France",
          "France",
          "France",
          "France",
          "France",
          "France",
          "France",
          "France",
          "France",
          "France",
          "France",
          "France"
         ],
         "legendgroup": "France",
         "marker": {
          "color": "#FF6692",
          "symbol": "circle"
         },
         "mode": "markers",
         "name": "France",
         "orientation": "v",
         "showlegend": true,
         "type": "scatter",
         "x": [
          1950,
          1951,
          1952,
          1954,
          1955,
          1956,
          1957,
          1958,
          1959,
          1960,
          1961,
          1963,
          1965,
          1966,
          1968,
          1970,
          1971,
          1979
         ],
         "xaxis": "x",
         "y": [
          4,
          5,
          5.037878787878788,
          4.983870967741935,
          6,
          4.75,
          6,
          5,
          5.5,
          5.819477434679335,
          5.5,
          5.589215686274509,
          6,
          6.360294117647059,
          6.246478873239437,
          6.78926282051282,
          6.861098901098901,
          17.16847688810305
         ],
         "yaxis": "y"
        },
        {
         "hovertemplate": "<b>%{hovertext}</b><br><br>Country=China<br>year=%{x}<br>yield=%{y}<extra></extra>",
         "hovertext": [
          "China",
          "China"
         ],
         "legendgroup": "China",
         "marker": {
          "color": "#B6E880",
          "symbol": "circle"
         },
         "mode": "markers",
         "name": "China",
         "orientation": "v",
         "showlegend": true,
         "type": "scatter",
         "x": [
          1953,
          1964
         ],
         "xaxis": "x",
         "y": [
          10,
          6.517857142857142
         ],
         "yaxis": "y"
        },
        {
         "hovertemplate": "<b>%{hovertext}</b><br><br>Country=Uruguay<br>year=%{x}<br>yield=%{y}<extra></extra>",
         "hovertext": [
          "Uruguay"
         ],
         "legendgroup": "Uruguay",
         "marker": {
          "color": "#FF97FF",
          "symbol": "circle"
         },
         "mode": "markers",
         "name": "Uruguay",
         "orientation": "v",
         "showlegend": true,
         "type": "scatter",
         "x": [
          2019
         ],
         "xaxis": "x",
         "y": [
          7.608
         ],
         "yaxis": "y"
        }
       ],
       "layout": {
        "legend": {
         "title": {
          "text": "Country"
         },
         "tracegroupgap": 0
        },
        "margin": {
         "t": 60
        },
        "template": {
         "data": {
          "bar": [
           {
            "error_x": {
             "color": "#2a3f5f"
            },
            "error_y": {
             "color": "#2a3f5f"
            },
            "marker": {
             "line": {
              "color": "#E5ECF6",
              "width": 0.5
             },
             "pattern": {
              "fillmode": "overlay",
              "size": 10,
              "solidity": 0.2
             }
            },
            "type": "bar"
           }
          ],
          "barpolar": [
           {
            "marker": {
             "line": {
              "color": "#E5ECF6",
              "width": 0.5
             },
             "pattern": {
              "fillmode": "overlay",
              "size": 10,
              "solidity": 0.2
             }
            },
            "type": "barpolar"
           }
          ],
          "carpet": [
           {
            "aaxis": {
             "endlinecolor": "#2a3f5f",
             "gridcolor": "white",
             "linecolor": "white",
             "minorgridcolor": "white",
             "startlinecolor": "#2a3f5f"
            },
            "baxis": {
             "endlinecolor": "#2a3f5f",
             "gridcolor": "white",
             "linecolor": "white",
             "minorgridcolor": "white",
             "startlinecolor": "#2a3f5f"
            },
            "type": "carpet"
           }
          ],
          "choropleth": [
           {
            "colorbar": {
             "outlinewidth": 0,
             "ticks": ""
            },
            "type": "choropleth"
           }
          ],
          "contour": [
           {
            "colorbar": {
             "outlinewidth": 0,
             "ticks": ""
            },
            "colorscale": [
             [
              0,
              "#0d0887"
             ],
             [
              0.1111111111111111,
              "#46039f"
             ],
             [
              0.2222222222222222,
              "#7201a8"
             ],
             [
              0.3333333333333333,
              "#9c179e"
             ],
             [
              0.4444444444444444,
              "#bd3786"
             ],
             [
              0.5555555555555556,
              "#d8576b"
             ],
             [
              0.6666666666666666,
              "#ed7953"
             ],
             [
              0.7777777777777778,
              "#fb9f3a"
             ],
             [
              0.8888888888888888,
              "#fdca26"
             ],
             [
              1,
              "#f0f921"
             ]
            ],
            "type": "contour"
           }
          ],
          "contourcarpet": [
           {
            "colorbar": {
             "outlinewidth": 0,
             "ticks": ""
            },
            "type": "contourcarpet"
           }
          ],
          "heatmap": [
           {
            "colorbar": {
             "outlinewidth": 0,
             "ticks": ""
            },
            "colorscale": [
             [
              0,
              "#0d0887"
             ],
             [
              0.1111111111111111,
              "#46039f"
             ],
             [
              0.2222222222222222,
              "#7201a8"
             ],
             [
              0.3333333333333333,
              "#9c179e"
             ],
             [
              0.4444444444444444,
              "#bd3786"
             ],
             [
              0.5555555555555556,
              "#d8576b"
             ],
             [
              0.6666666666666666,
              "#ed7953"
             ],
             [
              0.7777777777777778,
              "#fb9f3a"
             ],
             [
              0.8888888888888888,
              "#fdca26"
             ],
             [
              1,
              "#f0f921"
             ]
            ],
            "type": "heatmap"
           }
          ],
          "heatmapgl": [
           {
            "colorbar": {
             "outlinewidth": 0,
             "ticks": ""
            },
            "colorscale": [
             [
              0,
              "#0d0887"
             ],
             [
              0.1111111111111111,
              "#46039f"
             ],
             [
              0.2222222222222222,
              "#7201a8"
             ],
             [
              0.3333333333333333,
              "#9c179e"
             ],
             [
              0.4444444444444444,
              "#bd3786"
             ],
             [
              0.5555555555555556,
              "#d8576b"
             ],
             [
              0.6666666666666666,
              "#ed7953"
             ],
             [
              0.7777777777777778,
              "#fb9f3a"
             ],
             [
              0.8888888888888888,
              "#fdca26"
             ],
             [
              1,
              "#f0f921"
             ]
            ],
            "type": "heatmapgl"
           }
          ],
          "histogram": [
           {
            "marker": {
             "pattern": {
              "fillmode": "overlay",
              "size": 10,
              "solidity": 0.2
             }
            },
            "type": "histogram"
           }
          ],
          "histogram2d": [
           {
            "colorbar": {
             "outlinewidth": 0,
             "ticks": ""
            },
            "colorscale": [
             [
              0,
              "#0d0887"
             ],
             [
              0.1111111111111111,
              "#46039f"
             ],
             [
              0.2222222222222222,
              "#7201a8"
             ],
             [
              0.3333333333333333,
              "#9c179e"
             ],
             [
              0.4444444444444444,
              "#bd3786"
             ],
             [
              0.5555555555555556,
              "#d8576b"
             ],
             [
              0.6666666666666666,
              "#ed7953"
             ],
             [
              0.7777777777777778,
              "#fb9f3a"
             ],
             [
              0.8888888888888888,
              "#fdca26"
             ],
             [
              1,
              "#f0f921"
             ]
            ],
            "type": "histogram2d"
           }
          ],
          "histogram2dcontour": [
           {
            "colorbar": {
             "outlinewidth": 0,
             "ticks": ""
            },
            "colorscale": [
             [
              0,
              "#0d0887"
             ],
             [
              0.1111111111111111,
              "#46039f"
             ],
             [
              0.2222222222222222,
              "#7201a8"
             ],
             [
              0.3333333333333333,
              "#9c179e"
             ],
             [
              0.4444444444444444,
              "#bd3786"
             ],
             [
              0.5555555555555556,
              "#d8576b"
             ],
             [
              0.6666666666666666,
              "#ed7953"
             ],
             [
              0.7777777777777778,
              "#fb9f3a"
             ],
             [
              0.8888888888888888,
              "#fdca26"
             ],
             [
              1,
              "#f0f921"
             ]
            ],
            "type": "histogram2dcontour"
           }
          ],
          "mesh3d": [
           {
            "colorbar": {
             "outlinewidth": 0,
             "ticks": ""
            },
            "type": "mesh3d"
           }
          ],
          "parcoords": [
           {
            "line": {
             "colorbar": {
              "outlinewidth": 0,
              "ticks": ""
             }
            },
            "type": "parcoords"
           }
          ],
          "pie": [
           {
            "automargin": true,
            "type": "pie"
           }
          ],
          "scatter": [
           {
            "fillpattern": {
             "fillmode": "overlay",
             "size": 10,
             "solidity": 0.2
            },
            "type": "scatter"
           }
          ],
          "scatter3d": [
           {
            "line": {
             "colorbar": {
              "outlinewidth": 0,
              "ticks": ""
             }
            },
            "marker": {
             "colorbar": {
              "outlinewidth": 0,
              "ticks": ""
             }
            },
            "type": "scatter3d"
           }
          ],
          "scattercarpet": [
           {
            "marker": {
             "colorbar": {
              "outlinewidth": 0,
              "ticks": ""
             }
            },
            "type": "scattercarpet"
           }
          ],
          "scattergeo": [
           {
            "marker": {
             "colorbar": {
              "outlinewidth": 0,
              "ticks": ""
             }
            },
            "type": "scattergeo"
           }
          ],
          "scattergl": [
           {
            "marker": {
             "colorbar": {
              "outlinewidth": 0,
              "ticks": ""
             }
            },
            "type": "scattergl"
           }
          ],
          "scattermapbox": [
           {
            "marker": {
             "colorbar": {
              "outlinewidth": 0,
              "ticks": ""
             }
            },
            "type": "scattermapbox"
           }
          ],
          "scatterpolar": [
           {
            "marker": {
             "colorbar": {
              "outlinewidth": 0,
              "ticks": ""
             }
            },
            "type": "scatterpolar"
           }
          ],
          "scatterpolargl": [
           {
            "marker": {
             "colorbar": {
              "outlinewidth": 0,
              "ticks": ""
             }
            },
            "type": "scatterpolargl"
           }
          ],
          "scatterternary": [
           {
            "marker": {
             "colorbar": {
              "outlinewidth": 0,
              "ticks": ""
             }
            },
            "type": "scatterternary"
           }
          ],
          "surface": [
           {
            "colorbar": {
             "outlinewidth": 0,
             "ticks": ""
            },
            "colorscale": [
             [
              0,
              "#0d0887"
             ],
             [
              0.1111111111111111,
              "#46039f"
             ],
             [
              0.2222222222222222,
              "#7201a8"
             ],
             [
              0.3333333333333333,
              "#9c179e"
             ],
             [
              0.4444444444444444,
              "#bd3786"
             ],
             [
              0.5555555555555556,
              "#d8576b"
             ],
             [
              0.6666666666666666,
              "#ed7953"
             ],
             [
              0.7777777777777778,
              "#fb9f3a"
             ],
             [
              0.8888888888888888,
              "#fdca26"
             ],
             [
              1,
              "#f0f921"
             ]
            ],
            "type": "surface"
           }
          ],
          "table": [
           {
            "cells": {
             "fill": {
              "color": "#EBF0F8"
             },
             "line": {
              "color": "white"
             }
            },
            "header": {
             "fill": {
              "color": "#C8D4E3"
             },
             "line": {
              "color": "white"
             }
            },
            "type": "table"
           }
          ]
         },
         "layout": {
          "annotationdefaults": {
           "arrowcolor": "#2a3f5f",
           "arrowhead": 0,
           "arrowwidth": 1
          },
          "autotypenumbers": "strict",
          "coloraxis": {
           "colorbar": {
            "outlinewidth": 0,
            "ticks": ""
           }
          },
          "colorscale": {
           "diverging": [
            [
             0,
             "#8e0152"
            ],
            [
             0.1,
             "#c51b7d"
            ],
            [
             0.2,
             "#de77ae"
            ],
            [
             0.3,
             "#f1b6da"
            ],
            [
             0.4,
             "#fde0ef"
            ],
            [
             0.5,
             "#f7f7f7"
            ],
            [
             0.6,
             "#e6f5d0"
            ],
            [
             0.7,
             "#b8e186"
            ],
            [
             0.8,
             "#7fbc41"
            ],
            [
             0.9,
             "#4d9221"
            ],
            [
             1,
             "#276419"
            ]
           ],
           "sequential": [
            [
             0,
             "#0d0887"
            ],
            [
             0.1111111111111111,
             "#46039f"
            ],
            [
             0.2222222222222222,
             "#7201a8"
            ],
            [
             0.3333333333333333,
             "#9c179e"
            ],
            [
             0.4444444444444444,
             "#bd3786"
            ],
            [
             0.5555555555555556,
             "#d8576b"
            ],
            [
             0.6666666666666666,
             "#ed7953"
            ],
            [
             0.7777777777777778,
             "#fb9f3a"
            ],
            [
             0.8888888888888888,
             "#fdca26"
            ],
            [
             1,
             "#f0f921"
            ]
           ],
           "sequentialminus": [
            [
             0,
             "#0d0887"
            ],
            [
             0.1111111111111111,
             "#46039f"
            ],
            [
             0.2222222222222222,
             "#7201a8"
            ],
            [
             0.3333333333333333,
             "#9c179e"
            ],
            [
             0.4444444444444444,
             "#bd3786"
            ],
            [
             0.5555555555555556,
             "#d8576b"
            ],
            [
             0.6666666666666666,
             "#ed7953"
            ],
            [
             0.7777777777777778,
             "#fb9f3a"
            ],
            [
             0.8888888888888888,
             "#fdca26"
            ],
            [
             1,
             "#f0f921"
            ]
           ]
          },
          "colorway": [
           "#636efa",
           "#EF553B",
           "#00cc96",
           "#ab63fa",
           "#FFA15A",
           "#19d3f3",
           "#FF6692",
           "#B6E880",
           "#FF97FF",
           "#FECB52"
          ],
          "font": {
           "color": "#2a3f5f"
          },
          "geo": {
           "bgcolor": "white",
           "lakecolor": "white",
           "landcolor": "#E5ECF6",
           "showlakes": true,
           "showland": true,
           "subunitcolor": "white"
          },
          "hoverlabel": {
           "align": "left"
          },
          "hovermode": "closest",
          "mapbox": {
           "style": "light"
          },
          "paper_bgcolor": "white",
          "plot_bgcolor": "#E5ECF6",
          "polar": {
           "angularaxis": {
            "gridcolor": "white",
            "linecolor": "white",
            "ticks": ""
           },
           "bgcolor": "#E5ECF6",
           "radialaxis": {
            "gridcolor": "white",
            "linecolor": "white",
            "ticks": ""
           }
          },
          "scene": {
           "xaxis": {
            "backgroundcolor": "#E5ECF6",
            "gridcolor": "white",
            "gridwidth": 2,
            "linecolor": "white",
            "showbackground": true,
            "ticks": "",
            "zerolinecolor": "white"
           },
           "yaxis": {
            "backgroundcolor": "#E5ECF6",
            "gridcolor": "white",
            "gridwidth": 2,
            "linecolor": "white",
            "showbackground": true,
            "ticks": "",
            "zerolinecolor": "white"
           },
           "zaxis": {
            "backgroundcolor": "#E5ECF6",
            "gridcolor": "white",
            "gridwidth": 2,
            "linecolor": "white",
            "showbackground": true,
            "ticks": "",
            "zerolinecolor": "white"
           }
          },
          "shapedefaults": {
           "line": {
            "color": "#2a3f5f"
           }
          },
          "ternary": {
           "aaxis": {
            "gridcolor": "white",
            "linecolor": "white",
            "ticks": ""
           },
           "baxis": {
            "gridcolor": "white",
            "linecolor": "white",
            "ticks": ""
           },
           "bgcolor": "#E5ECF6",
           "caxis": {
            "gridcolor": "white",
            "linecolor": "white",
            "ticks": ""
           }
          },
          "title": {
           "x": 0.05
          },
          "xaxis": {
           "automargin": true,
           "gridcolor": "white",
           "linecolor": "white",
           "ticks": "",
           "title": {
            "standoff": 15
           },
           "zerolinecolor": "white",
           "zerolinewidth": 2
          },
          "yaxis": {
           "automargin": true,
           "gridcolor": "white",
           "linecolor": "white",
           "ticks": "",
           "title": {
            "standoff": 15
           },
           "zerolinecolor": "white",
           "zerolinewidth": 2
          }
         }
        },
        "title": {
         "text": "Interactive Scatter Plot of Yield Over Time"
        },
        "xaxis": {
         "anchor": "y",
         "domain": [
          0,
          1
         ],
         "title": {
          "text": "Year"
         }
        },
        "yaxis": {
         "anchor": "x",
         "domain": [
          0,
          1
         ],
         "tickvals": [
          1861,
          1866,
          1867,
          1868,
          1869,
          1870,
          1871,
          1872,
          1873,
          1874,
          1875,
          1876,
          1877,
          1878,
          1879,
          1880,
          1881,
          1882,
          1883,
          1884,
          1885,
          1886,
          1887,
          1888,
          1889,
          1890,
          1891,
          1892,
          1893,
          1894,
          1895,
          1896,
          1897,
          1898,
          1899,
          1900,
          1901,
          1902,
          1903,
          1904,
          1905,
          1906,
          1907,
          1908,
          1909,
          1910,
          1911,
          1912,
          1913,
          1914,
          1915,
          1916,
          1917,
          1918,
          1919,
          1920,
          1921,
          1922,
          1923,
          1924,
          1925,
          1926,
          1927,
          1928,
          1929,
          1930,
          1931,
          1932,
          1933,
          1934,
          1935,
          1936,
          1937,
          1938,
          1939,
          1940,
          1941,
          1942,
          1943,
          1944,
          1945,
          1946,
          1947,
          1948,
          1949,
          1950,
          1951,
          1952,
          1953,
          1954,
          1955,
          1956,
          1957,
          1958,
          1959,
          1960,
          1961,
          1962,
          1963,
          1964,
          1965,
          1966,
          1967,
          1968,
          1969,
          1970,
          1971,
          1972,
          1973,
          1974,
          1975,
          1976,
          1977,
          1978,
          1979,
          1980,
          1981,
          1982,
          1983,
          1984,
          1985,
          1986,
          1987,
          1988,
          1989,
          1990,
          1991,
          1992,
          1993,
          1994,
          1995,
          1996,
          1997,
          1998,
          1999,
          2000,
          2001,
          2002,
          2003,
          2004,
          2005,
          2006,
          2007,
          2008,
          2009,
          2010,
          2011,
          2012,
          2013,
          2014,
          2015,
          2016,
          2017,
          2018,
          2019
         ],
         "title": {
          "text": "Yield (tonnes/ha)"
         }
        }
       }
      }
     },
     "metadata": {},
     "output_type": "display_data"
    }
   ],
   "source": [
    "#country with the highest yield per year, hover for more info\n",
    "# Group data by 'year' and find the country with the highest yield in each year\n",
    "highest_yield_per_year = df.groupby('year').apply(lambda x: x.loc[x['yield'].idxmax()]).reset_index(drop=True)\n",
    "\n",
    "# Create an interactive scatter plot with hover labels\n",
    "fig = px.scatter(highest_yield_per_year, x='year', y='yield', color='country', hover_name='country', labels={'country': 'Country'})\n",
    "fig.update_layout(\n",
    "    title='Interactive Scatter Plot of Yield Over Time',\n",
    "    xaxis_title='Year',\n",
    "    yaxis_title='Yield (tonnes/ha)',\n",
    ")\n",
    "\n",
    "# Set the y-axis tick values to be every year\n",
    "fig.update_yaxes(tickvals=highest_yield_per_year['year'].unique())\n",
    "\n",
    "fig.show()"
   ]
  }
 ],
 "metadata": {
  "kernelspec": {
   "display_name": "Python 3",
   "language": "python",
   "name": "python3"
  },
  "language_info": {
   "codemirror_mode": {
    "name": "ipython",
    "version": 3
   },
   "file_extension": ".py",
   "mimetype": "text/x-python",
   "name": "python",
   "nbconvert_exporter": "python",
   "pygments_lexer": "ipython3",
   "version": "3.9.13"
  }
 },
 "nbformat": 4,
 "nbformat_minor": 2
}
