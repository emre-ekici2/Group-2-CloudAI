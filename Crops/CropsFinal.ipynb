{
 "cells": [
  {
   "cell_type": "markdown",
   "metadata": {},
   "source": [
    "As with the titanic notebook, this notebook will also function as a report alongside our completed work. This notebook will also consist of 3 parts similar to the titanic notebook"
   ]
  },
  {
   "cell_type": "markdown",
   "metadata": {},
   "source": [
    "The EDA:"
   ]
  },
  {
   "cell_type": "markdown",
   "metadata": {},
   "source": [
    "As always, let's begin by installing/importing all the libraries we are going to be using."
   ]
  },
  {
   "cell_type": "code",
   "execution_count": 247,
   "metadata": {},
   "outputs": [],
   "source": [
    "#import libaries\n",
    "import pandas as pd\n",
    "import numpy as np\n",
    "import matplotlib.pyplot as plt\n",
    "import seaborn as sns\n",
    "from sklearn.preprocessing import OneHotEncoder\n",
    "from sklearn.linear_model import LinearRegression\n",
    "import plotly.express as px\n",
    "from sklearn.ensemble import RandomForestClassifier\n",
    "from sklearn.model_selection import train_test_split\n",
    "from sklearn.metrics import confusion_matrix, ConfusionMatrixDisplay\n",
    "from sklearn import metrics"
   ]
  },
  {
   "cell_type": "markdown",
   "metadata": {},
   "source": [
    "We will be loading data from an Excel file we renamed to \"crops.xlsx\" for ease of use, loading the data will be done using the Pandas library. We specify the sheet name as \"CropStats\" to read data from that specific sheet, as we felt like it held all the useful data. After loading the data, we display the first 10 rows of the DataFrame to get an initial look at the dataset, which allows us to quickly examine the structure and content of the dataset. It's essential for understanding the data before performing further analysis or preprocessing."
   ]
  },
  {
   "cell_type": "code",
   "execution_count": 248,
   "metadata": {},
   "outputs": [
    {
     "name": "stdout",
     "output_type": "stream",
     "text": [
      "First 10 rows:\n"
     ]
    },
    {
     "data": {
      "text/html": [
       "<div>\n",
       "<style scoped>\n",
       "    .dataframe tbody tr th:only-of-type {\n",
       "        vertical-align: middle;\n",
       "    }\n",
       "\n",
       "    .dataframe tbody tr th {\n",
       "        vertical-align: top;\n",
       "    }\n",
       "\n",
       "    .dataframe thead th {\n",
       "        text-align: right;\n",
       "    }\n",
       "</style>\n",
       "<table border=\"1\" class=\"dataframe\">\n",
       "  <thead>\n",
       "    <tr style=\"text-align: right;\">\n",
       "      <th></th>\n",
       "      <th>Unnamed: 0</th>\n",
       "      <th>Harvest_year</th>\n",
       "      <th>admin0</th>\n",
       "      <th>admin1</th>\n",
       "      <th>crop</th>\n",
       "      <th>hectares (ha)</th>\n",
       "      <th>production (tonnes)</th>\n",
       "      <th>year</th>\n",
       "      <th>yield(tonnes/ha)</th>\n",
       "      <th>admin2</th>\n",
       "      <th>notes</th>\n",
       "    </tr>\n",
       "  </thead>\n",
       "  <tbody>\n",
       "    <tr>\n",
       "      <th>0</th>\n",
       "      <td>0</td>\n",
       "      <td>1902</td>\n",
       "      <td>Austria</td>\n",
       "      <td>NaN</td>\n",
       "      <td>wheat</td>\n",
       "      <td>NaN</td>\n",
       "      <td>NaN</td>\n",
       "      <td>1902</td>\n",
       "      <td>1.310000</td>\n",
       "      <td>NaN</td>\n",
       "      <td>NaN</td>\n",
       "    </tr>\n",
       "    <tr>\n",
       "      <th>1</th>\n",
       "      <td>1</td>\n",
       "      <td>1903</td>\n",
       "      <td>Austria</td>\n",
       "      <td>NaN</td>\n",
       "      <td>wheat</td>\n",
       "      <td>NaN</td>\n",
       "      <td>NaN</td>\n",
       "      <td>1903</td>\n",
       "      <td>1.470000</td>\n",
       "      <td>NaN</td>\n",
       "      <td>NaN</td>\n",
       "    </tr>\n",
       "    <tr>\n",
       "      <th>2</th>\n",
       "      <td>2</td>\n",
       "      <td>1904</td>\n",
       "      <td>Austria</td>\n",
       "      <td>NaN</td>\n",
       "      <td>wheat</td>\n",
       "      <td>NaN</td>\n",
       "      <td>NaN</td>\n",
       "      <td>1904</td>\n",
       "      <td>1.270000</td>\n",
       "      <td>NaN</td>\n",
       "      <td>NaN</td>\n",
       "    </tr>\n",
       "    <tr>\n",
       "      <th>3</th>\n",
       "      <td>3</td>\n",
       "      <td>1905</td>\n",
       "      <td>Austria</td>\n",
       "      <td>NaN</td>\n",
       "      <td>wheat</td>\n",
       "      <td>NaN</td>\n",
       "      <td>NaN</td>\n",
       "      <td>1905</td>\n",
       "      <td>1.330000</td>\n",
       "      <td>NaN</td>\n",
       "      <td>NaN</td>\n",
       "    </tr>\n",
       "    <tr>\n",
       "      <th>4</th>\n",
       "      <td>4</td>\n",
       "      <td>1906</td>\n",
       "      <td>Austria</td>\n",
       "      <td>NaN</td>\n",
       "      <td>wheat</td>\n",
       "      <td>NaN</td>\n",
       "      <td>NaN</td>\n",
       "      <td>1906</td>\n",
       "      <td>1.280000</td>\n",
       "      <td>NaN</td>\n",
       "      <td>NaN</td>\n",
       "    </tr>\n",
       "    <tr>\n",
       "      <th>5</th>\n",
       "      <td>5</td>\n",
       "      <td>1907</td>\n",
       "      <td>Austria</td>\n",
       "      <td>NaN</td>\n",
       "      <td>wheat</td>\n",
       "      <td>NaN</td>\n",
       "      <td>NaN</td>\n",
       "      <td>1907</td>\n",
       "      <td>1.370000</td>\n",
       "      <td>NaN</td>\n",
       "      <td>NaN</td>\n",
       "    </tr>\n",
       "    <tr>\n",
       "      <th>6</th>\n",
       "      <td>6</td>\n",
       "      <td>1908</td>\n",
       "      <td>Austria</td>\n",
       "      <td>NaN</td>\n",
       "      <td>wheat</td>\n",
       "      <td>NaN</td>\n",
       "      <td>NaN</td>\n",
       "      <td>1908</td>\n",
       "      <td>1.360000</td>\n",
       "      <td>NaN</td>\n",
       "      <td>NaN</td>\n",
       "    </tr>\n",
       "    <tr>\n",
       "      <th>7</th>\n",
       "      <td>7</td>\n",
       "      <td>1909</td>\n",
       "      <td>Austria</td>\n",
       "      <td>NaN</td>\n",
       "      <td>wheat</td>\n",
       "      <td>NaN</td>\n",
       "      <td>NaN</td>\n",
       "      <td>1909</td>\n",
       "      <td>1.350000</td>\n",
       "      <td>NaN</td>\n",
       "      <td>NaN</td>\n",
       "    </tr>\n",
       "    <tr>\n",
       "      <th>8</th>\n",
       "      <td>8</td>\n",
       "      <td>1910</td>\n",
       "      <td>Austria</td>\n",
       "      <td>NaN</td>\n",
       "      <td>wheat</td>\n",
       "      <td>NaN</td>\n",
       "      <td>NaN</td>\n",
       "      <td>1910</td>\n",
       "      <td>1.180000</td>\n",
       "      <td>NaN</td>\n",
       "      <td>NaN</td>\n",
       "    </tr>\n",
       "    <tr>\n",
       "      <th>9</th>\n",
       "      <td>9</td>\n",
       "      <td>1911</td>\n",
       "      <td>Austria</td>\n",
       "      <td>NaN</td>\n",
       "      <td>wheat</td>\n",
       "      <td>NaN</td>\n",
       "      <td>NaN</td>\n",
       "      <td>1911</td>\n",
       "      <td>1.370000</td>\n",
       "      <td>NaN</td>\n",
       "      <td>NaN</td>\n",
       "    </tr>\n",
       "  </tbody>\n",
       "</table>\n",
       "</div>"
      ],
      "text/plain": [
       "   Unnamed: 0  Harvest_year   admin0 admin1   crop  hectares (ha)  \\\n",
       "0           0          1902  Austria    NaN  wheat            NaN   \n",
       "1           1          1903  Austria    NaN  wheat            NaN   \n",
       "2           2          1904  Austria    NaN  wheat            NaN   \n",
       "3           3          1905  Austria    NaN  wheat            NaN   \n",
       "4           4          1906  Austria    NaN  wheat            NaN   \n",
       "5           5          1907  Austria    NaN  wheat            NaN   \n",
       "6           6          1908  Austria    NaN  wheat            NaN   \n",
       "7           7          1909  Austria    NaN  wheat            NaN   \n",
       "8           8          1910  Austria    NaN  wheat            NaN   \n",
       "9           9          1911  Austria    NaN  wheat            NaN   \n",
       "\n",
       "   production (tonnes)  year  yield(tonnes/ha)  admin2 notes  \n",
       "0                  NaN  1902          1.310000     NaN   NaN  \n",
       "1                  NaN  1903          1.470000     NaN   NaN  \n",
       "2                  NaN  1904          1.270000     NaN   NaN  \n",
       "3                  NaN  1905          1.330000     NaN   NaN  \n",
       "4                  NaN  1906          1.280000     NaN   NaN  \n",
       "5                  NaN  1907          1.370000     NaN   NaN  \n",
       "6                  NaN  1908          1.360000     NaN   NaN  \n",
       "7                  NaN  1909          1.350000     NaN   NaN  \n",
       "8                  NaN  1910          1.180000     NaN   NaN  \n",
       "9                  NaN  1911          1.370000     NaN   NaN  "
      ]
     },
     "execution_count": 248,
     "metadata": {},
     "output_type": "execute_result"
    }
   ],
   "source": [
    "#loading the crop dataset\n",
    "df = pd.read_excel(\"../files/crops.xlsx\", sheet_name=\"CropStats\")\n",
    "\n",
    "#reading and displaying the first 10 rows\n",
    "print(\"First 10 rows:\")\n",
    "df.head(10)\n"
   ]
  },
  {
   "cell_type": "markdown",
   "metadata": {},
   "source": [
    "Now, we are reading and displaying the last 10 rows of the DataFrame loaded from the \"crops.xlsx\" Excel file, specifically from the \"CropStats\" sheet.\n",
    "\n",
    "This action provides insight into the end of the dataset, helping to ensure that we have a complete view of the data. Examining the last rows can be useful to check for any patterns or any deformities in the shape of our dataframe that might not be evident when looking at only the first rows."
   ]
  },
  {
   "cell_type": "markdown",
   "metadata": {},
   "source": [
    "Now let's check the details of our dataframe to see what we are working with."
   ]
  },
  {
   "cell_type": "code",
   "execution_count": 249,
   "metadata": {},
   "outputs": [
    {
     "name": "stdout",
     "output_type": "stream",
     "text": [
      "<class 'pandas.core.frame.DataFrame'>\n",
      "RangeIndex: 36707 entries, 0 to 36706\n",
      "Data columns (total 11 columns):\n",
      " #   Column               Non-Null Count  Dtype  \n",
      "---  ------               --------------  -----  \n",
      " 0   Unnamed: 0           36707 non-null  int64  \n",
      " 1   Harvest_year         36707 non-null  int64  \n",
      " 2   admin0               36707 non-null  object \n",
      " 3   admin1               33716 non-null  object \n",
      " 4   crop                 36707 non-null  object \n",
      " 5   hectares (ha)        35084 non-null  float64\n",
      " 6   production (tonnes)  34709 non-null  float64\n",
      " 7   year                 36707 non-null  int64  \n",
      " 8   yield(tonnes/ha)     34694 non-null  float64\n",
      " 9   admin2               0 non-null      float64\n",
      " 10  notes                5641 non-null   object \n",
      "dtypes: float64(4), int64(3), object(4)\n",
      "memory usage: 3.1+ MB\n"
     ]
    }
   ],
   "source": [
    "#check the columns and their dataypes\n",
    "df.info()"
   ]
  },
  {
   "cell_type": "markdown",
   "metadata": {},
   "source": [
    "It seems we have an admin2 column which is completely empty, also we have tons of missing values in the notes column as well. So let's drop the admin2 column and look at the notes column a bit more in detail to see if we can find anything useful in there. Also according to the docoumentation, the harvest_year and year columns are not the same. For the sake of this project, we will only use the harvest_year feature as that will actually be related to any insights we want to make, the year feature only pertains to the year in which the data was reported."
   ]
  },
  {
   "cell_type": "code",
   "execution_count": 250,
   "metadata": {},
   "outputs": [
    {
     "data": {
      "text/html": [
       "<div>\n",
       "<style scoped>\n",
       "    .dataframe tbody tr th:only-of-type {\n",
       "        vertical-align: middle;\n",
       "    }\n",
       "\n",
       "    .dataframe tbody tr th {\n",
       "        vertical-align: top;\n",
       "    }\n",
       "\n",
       "    .dataframe thead th {\n",
       "        text-align: right;\n",
       "    }\n",
       "</style>\n",
       "<table border=\"1\" class=\"dataframe\">\n",
       "  <thead>\n",
       "    <tr style=\"text-align: right;\">\n",
       "      <th></th>\n",
       "      <th>year</th>\n",
       "      <th>country</th>\n",
       "      <th>country_region</th>\n",
       "      <th>crop</th>\n",
       "      <th>hectares</th>\n",
       "      <th>production</th>\n",
       "      <th>yield</th>\n",
       "      <th>notes</th>\n",
       "    </tr>\n",
       "  </thead>\n",
       "  <tbody>\n",
       "    <tr>\n",
       "      <th>0</th>\n",
       "      <td>1902</td>\n",
       "      <td>Austria</td>\n",
       "      <td>NaN</td>\n",
       "      <td>wheat</td>\n",
       "      <td>NaN</td>\n",
       "      <td>NaN</td>\n",
       "      <td>1.310000</td>\n",
       "      <td>NaN</td>\n",
       "    </tr>\n",
       "    <tr>\n",
       "      <th>1</th>\n",
       "      <td>1903</td>\n",
       "      <td>Austria</td>\n",
       "      <td>NaN</td>\n",
       "      <td>wheat</td>\n",
       "      <td>NaN</td>\n",
       "      <td>NaN</td>\n",
       "      <td>1.470000</td>\n",
       "      <td>NaN</td>\n",
       "    </tr>\n",
       "    <tr>\n",
       "      <th>2</th>\n",
       "      <td>1904</td>\n",
       "      <td>Austria</td>\n",
       "      <td>NaN</td>\n",
       "      <td>wheat</td>\n",
       "      <td>NaN</td>\n",
       "      <td>NaN</td>\n",
       "      <td>1.270000</td>\n",
       "      <td>NaN</td>\n",
       "    </tr>\n",
       "    <tr>\n",
       "      <th>3</th>\n",
       "      <td>1905</td>\n",
       "      <td>Austria</td>\n",
       "      <td>NaN</td>\n",
       "      <td>wheat</td>\n",
       "      <td>NaN</td>\n",
       "      <td>NaN</td>\n",
       "      <td>1.330000</td>\n",
       "      <td>NaN</td>\n",
       "    </tr>\n",
       "    <tr>\n",
       "      <th>4</th>\n",
       "      <td>1906</td>\n",
       "      <td>Austria</td>\n",
       "      <td>NaN</td>\n",
       "      <td>wheat</td>\n",
       "      <td>NaN</td>\n",
       "      <td>NaN</td>\n",
       "      <td>1.280000</td>\n",
       "      <td>NaN</td>\n",
       "    </tr>\n",
       "  </tbody>\n",
       "</table>\n",
       "</div>"
      ],
      "text/plain": [
       "   year  country country_region   crop  hectares  production    yield notes\n",
       "0  1902  Austria            NaN  wheat       NaN         NaN 1.310000   NaN\n",
       "1  1903  Austria            NaN  wheat       NaN         NaN 1.470000   NaN\n",
       "2  1904  Austria            NaN  wheat       NaN         NaN 1.270000   NaN\n",
       "3  1905  Austria            NaN  wheat       NaN         NaN 1.330000   NaN\n",
       "4  1906  Austria            NaN  wheat       NaN         NaN 1.280000   NaN"
      ]
     },
     "execution_count": 250,
     "metadata": {},
     "output_type": "execute_result"
    }
   ],
   "source": [
    "#dropping columns admin2 year and Unnamed: 0 because they are not needed \n",
    "df = df.drop('admin2', axis=1)\n",
    "df = df.drop('year', axis=1)\n",
    "df = df.drop('Unnamed: 0', axis=1)\n",
    "\n",
    "\n",
    "#renaming columns to make it easier for us\n",
    "df.rename(columns={\n",
    "    'admin0' : 'country',\n",
    "    'admin1' : 'country_region',\n",
    "    'Harvest_year' : 'year',\n",
    "    'yield(tonnes/ha)' : 'yield',\n",
    "    'hectares (ha)' : 'hectares',\n",
    "    'production (tonnes)' : 'production'}, inplace=True)\n",
    "\n",
    "df.head()"
   ]
  },
  {
   "cell_type": "markdown",
   "metadata": {},
   "source": [
    "Now let's also take a closer look into the notes column to see if there is any relevant information for us there."
   ]
  },
  {
   "cell_type": "code",
   "execution_count": 251,
   "metadata": {},
   "outputs": [
    {
     "data": {
      "text/plain": [
       "INSEE code 52                                                         238\n",
       "INSEE code 11                                                         238\n",
       "INSEE code 93                                                         238\n",
       "INSEE code 91                                                         238\n",
       "INSEE code 83                                                         238\n",
       "INSEE code 82                                                         238\n",
       "INSEE code 74                                                         238\n",
       "INSEE code 73                                                         238\n",
       "INSEE code 72                                                         238\n",
       "INSEE code 54                                                         238\n",
       "INSEE code 53                                                         238\n",
       "INSEE code 43                                                         238\n",
       "INSEE code 42                                                         238\n",
       "INSEE code 41                                                         238\n",
       "INSEE code 31                                                         238\n",
       "INSEE code 26                                                         238\n",
       "INSEE code 25                                                         238\n",
       "INSEE code 24                                                         238\n",
       "INSEE code 23                                                         238\n",
       "INSEE code 22                                                         238\n",
       "INSEE code 21                                                         238\n",
       "INSEE code 94                                                         238\n",
       "Hebei, Beijing, Tianjin, Liaoning, Jilin, Heilongjiang, Nei Mongol    174\n",
       "Sichuan, Xizang, Chongqing                                            174\n",
       "FAO country level data                                                 57\n",
       "Name: notes, dtype: int64"
      ]
     },
     "execution_count": 251,
     "metadata": {},
     "output_type": "execute_result"
    }
   ],
   "source": [
    "df['notes'].value_counts()"
   ]
  },
  {
   "cell_type": "markdown",
   "metadata": {},
   "source": [
    "It seems that the notes column has information in regards to the 'country region' column we have renamed. Let's check the country_region column and notes columns together to see if there are any missing values in the region column we could fill in with the notes."
   ]
  },
  {
   "cell_type": "code",
   "execution_count": 252,
   "metadata": {},
   "outputs": [
    {
     "name": "stdout",
     "output_type": "stream",
     "text": [
      "Row 5532: 'country_region' is NaN, but 'notes' is not NaN.\n",
      "Row 5533: 'country_region' is NaN, but 'notes' is not NaN.\n",
      "Row 5534: 'country_region' is NaN, but 'notes' is not NaN.\n",
      "Row 5535: 'country_region' is NaN, but 'notes' is not NaN.\n",
      "Row 5536: 'country_region' is NaN, but 'notes' is not NaN.\n",
      "Row 5537: 'country_region' is NaN, but 'notes' is not NaN.\n",
      "Row 5538: 'country_region' is NaN, but 'notes' is not NaN.\n",
      "Row 5539: 'country_region' is NaN, but 'notes' is not NaN.\n",
      "Row 5540: 'country_region' is NaN, but 'notes' is not NaN.\n",
      "Row 5541: 'country_region' is NaN, but 'notes' is not NaN.\n",
      "Row 5542: 'country_region' is NaN, but 'notes' is not NaN.\n",
      "Row 5543: 'country_region' is NaN, but 'notes' is not NaN.\n",
      "Row 5544: 'country_region' is NaN, but 'notes' is not NaN.\n",
      "Row 5545: 'country_region' is NaN, but 'notes' is not NaN.\n",
      "Row 5546: 'country_region' is NaN, but 'notes' is not NaN.\n",
      "Row 5547: 'country_region' is NaN, but 'notes' is not NaN.\n",
      "Row 5548: 'country_region' is NaN, but 'notes' is not NaN.\n",
      "Row 5549: 'country_region' is NaN, but 'notes' is not NaN.\n",
      "Row 5550: 'country_region' is NaN, but 'notes' is not NaN.\n",
      "Row 5551: 'country_region' is NaN, but 'notes' is not NaN.\n",
      "Row 5552: 'country_region' is NaN, but 'notes' is not NaN.\n",
      "Row 5553: 'country_region' is NaN, but 'notes' is not NaN.\n",
      "Row 5554: 'country_region' is NaN, but 'notes' is not NaN.\n",
      "Row 5555: 'country_region' is NaN, but 'notes' is not NaN.\n",
      "Row 5556: 'country_region' is NaN, but 'notes' is not NaN.\n",
      "Row 5557: 'country_region' is NaN, but 'notes' is not NaN.\n",
      "Row 5558: 'country_region' is NaN, but 'notes' is not NaN.\n",
      "Row 5559: 'country_region' is NaN, but 'notes' is not NaN.\n",
      "Row 5560: 'country_region' is NaN, but 'notes' is not NaN.\n",
      "Row 5561: 'country_region' is NaN, but 'notes' is not NaN.\n",
      "Row 5562: 'country_region' is NaN, but 'notes' is not NaN.\n",
      "Row 5563: 'country_region' is NaN, but 'notes' is not NaN.\n",
      "Row 5564: 'country_region' is NaN, but 'notes' is not NaN.\n",
      "Row 5565: 'country_region' is NaN, but 'notes' is not NaN.\n",
      "Row 5566: 'country_region' is NaN, but 'notes' is not NaN.\n",
      "Row 5567: 'country_region' is NaN, but 'notes' is not NaN.\n",
      "Row 5568: 'country_region' is NaN, but 'notes' is not NaN.\n",
      "Row 5569: 'country_region' is NaN, but 'notes' is not NaN.\n",
      "Row 5570: 'country_region' is NaN, but 'notes' is not NaN.\n",
      "Row 5571: 'country_region' is NaN, but 'notes' is not NaN.\n",
      "Row 5572: 'country_region' is NaN, but 'notes' is not NaN.\n",
      "Row 5573: 'country_region' is NaN, but 'notes' is not NaN.\n",
      "Row 5574: 'country_region' is NaN, but 'notes' is not NaN.\n",
      "Row 5575: 'country_region' is NaN, but 'notes' is not NaN.\n",
      "Row 5576: 'country_region' is NaN, but 'notes' is not NaN.\n",
      "Row 5577: 'country_region' is NaN, but 'notes' is not NaN.\n",
      "Row 5578: 'country_region' is NaN, but 'notes' is not NaN.\n",
      "Row 5579: 'country_region' is NaN, but 'notes' is not NaN.\n",
      "Row 5580: 'country_region' is NaN, but 'notes' is not NaN.\n",
      "Row 5581: 'country_region' is NaN, but 'notes' is not NaN.\n",
      "Row 5582: 'country_region' is NaN, but 'notes' is not NaN.\n",
      "Row 5583: 'country_region' is NaN, but 'notes' is not NaN.\n",
      "Row 5584: 'country_region' is NaN, but 'notes' is not NaN.\n",
      "Row 5585: 'country_region' is NaN, but 'notes' is not NaN.\n",
      "Row 5586: 'country_region' is NaN, but 'notes' is not NaN.\n",
      "Row 5587: 'country_region' is NaN, but 'notes' is not NaN.\n",
      "Row 5588: 'country_region' is NaN, but 'notes' is not NaN.\n"
     ]
    }
   ],
   "source": [
    "for index, row in df.iterrows():\n",
    "    country_region = row['country_region']\n",
    "    notes = row['notes']\n",
    "    \n",
    "    if pd.isna(country_region) and not pd.isna(notes):\n",
    "        print(f\"Row {index}: 'country_region' is NaN, but 'notes' is not NaN.\")"
   ]
  },
  {
   "cell_type": "markdown",
   "metadata": {},
   "source": [
    "After looking at the spreadsheet manually as well, we have decided that the notes column is not worth using for our predictions/forecasts."
   ]
  },
  {
   "cell_type": "code",
   "execution_count": 253,
   "metadata": {},
   "outputs": [],
   "source": [
    "df = df.drop('notes', axis=1)\n"
   ]
  },
  {
   "cell_type": "markdown",
   "metadata": {},
   "source": [
    "Now let's handle the missing values in our data. Let's just get a quick overview about how much of what information we are missing out on."
   ]
  },
  {
   "cell_type": "code",
   "execution_count": 254,
   "metadata": {},
   "outputs": [
    {
     "data": {
      "image/png": "[encoded data removed]",
      "text/plain": [
       "<Figure size 1000x600 with 1 Axes>"
      ]
     },
     "metadata": {},
     "output_type": "display_data"
    }
   ],
   "source": [
    "\n",
    "# Count the number of missing values in each column\n",
    "missing_values = df.isnull().sum()\n",
    "\n",
    "# Filter columns with missing values\n",
    "missing_values = missing_values[missing_values > 0]\n",
    "missing_values = missing_values.sort_values(ascending=False)\n",
    "\n",
    "# Create a bar chart for columns with missing values\n",
    "plt.figure(figsize=(10, 6))\n",
    "missing_values.plot(kind='bar', color='lightcoral')\n",
    "plt.title(\"Number of Missing Values in Columns\")\n",
    "plt.ylabel(\"Count of Missing Values\")\n",
    "plt.xticks(rotation=45)\n",
    "plt.show()\n"
   ]
  },
  {
   "cell_type": "markdown",
   "metadata": {},
   "source": [
    "Honestly, we could just drop every row with missing values and our dataset would probably not suffer too much as we have so many rows. Regardless, let's not do that and instead let's figure out a way in which we can handle these in the most logical way possible."
   ]
  },
  {
   "cell_type": "markdown",
   "metadata": {},
   "source": [
    "First off let's begin with country_region, we've decided the best way to handle this is just to assign unspecified country_region's the value of unspecified."
   ]
  },
  {
   "cell_type": "code",
   "execution_count": 255,
   "metadata": {},
   "outputs": [],
   "source": [
    "df['country_region'].fillna(\"Not specified\", inplace=True)"
   ]
  },
  {
   "cell_type": "markdown",
   "metadata": {},
   "source": [
    "Also let's drop every row where all three of these columns are blank, as we have no reliable way of making predictions if they have no information at all."
   ]
  },
  {
   "cell_type": "code",
   "execution_count": 256,
   "metadata": {},
   "outputs": [],
   "source": [
    "df = df.dropna(subset=['production', 'yield', 'hectares'], how='all')\n"
   ]
  },
  {
   "cell_type": "code",
   "execution_count": 257,
   "metadata": {},
   "outputs": [
    {
     "data": {
      "image/png": "[encoded data removed]",
      "text/plain": [
       "<Figure size 1000x600 with 1 Axes>"
      ]
     },
     "metadata": {},
     "output_type": "display_data"
    }
   ],
   "source": [
    "\n",
    "# Count the number of missing values in each column\n",
    "missing_values = df.isnull().sum()\n",
    "\n",
    "# Filter columns with missing values\n",
    "missing_values = missing_values[missing_values > 0]\n",
    "missing_values = missing_values.sort_values(ascending=False)\n",
    "\n",
    "# Create a bar chart for columns with missing values\n",
    "plt.figure(figsize=(10, 6))\n",
    "missing_values.plot(kind='bar', color='lightcoral')\n",
    "plt.title(\"Number of Missing Values in Columns\")\n",
    "plt.ylabel(\"Count of Missing Values\")\n",
    "plt.xticks(rotation=45)\n",
    "plt.show()\n"
   ]
  },
  {
   "cell_type": "markdown",
   "metadata": {},
   "source": [
    "Now we need to decide how to fill in the values for the remaining 3 columns. These columns are all kind of related to each other so we should take this into account as well (production = yield * hectares)."
   ]
  },
  {
   "cell_type": "markdown",
   "metadata": {},
   "source": [
    "Let's see if we can decide which of these columns would be the easiest to average out. To do this, we can check for the column with the lowest coefficient of variation."
   ]
  },
  {
   "cell_type": "code",
   "execution_count": 258,
   "metadata": {},
   "outputs": [
    {
     "name": "stdout",
     "output_type": "stream",
     "text": [
      "Column with the smallest coefficient of variation:\n",
      "column                      hectares\n",
      "coefficient_of_variation    5.865151\n",
      "Name: 5, dtype: object\n"
     ]
    }
   ],
   "source": [
    "# Create a list to store DataFrames for each column\n",
    "result_dfs = []\n",
    "\n",
    "# Loop through unique countries\n",
    "for country in df['country'].unique():\n",
    "    # Filter the DataFrame for the specific country\n",
    "    country_df = df[df['country'] == country]\n",
    "    \n",
    "    # Calculate the coefficient of variation for each column\n",
    "    cv_production = (country_df['production'].std() / country_df['production'].mean()) * 100\n",
    "    cv_yield = (country_df['yield'].std() / country_df['yield'].mean()) * 100\n",
    "    cv_hectares = (country_df['hectares'].std() / country_df['hectares'].mean()) * 100\n",
    "    \n",
    "    # Create DataFrames for each column and store in the list\n",
    "    result_dfs.append(pd.DataFrame({'column': ['production'], 'coefficient_of_variation': [cv_production]}))\n",
    "    result_dfs.append(pd.DataFrame({'column': ['yield'], 'coefficient_of_variation': [cv_yield]}))\n",
    "    result_dfs.append(pd.DataFrame({'column': ['hectares'], 'coefficient_of_variation': [cv_hectares]}))\n",
    "\n",
    "# Concatenate the DataFrames in the list into a single result DataFrame\n",
    "result_df = pd.concat(result_dfs, ignore_index=True)\n",
    "\n",
    "# Find the column with the smallest coefficient of variation\n",
    "min_cv_column = result_df.loc[result_df['coefficient_of_variation'].idxmin()]\n",
    "\n",
    "# Display the result\n",
    "print(\"Column with the smallest coefficient of variation:\")\n",
    "print(min_cv_column)\n"
   ]
  },
  {
   "cell_type": "markdown",
   "metadata": {},
   "source": [
    "It seems that the hectares column has the smallest coefficient of variation. Which makes sense when we think about it as you cannot 'grow' more land. The land a country has is finite and not expandable (at least not like before). So let's fill in the missing values for hectares by grabbing the average of the countries."
   ]
  },
  {
   "cell_type": "code",
   "execution_count": 259,
   "metadata": {},
   "outputs": [],
   "source": [
    "def fill_average_hectares(row):\n",
    "    year = row['year']\n",
    "    country = row['country']\n",
    "    # left out part of the condition because some countries did not have data for it\n",
    "    condition = (df['country'] == country) # & (df['year'] < 1940 if year < 1940 else df['year'] >= 1940)\n",
    "    average_ha = df.loc[condition, 'hectares'].mean()\n",
    "    return average_ha\n",
    "\n",
    "# Fill missing values in 'hectares' based on the calculated averages\n",
    "df['hectares'] = df.apply(lambda row: fill_average_hectares(row) if pd.isna(row['hectares']) else row['hectares'], axis=1)\n"
   ]
  },
  {
   "cell_type": "markdown",
   "metadata": {},
   "source": [
    "Now that we have the hectares column filled out for each row, we can move on to handling the production and yield columns. Let's visualize these fields to get an idea of how we can do this."
   ]
  },
  {
   "cell_type": "code",
   "execution_count": 260,
   "metadata": {},
   "outputs": [
    {
     "data": {
      "image/png": "[encoded data removed]",
      "text/plain": [
       "<Figure size 800x550 with 2 Axes>"
      ]
     },
     "metadata": {},
     "output_type": "display_data"
    }
   ],
   "source": [
    "correlation_matrix = df.corr()\n",
    "sns.heatmap(correlation_matrix, annot=True, cmap=\"coolwarm\")\n",
    "plt.title(\"Correlation Matrix\")\n",
    "plt.show()"
   ]
  },
  {
   "cell_type": "markdown",
   "metadata": {},
   "source": [
    "as it seems that production and hectares have a high correlation, let's use the hectares column to assist in filling in missing values for our production column. To do this, let's use a linear regression model and use that model to make predictions on the production column. Then we can fill in the missing values using our predictions."
   ]
  },
  {
   "cell_type": "code",
   "execution_count": 261,
   "metadata": {},
   "outputs": [
    {
     "data": {
      "text/html": [
       "<style>#sk-container-id-8 {color: black;background-color: white;}#sk-container-id-8 pre{padding: 0;}#sk-container-id-8 div.sk-toggleable {background-color: white;}#sk-container-id-8 label.sk-toggleable__label {cursor: pointer;display: block;width: 100%;margin-bottom: 0;padding: 0.3em;box-sizing: border-box;text-align: center;}#sk-container-id-8 label.sk-toggleable__label-arrow:before {content: \"▸\";float: left;margin-right: 0.25em;color: #696969;}#sk-container-id-8 label.sk-toggleable__label-arrow:hover:before {color: black;}#sk-container-id-8 div.sk-estimator:hover label.sk-toggleable__label-arrow:before {color: black;}#sk-container-id-8 div.sk-toggleable__content {max-height: 0;max-width: 0;overflow: hidden;text-align: left;background-color: #f0f8ff;}#sk-container-id-8 div.sk-toggleable__content pre {margin: 0.2em;color: black;border-radius: 0.25em;background-color: #f0f8ff;}#sk-container-id-8 input.sk-toggleable__control:checked~div.sk-toggleable__content {max-height: 200px;max-width: 100%;overflow: auto;}#sk-container-id-8 input.sk-toggleable__control:checked~label.sk-toggleable__label-arrow:before {content: \"▾\";}#sk-container-id-8 div.sk-estimator input.sk-toggleable__control:checked~label.sk-toggleable__label {background-color: #d4ebff;}#sk-container-id-8 div.sk-label input.sk-toggleable__control:checked~label.sk-toggleable__label {background-color: #d4ebff;}#sk-container-id-8 input.sk-hidden--visually {border: 0;clip: rect(1px 1px 1px 1px);clip: rect(1px, 1px, 1px, 1px);height: 1px;margin: -1px;overflow: hidden;padding: 0;position: absolute;width: 1px;}#sk-container-id-8 div.sk-estimator {font-family: monospace;background-color: #f0f8ff;border: 1px dotted black;border-radius: 0.25em;box-sizing: border-box;margin-bottom: 0.5em;}#sk-container-id-8 div.sk-estimator:hover {background-color: #d4ebff;}#sk-container-id-8 div.sk-parallel-item::after {content: \"\";width: 100%;border-bottom: 1px solid gray;flex-grow: 1;}#sk-container-id-8 div.sk-label:hover label.sk-toggleable__label {background-color: #d4ebff;}#sk-container-id-8 div.sk-serial::before {content: \"\";position: absolute;border-left: 1px solid gray;box-sizing: border-box;top: 0;bottom: 0;left: 50%;z-index: 0;}#sk-container-id-8 div.sk-serial {display: flex;flex-direction: column;align-items: center;background-color: white;padding-right: 0.2em;padding-left: 0.2em;position: relative;}#sk-container-id-8 div.sk-item {position: relative;z-index: 1;}#sk-container-id-8 div.sk-parallel {display: flex;align-items: stretch;justify-content: center;background-color: white;position: relative;}#sk-container-id-8 div.sk-item::before, #sk-container-id-8 div.sk-parallel-item::before {content: \"\";position: absolute;border-left: 1px solid gray;box-sizing: border-box;top: 0;bottom: 0;left: 50%;z-index: -1;}#sk-container-id-8 div.sk-parallel-item {display: flex;flex-direction: column;z-index: 1;position: relative;background-color: white;}#sk-container-id-8 div.sk-parallel-item:first-child::after {align-self: flex-end;width: 50%;}#sk-container-id-8 div.sk-parallel-item:last-child::after {align-self: flex-start;width: 50%;}#sk-container-id-8 div.sk-parallel-item:only-child::after {width: 0;}#sk-container-id-8 div.sk-dashed-wrapped {border: 1px dashed gray;margin: 0 0.4em 0.5em 0.4em;box-sizing: border-box;padding-bottom: 0.4em;background-color: white;}#sk-container-id-8 div.sk-label label {font-family: monospace;font-weight: bold;display: inline-block;line-height: 1.2em;}#sk-container-id-8 div.sk-label-container {text-align: center;}#sk-container-id-8 div.sk-container {/* jupyter's `normalize.less` sets `[hidden] { display: none; }` but bootstrap.min.css set `[hidden] { display: none !important; }` so we also need the `!important` here to be able to override the default hidden behavior on the sphinx rendered scikit-learn.org. See: https://github.com/scikit-learn/scikit-learn/issues/21755 */display: inline-block !important;position: relative;}#sk-container-id-8 div.sk-text-repr-fallback {display: none;}</style><div id=\"sk-container-id-8\" class=\"sk-top-container\"><div class=\"sk-text-repr-fallback\"><pre>LinearRegression(copy_X=True, fit_intercept=True, n_jobs=None, positive=False)</pre><b>In a Jupyter environment, please rerun this cell to show the HTML representation or trust the notebook. <br />On GitHub, the HTML representation is unable to render, please try loading this page with nbviewer.org.</b></div><div class=\"sk-container\" hidden><div class=\"sk-item\"><div class=\"sk-estimator sk-toggleable\"><input class=\"sk-toggleable__control sk-hidden--visually\" id=\"sk-estimator-id-8\" type=\"checkbox\" checked><label for=\"sk-estimator-id-8\" class=\"sk-toggleable__label sk-toggleable__label-arrow\">LinearRegression</label><div class=\"sk-toggleable__content\"><pre>LinearRegression(copy_X=True, fit_intercept=True, n_jobs=None, positive=False)</pre></div></div></div></div></div>"
      ],
      "text/plain": [
       "LinearRegression(copy_X=True, fit_intercept=True, n_jobs=None, positive=False)"
      ]
     },
     "execution_count": 261,
     "metadata": {},
     "output_type": "execute_result"
    }
   ],
   "source": [
    "df2 = df.dropna(subset=['production'])\n",
    "\n",
    "X = df2[['hectares']]\n",
    "y = df2[['production']]\n",
    "\n",
    "model = LinearRegression()\n",
    "model.fit(X, y)"
   ]
  },
  {
   "cell_type": "code",
   "execution_count": 262,
   "metadata": {},
   "outputs": [],
   "source": [
    "missing_data = df[df['production'].isnull()]\n",
    "predictions = model.predict(missing_data[['hectares']])\n",
    "\n",
    "# Fill in missing data with predictions\n",
    "df.loc[df['production'].isnull(), 'production'] = predictions"
   ]
  },
  {
   "cell_type": "code",
   "execution_count": 263,
   "metadata": {},
   "outputs": [],
   "source": [
    "# correlation_matrix = df.corr()\n",
    "# sns.heatmap(correlation_matrix, annot=True, cmap=\"coolwarm\")\n",
    "# plt.title(\"Correlation Matrix\")\n",
    "# plt.show()"
   ]
  },
  {
   "cell_type": "markdown",
   "metadata": {},
   "source": [
    "And finally, let's handle the missing values in the yield column by just calculating the yield based on the hectares and production columns."
   ]
  },
  {
   "cell_type": "code",
   "execution_count": 264,
   "metadata": {},
   "outputs": [],
   "source": [
    "def fill_missing_yield(row):\n",
    "    yield_per_ha = row['yield']\n",
    "    if pd.isna(yield_per_ha):\n",
    "        hectares = row['hectares']\n",
    "        production = row['production']\n",
    "        if production == 0:\n",
    "            return 0\n",
    "        if pd.notna(hectares) and pd.notna(production):\n",
    "            return hectares / production\n",
    "    return yield_per_ha\n",
    "\n",
    "# Apply the function to fill missing values in 'yield'\n",
    "df['yield'] = df.apply(fill_missing_yield, axis=1)"
   ]
  },
  {
   "cell_type": "code",
   "execution_count": 265,
   "metadata": {},
   "outputs": [
    {
     "data": {
      "text/plain": [
       "year              False\n",
       "country           False\n",
       "country_region    False\n",
       "crop              False\n",
       "hectares          False\n",
       "production        False\n",
       "yield             False\n",
       "dtype: bool"
      ]
     },
     "execution_count": 265,
     "metadata": {},
     "output_type": "execute_result"
    }
   ],
   "source": [
    "df.isna().any()"
   ]
  },
  {
   "cell_type": "markdown",
   "metadata": {},
   "source": [
    "Now that our data is cleaned up a bit, let's take a closer look into it and see what interesting things we can pick up."
   ]
  },
  {
   "cell_type": "code",
   "execution_count": 266,
   "metadata": {},
   "outputs": [
    {
     "data": {
      "image/png": "[encoded data removed]",
      "text/plain": [
       "<Figure size 1000x1200 with 3 Axes>"
      ]
     },
     "metadata": {},
     "output_type": "display_data"
    }
   ],
   "source": [
    "# Determine the minimum and maximum years for binning\n",
    "min_year = df['year'].min()\n",
    "max_year = df['year'].max()\n",
    "\n",
    "# Create 10 equal bins with rounded edges\n",
    "num_bins = 10\n",
    "bin_width = (max_year - min_year) / num_bins\n",
    "bin_edges = [min_year + i * bin_width for i in range(num_bins + 1)]\n",
    "\n",
    "# Create the 'year_bin' column with binned values\n",
    "df['year_bin'] = pd.cut(df['year'], bins=bin_edges, include_lowest=True, right=False)\n",
    "\n",
    "# Group data by 'year_bin' and calculate the mean yield, mean hectares, and mean production for each bin\n",
    "binned_yield = df.groupby('year_bin')['yield'].mean()\n",
    "binned_hectares = df.groupby('year_bin')['hectares'].mean()\n",
    "binned_production = df.groupby('year_bin')['production'].mean()\n",
    "\n",
    "# Convert the 'year_bin' labels to strings\n",
    "bin_labels = [f\"{int(b.left)}-{int(b.right)}\" for b in binned_yield.index]\n",
    "\n",
    "# Create a figure with three subplots\n",
    "fig, (ax1, ax2, ax3) = plt.subplots(3, 1, figsize=(10, 12))\n",
    "\n",
    "# Plot the binned yield data on the first subplot\n",
    "ax1.plot(bin_labels, binned_yield.values)\n",
    "ax1.set_ylabel('Average Yield (tonnes/ha)')\n",
    "ax1.set_title('Change in Crop Yield, Hectares, and Production Over Time')\n",
    "\n",
    "# Plot the binned hectares data on the second subplot\n",
    "ax2.plot(bin_labels, binned_hectares.values, color='orange')\n",
    "ax2.set_ylabel('Average Hectares (ha)')\n",
    "\n",
    "# Plot the binned production data on the third subplot\n",
    "ax3.plot(bin_labels, binned_production.values, color='green')\n",
    "ax3.set_xlabel('Year Bins')\n",
    "ax3.set_ylabel('Average Production (tonnes)')\n",
    "\n",
    "# Rotate x-axis labels for readability in all subplots\n",
    "ax1.set_xticklabels(bin_labels, rotation=45)\n",
    "ax2.set_xticklabels(bin_labels, rotation=45)\n",
    "ax3.set_xticklabels(bin_labels, rotation=45)\n",
    "\n",
    "# Adjust spacing between subplots\n",
    "plt.tight_layout()\n",
    "\n",
    "# Show the subplots\n",
    "plt.show()\n",
    "\n",
    "df.drop('year_bin', axis=1, inplace=True)"
   ]
  },
  {
   "cell_type": "markdown",
   "metadata": {},
   "source": [
    "It seems that the hectares didn't really have an effect on the yield, in this case we can call yield something along the lines of efficiency as it would refer to the amount of production made in the same sized area. So it seems that around the end of the 1940's is when the farmers began utilizing different methods and technologies to improve their yield. Let's see which countries benefited the most from this."
   ]
  },
  {
   "cell_type": "code",
   "execution_count": 267,
   "metadata": {},
   "outputs": [
    {
     "name": "stdout",
     "output_type": "stream",
     "text": [
      "Top 5 countries with the highest average yield per hectare before 1940:\n",
      "country\n",
      "Belgium          2.513667\n",
      "United Kingdom   2.354909\n",
      "Canada           1.964231\n",
      "Sweden           1.878030\n",
      "Netherlands      1.824736\n",
      "Name: yield, dtype: float64\n",
      "\n",
      "Top 5 countries with the highest average yield per hectare after 1940:\n",
      "country\n",
      "Belgium          5.872049\n",
      "United Kingdom   5.499650\n",
      "Netherlands      5.456331\n",
      "France           4.845740\n",
      "Chile            4.059439\n",
      "Name: yield, dtype: float64\n"
     ]
    }
   ],
   "source": [
    "# Filter data before and after 1940\n",
    "df_before_1940 = df[df['year'] < 1940]\n",
    "df_after_1940 = df[df['year'] >= 1940]\n",
    "\n",
    "# Calculate the average yield for each country before and after 1940\n",
    "average_yield_before_1940 = df_before_1940.groupby('country')['yield'].mean()\n",
    "average_yield_after_1940 = df_after_1940.groupby('country')['yield'].mean()\n",
    "\n",
    "# Get the top 5 countries with the highest average yield before and after 1940\n",
    "top_5_before_1940 = average_yield_before_1940.nlargest(5)\n",
    "top_5_after_1940 = average_yield_after_1940.nlargest(5)\n",
    "\n",
    "# Print the results\n",
    "print(\"Top 5 countries with the highest average yield per hectare before 1940:\")\n",
    "print(top_5_before_1940)\n",
    "\n",
    "print(\"\\nTop 5 countries with the highest average yield per hectare after 1940:\")\n",
    "print(top_5_after_1940)"
   ]
  },
  {
   "cell_type": "code",
   "execution_count": 268,
   "metadata": {},
   "outputs": [
    {
     "data": {
      "image/png": "[encoded data removed]",
      "text/plain": [
       "<Figure size 1200x600 with 2 Axes>"
      ]
     },
     "metadata": {},
     "output_type": "display_data"
    }
   ],
   "source": [
    "max_value = max(top_5_before_1940.max(), top_5_after_1940.max())\n",
    "\n",
    "# Create bar charts to visualize the data\n",
    "plt.figure(figsize=(12, 6))\n",
    "plt.subplot(1, 2, 1)\n",
    "plt.bar(top_5_before_1940.index, top_5_before_1940)\n",
    "plt.xlabel('Country')\n",
    "plt.ylabel('Average Yield (tonnes/ha)')\n",
    "plt.title('Top 5 \"Efficient\" Countries Before 1940')\n",
    "plt.ylim(0, max_value + 1)  \n",
    "\n",
    "\n",
    "plt.subplot(1, 2, 2)\n",
    "plt.bar(top_5_after_1940.index, top_5_after_1940)\n",
    "plt.xlabel('Country')\n",
    "plt.ylabel('Average Yield (tonnes/ha)')\n",
    "plt.title('Top 5 \"Efficient\" Countries After 1940')\n",
    "plt.ylim(0, max_value + 1)  \n",
    "\n",
    "plt\n",
    "plt.tight_layout()\n",
    "plt.show()"
   ]
  },
  {
   "cell_type": "markdown",
   "metadata": {},
   "source": [
    "Let's take a look at which country had the highes amount of production per year."
   ]
  },
  {
   "cell_type": "code",
   "execution_count": 269,
   "metadata": {},
   "outputs": [
    {
     "data": {
      "application/vnd.plotly.v1+json": {
       "config": {
        "plotlyServerURL": "https://plot.ly"
       },
       "data": [
        {
         "hovertemplate": "<b>%{hovertext}</b><br><br>Country=Australia<br>year=%{x}<br>yield=%{y}<extra></extra>",
         "hovertext": [
          "Australia"
         ],
         "legendgroup": "Australia",
         "marker": {
          "color": "#636efa",
          "symbol": "circle"
         },
         "mode": "markers",
         "name": "Australia",
         "orientation": "v",
         "showlegend": true,
         "type": "scatter",
         "x": [
          1861
         ],
         "xaxis": "x",
         "y": [
          0.8781588447653431
         ],
         "yaxis": "y"
        },
        {
         "hovertemplate": "<b>%{hovertext}</b><br><br>Country=United States<br>year=%{x}<br>yield=%{y}<extra></extra>",
         "hovertext": [
          "United States",
          "United States",
          "United States",
          "United States",
          "United States",
          "United States",
          "United States",
          "United States",
          "United States",
          "United States",
          "United States",
          "United States",
          "United States",
          "United States",
          "United States",
          "United States",
          "United States",
          "United States",
          "United States",
          "United States",
          "United States",
          "United States",
          "United States",
          "United States",
          "United States",
          "United States",
          "United States",
          "United States",
          "United States",
          "United States",
          "United States",
          "United States",
          "United States",
          "United States",
          "United States",
          "United States",
          "United States",
          "United States",
          "United States",
          "United States",
          "United States",
          "United States",
          "United States",
          "United States",
          "United States",
          "United States",
          "United States",
          "United States",
          "United States",
          "United States",
          "United States",
          "United States",
          "United States",
          "United States",
          "United States",
          "United States",
          "United States",
          "United States",
          "United States",
          "United States",
          "United States",
          "United States",
          "United States",
          "United States",
          "United States",
          "United States",
          "United States",
          "United States",
          "United States",
          "United States",
          "United States",
          "United States",
          "United States",
          "United States",
          "United States",
          "United States",
          "United States",
          "United States",
          "United States",
          "United States",
          "United States",
          "United States",
          "United States",
          "United States",
          "United States",
          "United States",
          "United States",
          "United States",
          "United States",
          "United States",
          "United States"
         ],
         "legendgroup": "United States",
         "marker": {
          "color": "#EF553B",
          "symbol": "circle"
         },
         "mode": "markers",
         "name": "United States",
         "orientation": "v",
         "showlegend": true,
         "type": "scatter",
         "x": [
          1866,
          1867,
          1868,
          1869,
          1870,
          1871,
          1872,
          1873,
          1874,
          1875,
          1876,
          1877,
          1878,
          1879,
          1880,
          1881,
          1882,
          1883,
          1884,
          1885,
          1886,
          1887,
          1888,
          1889,
          1890,
          1891,
          1892,
          1893,
          1894,
          1895,
          1896,
          1897,
          1898,
          1899,
          1900,
          1901,
          1902,
          1903,
          1904,
          1905,
          1906,
          1907,
          1908,
          1909,
          1910,
          1911,
          1912,
          1917,
          1918,
          1919,
          1920,
          1921,
          1925,
          1929,
          1933,
          1937,
          1938,
          1943,
          1944,
          1945,
          1946,
          1948,
          1949,
          1954,
          1957,
          1958,
          1959,
          1960,
          1961,
          1962,
          1963,
          1964,
          1965,
          1966,
          1967,
          1968,
          1969,
          1970,
          1971,
          1972,
          1973,
          1974,
          1975,
          1976,
          1977,
          1978,
          1979,
          1980,
          1981,
          1982,
          2018
         ],
         "xaxis": "x",
         "y": [
          1.820299729498941,
          1.694761817119704,
          2.146698301684958,
          1.475070470456038,
          2.510758247584746,
          2.071375554257416,
          2.498204456346822,
          1.318148079981992,
          1.506454948550848,
          2.15297519730392,
          1.88306868568856,
          1.694761817119704,
          2.542142725679556,
          2.265959318445233,
          2.479373769489937,
          1.88306868568856,
          1.569223904740466,
          1.713592503976589,
          2.479373769489937,
          2.165528988541844,
          1.744976982071399,
          1.88306868568856,
          2.510758247584746,
          2.59235789063125,
          1.757530773309322,
          2.385220335205509,
          1.914453163783369,
          2.353835857110699,
          1.945837641878178,
          2.573527203774365,
          2.636296159963984,
          2.134144510447034,
          2.259682422826272,
          2.435435500157204,
          2.510758247584746,
          1.788915251404132,
          2.573527203774365,
          2.228297944731462,
          2.447989291395128,
          2.636296159963984,
          2.855987506627649,
          2.447989291395128,
          2.385220335205509,
          2.435435500157204,
          2.573527203774365,
          2.259682422826272,
          2.887371984722458,
          2.416604813300319,
          2.32245137901589,
          2.611188577488136,
          2.887371984722458,
          2.699065116153602,
          2.755557176724259,
          2.52331203882267,
          2.510758247584746,
          2.824603028532839,
          2.887371984722458,
          3.452292590429026,
          3.29537019995498,
          2.79321855043803,
          3.577830502808264,
          3.797521849471929,
          2.950140940912077,
          3.420908112334217,
          3.891675283756357,
          4.142751108514831,
          4.079982152325211,
          3.985828718040785,
          4.739056192316208,
          4.833209626600637,
          5.021516495169492,
          4.864594104695446,
          5.900281881824154,
          5.58643710087606,
          6.52797144372034,
          5.837512925634535,
          6.402433531341102,
          5.398130232307206,
          6.402433531341102,
          7.281198917995764,
          6.716278312289196,
          5.021516495169492,
          7.281198917995764,
          6.716278312289196,
          6.590740399909959,
          7.218429961806144,
          7.97165743608157,
          6.904585180858053,
          7.846119523702332,
          7.532274742754239,
          12.42825332554449
         ],
         "yaxis": "y"
        },
        {
         "hovertemplate": "<b>%{hovertext}</b><br><br>Country=Argentina<br>year=%{x}<br>yield=%{y}<extra></extra>",
         "hovertext": [
          "Argentina",
          "Argentina",
          "Argentina",
          "Argentina",
          "Argentina",
          "Argentina",
          "Argentina",
          "Argentina",
          "Argentina",
          "Argentina"
         ],
         "legendgroup": "Argentina",
         "marker": {
          "color": "#00cc96",
          "symbol": "circle"
         },
         "mode": "markers",
         "name": "Argentina",
         "orientation": "v",
         "showlegend": true,
         "type": "scatter",
         "x": [
          1913,
          1914,
          1916,
          1924,
          1931,
          1934,
          1935,
          1936,
          1941,
          2019
         ],
         "xaxis": "x",
         "y": [
          1.304,
          1.61,
          1.019,
          2.046,
          2.275,
          1.587,
          2.013,
          1.963,
          2.076,
          3.216
         ],
         "yaxis": "y"
        },
        {
         "hovertemplate": "<b>%{hovertext}</b><br><br>Country=Canada<br>year=%{x}<br>yield=%{y}<extra></extra>",
         "hovertext": [
          "Canada",
          "Canada",
          "Canada",
          "Canada",
          "Canada",
          "Canada",
          "Canada",
          "Canada",
          "Canada",
          "Canada",
          "Canada",
          "Canada",
          "Canada",
          "Canada",
          "Canada",
          "Canada",
          "Canada",
          "Canada"
         ],
         "legendgroup": "Canada",
         "marker": {
          "color": "#ab63fa",
          "symbol": "circle"
         },
         "mode": "markers",
         "name": "Canada",
         "orientation": "v",
         "showlegend": true,
         "type": "scatter",
         "x": [
          1915,
          1922,
          1923,
          1926,
          1927,
          1928,
          1930,
          1932,
          1939,
          1940,
          1942,
          1947,
          1950,
          1951,
          1952,
          1953,
          1955,
          1956
         ],
         "xaxis": "x",
         "y": [
          1.751694220285386,
          1.199045575729772,
          1.457122502753746,
          1.195863788426605,
          1.436250207836719,
          1.580213130666451,
          1.136268507155426,
          1.096185218435215,
          1.308542275253168,
          1.26465833417402,
          1.734523516059825,
          0.9437454788184136,
          1.148699844745119,
          1.474446156170582,
          1.804338824149852,
          1.61613577981729,
          1.540842333399214,
          1.69166350571533
         ],
         "yaxis": "y"
        },
        {
         "hovertemplate": "<b>%{hovertext}</b><br><br>Country=India<br>year=%{x}<br>yield=%{y}<extra></extra>",
         "hovertext": [
          "India",
          "India",
          "India",
          "India",
          "India",
          "India",
          "India",
          "India",
          "India",
          "India",
          "India",
          "India",
          "India",
          "India",
          "India",
          "India",
          "India",
          "India",
          "India",
          "India",
          "India",
          "India",
          "India",
          "India"
         ],
         "legendgroup": "India",
         "marker": {
          "color": "#FFA15A",
          "symbol": "circle"
         },
         "mode": "markers",
         "name": "India",
         "orientation": "v",
         "showlegend": true,
         "type": "scatter",
         "x": [
          1983,
          1984,
          1985,
          1986,
          1987,
          1988,
          1989,
          1990,
          1991,
          1992,
          1993,
          1994,
          1995,
          1997,
          1998,
          1999,
          2000,
          2001,
          2002,
          2003,
          2004,
          2005,
          2007,
          2009
         ],
         "xaxis": "x",
         "y": [
          1.815844188908219,
          1.84322308690013,
          1.87010396774878,
          2.046006000782711,
          1.916173101033245,
          2.001864458223128,
          2.244390061802646,
          2.121096076929623,
          2.281416808044027,
          2.394033187172212,
          2.326650128106064,
          2.379607905515568,
          2.553492725925348,
          2.678950824738286,
          2.485203775846569,
          2.590124623042546,
          2.77850542094157,
          2.708056429987175,
          2.762718299164769,
          2.61,
          2.7132,
          2.6016,
          2.7079,
          2.9071
         ],
         "yaxis": "y"
        },
        {
         "hovertemplate": "<b>%{hovertext}</b><br><br>Country=China<br>year=%{x}<br>yield=%{y}<extra></extra>",
         "hovertext": [
          "China",
          "China",
          "China",
          "China",
          "China",
          "China",
          "China",
          "China",
          "China",
          "China",
          "China"
         ],
         "legendgroup": "China",
         "marker": {
          "color": "#19d3f3",
          "symbol": "circle"
         },
         "mode": "markers",
         "name": "China",
         "orientation": "v",
         "showlegend": true,
         "type": "scatter",
         "x": [
          1996,
          2006,
          2008,
          2010,
          2011,
          2012,
          2013,
          2014,
          2015,
          2016,
          2017
         ],
         "xaxis": "x",
         "y": [
          5.853700575683408,
          5.615642676946927,
          5.845987796992882,
          5.63294254022915,
          6.19461337419571,
          6.222023515357512,
          6.472309160004769,
          6.150167146230823,
          6.232169420529871,
          6.443828791992227,
          6.637919443845784
         ],
         "yaxis": "y"
        }
       ],
       "layout": {
        "legend": {
         "title": {
          "text": "Country"
         },
         "tracegroupgap": 0
        },
        "margin": {
         "t": 60
        },
        "template": {
         "data": {
          "bar": [
           {
            "error_x": {
             "color": "#2a3f5f"
            },
            "error_y": {
             "color": "#2a3f5f"
            },
            "marker": {
             "line": {
              "color": "#E5ECF6",
              "width": 0.5
             },
             "pattern": {
              "fillmode": "overlay",
              "size": 10,
              "solidity": 0.2
             }
            },
            "type": "bar"
           }
          ],
          "barpolar": [
           {
            "marker": {
             "line": {
              "color": "#E5ECF6",
              "width": 0.5
             },
             "pattern": {
              "fillmode": "overlay",
              "size": 10,
              "solidity": 0.2
             }
            },
            "type": "barpolar"
           }
          ],
          "carpet": [
           {
            "aaxis": {
             "endlinecolor": "#2a3f5f",
             "gridcolor": "white",
             "linecolor": "white",
             "minorgridcolor": "white",
             "startlinecolor": "#2a3f5f"
            },
            "baxis": {
             "endlinecolor": "#2a3f5f",
             "gridcolor": "white",
             "linecolor": "white",
             "minorgridcolor": "white",
             "startlinecolor": "#2a3f5f"
            },
            "type": "carpet"
           }
          ],
          "choropleth": [
           {
            "colorbar": {
             "outlinewidth": 0,
             "ticks": ""
            },
            "type": "choropleth"
           }
          ],
          "contour": [
           {
            "colorbar": {
             "outlinewidth": 0,
             "ticks": ""
            },
            "colorscale": [
             [
              0,
              "#0d0887"
             ],
             [
              0.1111111111111111,
              "#46039f"
             ],
             [
              0.2222222222222222,
              "#7201a8"
             ],
             [
              0.3333333333333333,
              "#9c179e"
             ],
             [
              0.4444444444444444,
              "#bd3786"
             ],
             [
              0.5555555555555556,
              "#d8576b"
             ],
             [
              0.6666666666666666,
              "#ed7953"
             ],
             [
              0.7777777777777778,
              "#fb9f3a"
             ],
             [
              0.8888888888888888,
              "#fdca26"
             ],
             [
              1,
              "#f0f921"
             ]
            ],
            "type": "contour"
           }
          ],
          "contourcarpet": [
           {
            "colorbar": {
             "outlinewidth": 0,
             "ticks": ""
            },
            "type": "contourcarpet"
           }
          ],
          "heatmap": [
           {
            "colorbar": {
             "outlinewidth": 0,
             "ticks": ""
            },
            "colorscale": [
             [
              0,
              "#0d0887"
             ],
             [
              0.1111111111111111,
              "#46039f"
             ],
             [
              0.2222222222222222,
              "#7201a8"
             ],
             [
              0.3333333333333333,
              "#9c179e"
             ],
             [
              0.4444444444444444,
              "#bd3786"
             ],
             [
              0.5555555555555556,
              "#d8576b"
             ],
             [
              0.6666666666666666,
              "#ed7953"
             ],
             [
              0.7777777777777778,
              "#fb9f3a"
             ],
             [
              0.8888888888888888,
              "#fdca26"
             ],
             [
              1,
              "#f0f921"
             ]
            ],
            "type": "heatmap"
           }
          ],
          "heatmapgl": [
           {
            "colorbar": {
             "outlinewidth": 0,
             "ticks": ""
            },
            "colorscale": [
             [
              0,
              "#0d0887"
             ],
             [
              0.1111111111111111,
              "#46039f"
             ],
             [
              0.2222222222222222,
              "#7201a8"
             ],
             [
              0.3333333333333333,
              "#9c179e"
             ],
             [
              0.4444444444444444,
              "#bd3786"
             ],
             [
              0.5555555555555556,
              "#d8576b"
             ],
             [
              0.6666666666666666,
              "#ed7953"
             ],
             [
              0.7777777777777778,
              "#fb9f3a"
             ],
             [
              0.8888888888888888,
              "#fdca26"
             ],
             [
              1,
              "#f0f921"
             ]
            ],
            "type": "heatmapgl"
           }
          ],
          "histogram": [
           {
            "marker": {
             "pattern": {
              "fillmode": "overlay",
              "size": 10,
              "solidity": 0.2
             }
            },
            "type": "histogram"
           }
          ],
          "histogram2d": [
           {
            "colorbar": {
             "outlinewidth": 0,
             "ticks": ""
            },
            "colorscale": [
             [
              0,
              "#0d0887"
             ],
             [
              0.1111111111111111,
              "#46039f"
             ],
             [
              0.2222222222222222,
              "#7201a8"
             ],
             [
              0.3333333333333333,
              "#9c179e"
             ],
             [
              0.4444444444444444,
              "#bd3786"
             ],
             [
              0.5555555555555556,
              "#d8576b"
             ],
             [
              0.6666666666666666,
              "#ed7953"
             ],
             [
              0.7777777777777778,
              "#fb9f3a"
             ],
             [
              0.8888888888888888,
              "#fdca26"
             ],
             [
              1,
              "#f0f921"
             ]
            ],
            "type": "histogram2d"
           }
          ],
          "histogram2dcontour": [
           {
            "colorbar": {
             "outlinewidth": 0,
             "ticks": ""
            },
            "colorscale": [
             [
              0,
              "#0d0887"
             ],
             [
              0.1111111111111111,
              "#46039f"
             ],
             [
              0.2222222222222222,
              "#7201a8"
             ],
             [
              0.3333333333333333,
              "#9c179e"
             ],
             [
              0.4444444444444444,
              "#bd3786"
             ],
             [
              0.5555555555555556,
              "#d8576b"
             ],
             [
              0.6666666666666666,
              "#ed7953"
             ],
             [
              0.7777777777777778,
              "#fb9f3a"
             ],
             [
              0.8888888888888888,
              "#fdca26"
             ],
             [
              1,
              "#f0f921"
             ]
            ],
            "type": "histogram2dcontour"
           }
          ],
          "mesh3d": [
           {
            "colorbar": {
             "outlinewidth": 0,
             "ticks": ""
            },
            "type": "mesh3d"
           }
          ],
          "parcoords": [
           {
            "line": {
             "colorbar": {
              "outlinewidth": 0,
              "ticks": ""
             }
            },
            "type": "parcoords"
           }
          ],
          "pie": [
           {
            "automargin": true,
            "type": "pie"
           }
          ],
          "scatter": [
           {
            "fillpattern": {
             "fillmode": "overlay",
             "size": 10,
             "solidity": 0.2
            },
            "type": "scatter"
           }
          ],
          "scatter3d": [
           {
            "line": {
             "colorbar": {
              "outlinewidth": 0,
              "ticks": ""
             }
            },
            "marker": {
             "colorbar": {
              "outlinewidth": 0,
              "ticks": ""
             }
            },
            "type": "scatter3d"
           }
          ],
          "scattercarpet": [
           {
            "marker": {
             "colorbar": {
              "outlinewidth": 0,
              "ticks": ""
             }
            },
            "type": "scattercarpet"
           }
          ],
          "scattergeo": [
           {
            "marker": {
             "colorbar": {
              "outlinewidth": 0,
              "ticks": ""
             }
            },
            "type": "scattergeo"
           }
          ],
          "scattergl": [
           {
            "marker": {
             "colorbar": {
              "outlinewidth": 0,
              "ticks": ""
             }
            },
            "type": "scattergl"
           }
          ],
          "scattermapbox": [
           {
            "marker": {
             "colorbar": {
              "outlinewidth": 0,
              "ticks": ""
             }
            },
            "type": "scattermapbox"
           }
          ],
          "scatterpolar": [
           {
            "marker": {
             "colorbar": {
              "outlinewidth": 0,
              "ticks": ""
             }
            },
            "type": "scatterpolar"
           }
          ],
          "scatterpolargl": [
           {
            "marker": {
             "colorbar": {
              "outlinewidth": 0,
              "ticks": ""
             }
            },
            "type": "scatterpolargl"
           }
          ],
          "scatterternary": [
           {
            "marker": {
             "colorbar": {
              "outlinewidth": 0,
              "ticks": ""
             }
            },
            "type": "scatterternary"
           }
          ],
          "surface": [
           {
            "colorbar": {
             "outlinewidth": 0,
             "ticks": ""
            },
            "colorscale": [
             [
              0,
              "#0d0887"
             ],
             [
              0.1111111111111111,
              "#46039f"
             ],
             [
              0.2222222222222222,
              "#7201a8"
             ],
             [
              0.3333333333333333,
              "#9c179e"
             ],
             [
              0.4444444444444444,
              "#bd3786"
             ],
             [
              0.5555555555555556,
              "#d8576b"
             ],
             [
              0.6666666666666666,
              "#ed7953"
             ],
             [
              0.7777777777777778,
              "#fb9f3a"
             ],
             [
              0.8888888888888888,
              "#fdca26"
             ],
             [
              1,
              "#f0f921"
             ]
            ],
            "type": "surface"
           }
          ],
          "table": [
           {
            "cells": {
             "fill": {
              "color": "#EBF0F8"
             },
             "line": {
              "color": "white"
             }
            },
            "header": {
             "fill": {
              "color": "#C8D4E3"
             },
             "line": {
              "color": "white"
             }
            },
            "type": "table"
           }
          ]
         },
         "layout": {
          "annotationdefaults": {
           "arrowcolor": "#2a3f5f",
           "arrowhead": 0,
           "arrowwidth": 1
          },
          "autotypenumbers": "strict",
          "coloraxis": {
           "colorbar": {
            "outlinewidth": 0,
            "ticks": ""
           }
          },
          "colorscale": {
           "diverging": [
            [
             0,
             "#8e0152"
            ],
            [
             0.1,
             "#c51b7d"
            ],
            [
             0.2,
             "#de77ae"
            ],
            [
             0.3,
             "#f1b6da"
            ],
            [
             0.4,
             "#fde0ef"
            ],
            [
             0.5,
             "#f7f7f7"
            ],
            [
             0.6,
             "#e6f5d0"
            ],
            [
             0.7,
             "#b8e186"
            ],
            [
             0.8,
             "#7fbc41"
            ],
            [
             0.9,
             "#4d9221"
            ],
            [
             1,
             "#276419"
            ]
           ],
           "sequential": [
            [
             0,
             "#0d0887"
            ],
            [
             0.1111111111111111,
             "#46039f"
            ],
            [
             0.2222222222222222,
             "#7201a8"
            ],
            [
             0.3333333333333333,
             "#9c179e"
            ],
            [
             0.4444444444444444,
             "#bd3786"
            ],
            [
             0.5555555555555556,
             "#d8576b"
            ],
            [
             0.6666666666666666,
             "#ed7953"
            ],
            [
             0.7777777777777778,
             "#fb9f3a"
            ],
            [
             0.8888888888888888,
             "#fdca26"
            ],
            [
             1,
             "#f0f921"
            ]
           ],
           "sequentialminus": [
            [
             0,
             "#0d0887"
            ],
            [
             0.1111111111111111,
             "#46039f"
            ],
            [
             0.2222222222222222,
             "#7201a8"
            ],
            [
             0.3333333333333333,
             "#9c179e"
            ],
            [
             0.4444444444444444,
             "#bd3786"
            ],
            [
             0.5555555555555556,
             "#d8576b"
            ],
            [
             0.6666666666666666,
             "#ed7953"
            ],
            [
             0.7777777777777778,
             "#fb9f3a"
            ],
            [
             0.8888888888888888,
             "#fdca26"
            ],
            [
             1,
             "#f0f921"
            ]
           ]
          },
          "colorway": [
           "#636efa",
           "#EF553B",
           "#00cc96",
           "#ab63fa",
           "#FFA15A",
           "#19d3f3",
           "#FF6692",
           "#B6E880",
           "#FF97FF",
           "#FECB52"
          ],
          "font": {
           "color": "#2a3f5f"
          },
          "geo": {
           "bgcolor": "white",
           "lakecolor": "white",
           "landcolor": "#E5ECF6",
           "showlakes": true,
           "showland": true,
           "subunitcolor": "white"
          },
          "hoverlabel": {
           "align": "left"
          },
          "hovermode": "closest",
          "mapbox": {
           "style": "light"
          },
          "paper_bgcolor": "white",
          "plot_bgcolor": "#E5ECF6",
          "polar": {
           "angularaxis": {
            "gridcolor": "white",
            "linecolor": "white",
            "ticks": ""
           },
           "bgcolor": "#E5ECF6",
           "radialaxis": {
            "gridcolor": "white",
            "linecolor": "white",
            "ticks": ""
           }
          },
          "scene": {
           "xaxis": {
            "backgroundcolor": "#E5ECF6",
            "gridcolor": "white",
            "gridwidth": 2,
            "linecolor": "white",
            "showbackground": true,
            "ticks": "",
            "zerolinecolor": "white"
           },
           "yaxis": {
            "backgroundcolor": "#E5ECF6",
            "gridcolor": "white",
            "gridwidth": 2,
            "linecolor": "white",
            "showbackground": true,
            "ticks": "",
            "zerolinecolor": "white"
           },
           "zaxis": {
            "backgroundcolor": "#E5ECF6",
            "gridcolor": "white",
            "gridwidth": 2,
            "linecolor": "white",
            "showbackground": true,
            "ticks": "",
            "zerolinecolor": "white"
           }
          },
          "shapedefaults": {
           "line": {
            "color": "#2a3f5f"
           }
          },
          "ternary": {
           "aaxis": {
            "gridcolor": "white",
            "linecolor": "white",
            "ticks": ""
           },
           "baxis": {
            "gridcolor": "white",
            "linecolor": "white",
            "ticks": ""
           },
           "bgcolor": "#E5ECF6",
           "caxis": {
            "gridcolor": "white",
            "linecolor": "white",
            "ticks": ""
           }
          },
          "title": {
           "x": 0.05
          },
          "xaxis": {
           "automargin": true,
           "gridcolor": "white",
           "linecolor": "white",
           "ticks": "",
           "title": {
            "standoff": 15
           },
           "zerolinecolor": "white",
           "zerolinewidth": 2
          },
          "yaxis": {
           "automargin": true,
           "gridcolor": "white",
           "linecolor": "white",
           "ticks": "",
           "title": {
            "standoff": 15
           },
           "zerolinecolor": "white",
           "zerolinewidth": 2
          }
         }
        },
        "title": {
         "text": "Interactive Scatter Plot of Production Over Time"
        },
        "xaxis": {
         "anchor": "y",
         "domain": [
          0,
          1
         ],
         "title": {
          "text": "Year"
         }
        },
        "yaxis": {
         "anchor": "x",
         "domain": [
          0,
          1
         ],
         "title": {
          "text": "production"
         }
        }
       }
      }
     },
     "metadata": {},
     "output_type": "display_data"
    }
   ],
   "source": [
    "#country with the highest yield per year, hover for more info\n",
    "# Group data by 'year' and find the country with the highest yield in each year\n",
    "highest_production_per_year = df.groupby('year').apply(lambda x: x.loc[x['production'].idxmax()]).reset_index(drop=True)\n",
    "\n",
    "# Create an interactive scatter plot with hover labels\n",
    "fig = px.scatter(highest_production_per_year, x='year', y='yield', color='country', hover_name='country', labels={'country': 'Country'})\n",
    "fig.update_layout(\n",
    "    title='Interactive Scatter Plot of Production Over Time',\n",
    "    xaxis_title='Year',\n",
    "    yaxis_title='production',\n",
    ")\n",
    "\n",
    "fig.show()"
   ]
  },
  {
   "cell_type": "markdown",
   "metadata": {},
   "source": [
    "Now lets encode the country, country_region and crop type using one hot encoding. We will have to do the encoding since we have a regression problem."
   ]
  },
  {
   "cell_type": "code",
   "execution_count": 270,
   "metadata": {},
   "outputs": [],
   "source": [
    "\n",
    "# Create a copy of the original DataFrame\n",
    "df_encoded = df.copy()\n",
    "\n",
    "# Perform one-hot encoding for 'country', 'country_region', and 'crop' columns\n",
    "df_encoded = pd.get_dummies(df_encoded, columns=['country', 'country_region', 'crop'])\n"
   ]
  },
  {
   "cell_type": "markdown",
   "metadata": {},
   "source": [
    "Lets split the dataset into test and train sets for the models we will be training. "
   ]
  },
  {
   "cell_type": "code",
   "execution_count": 271,
   "metadata": {},
   "outputs": [
    {
     "name": "stdout",
     "output_type": "stream",
     "text": [
      "['year', 'hectares', 'yield', 'country_Argentina', 'country_Australia', 'country_Austria', 'country_Belgium', 'country_Brazil', 'country_Canada', 'country_Chile', 'country_China', 'country_Croatia', 'country_Czech Republic', 'country_Finland', 'country_France', 'country_India', 'country_Indonesia', 'country_Italy', 'country_Mexico', 'country_Morocco', 'country_Netherlands', 'country_Portugal', 'country_South Africa', 'country_Spain', 'country_Sweden', 'country_United Kingdom', 'country_United States', 'country_Uruguay', 'country_region_ALABAMA', 'country_region_ARIZONA', 'country_region_ARKANSAS', 'country_region_Aquitaine', 'country_region_Australian Capital Territory', 'country_region_Auvergne', 'country_region_Brittany', 'country_region_Burgundy', 'country_region_CALIFORNIA', 'country_region_COLORADO', 'country_region_CONNECTICUT', 'country_region_Campania', 'country_region_Centre-Val de Loire', 'country_region_Champagne-Ardenne', 'country_region_DELAWARE', 'country_region_Emilia-Romagna', 'country_region_FLORIDA', 'country_region_Franche-Comté', 'country_region_GEORGIA', 'country_region_IDAHO', 'country_region_ILLINOIS', 'country_region_INDIANA', 'country_region_IOWA', 'country_region_Java (and Madura)', 'country_region_KANSAS', 'country_region_KENTUCKY', 'country_region_LOUISIANA', 'country_region_Languedoc-Roussillon', 'country_region_Lazio', 'country_region_Limousin', 'country_region_Loire', 'country_region_Lombardia', 'country_region_Lorraine', 'country_region_Lower Normandy', 'country_region_MAINE', 'country_region_MARYLAND', 'country_region_MASSACHUSETTS', 'country_region_MICHIGAN', 'country_region_MINNESOTA', 'country_region_MISSISSIPPI', 'country_region_MISSOURI', 'country_region_MONTANA', 'country_region_Midi-Pyrénées', 'country_region_NEBRASKA', 'country_region_NEVADA', 'country_region_NEW HAMPSHIRE', 'country_region_NEW JERSEY', 'country_region_NEW MEXICO', 'country_region_NEW YORK', 'country_region_NORTH CAROLINA', 'country_region_NORTH DAKOTA', 'country_region_New South Wales(b)', 'country_region_Nord-Pas-de-Calais', 'country_region_Northern Territory', 'country_region_Not specified', 'country_region_OHIO', 'country_region_OKLAHOMA', 'country_region_OREGON', 'country_region_OTHER STATES', 'country_region_PENNSYLVANIA', 'country_region_Paraná', 'country_region_Pays de la Loire', 'country_region_Picardy', 'country_region_Poitou-Charentes', 'country_region_Provence-Alpes-Côte dAzur', 'country_region_Queensland', 'country_region_RHODE ISLAND', 'country_region_Rhône-Alpes', 'country_region_Rio Grande do Sul', 'country_region_SOUTH CAROLINA', 'country_region_SOUTH DAKOTA', 'country_region_Santa Catarina', 'country_region_Sicily', 'country_region_South Australia', 'country_region_TENNESSEE', 'country_region_TEXAS', 'country_region_Tasmania', 'country_region_Toscana', 'country_region_UTAH', 'country_region_Upper Normandy', 'country_region_VERMONT', 'country_region_VIRGINIA', 'country_region_Val-de-Marne', 'country_region_Veneto', 'country_region_Victoria', 'country_region_WASHINGTON', 'country_region_WEST VIRGINIA', 'country_region_WISCONSIN', 'country_region_WYOMING', 'country_region_Western Australia', 'country_region_andalucia', 'country_region_anhui', 'country_region_aragon', 'country_region_asturias', 'country_region_baleares', 'country_region_basque country', 'country_region_canary islands', 'country_region_cantabria', 'country_region_castilla la mancha', 'country_region_castilla y leon', 'country_region_catalunya', 'country_region_extremadura', 'country_region_fujian', 'country_region_galicia', 'country_region_gansu', 'country_region_group1', 'country_region_group2', 'country_region_guangdong', 'country_region_guangxi', 'country_region_guizhou', 'country_region_hainan', 'country_region_henan', 'country_region_hubei', 'country_region_hunan', 'country_region_jiangsu', 'country_region_jiangxi', 'country_region_la rioja', 'country_region_madrid', 'country_region_murcia', 'country_region_navarra', 'country_region_qinghai', 'country_region_qinhai', 'country_region_shaanxi', 'country_region_shandong', 'country_region_shanhai', 'country_region_shanxi', 'country_region_taiwan', 'country_region_valencia', 'country_region_xinjiang', 'country_region_yunnan', 'country_region_zhejiang', 'country_region_Île-de-France', 'crop_cereals', 'crop_maize', 'crop_spring wheat', 'crop_wheat', 'crop_winter wheat']\n"
     ]
    }
   ],
   "source": [
    "feature_cols = df_encoded.columns.to_list()\n",
    "feature_cols.remove('production')\n",
    "\n",
    "#These are the feature columns\n",
    "X = df_encoded[feature_cols]\n",
    "\n",
    "#This is the column which we will be predicting\n",
    "y = df_encoded['production']\n",
    "print(feature_cols)\n",
    "\n",
    "#Split dataset into training set and test set\n",
    "X_train, X_test, y_train, y_test = train_test_split(X, y, test_size=0.2) # 80% training and 20% test"
   ]
  },
  {
   "cell_type": "code",
   "execution_count": 272,
   "metadata": {},
   "outputs": [
    {
     "data": {
      "text/plain": [
       "33707    180000.000000\n",
       "35800   5260000.000000\n",
       "29182    281406.488134\n",
       "1798     110900.000000\n",
       "22160   2323079.658606\n",
       "             ...      \n",
       "6413      95252.400000\n",
       "8965       4614.000000\n",
       "17833     84040.931853\n",
       "24422    172729.120098\n",
       "35248     30000.000000\n",
       "Name: production, Length: 28663, dtype: float64"
      ]
     },
     "execution_count": 272,
     "metadata": {},
     "output_type": "execute_result"
    }
   ],
   "source": [
    "y_train"
   ]
  },
  {
   "cell_type": "markdown",
   "metadata": {},
   "source": [
    "Let's first try training a Random Forest Regressor model. We chose this model because the problem we are facing is a regression problem and not a classification problem"
   ]
  },
  {
   "cell_type": "code",
   "execution_count": 273,
   "metadata": {},
   "outputs": [],
   "source": [
    "from sklearn.ensemble import RandomForestRegressor\n",
    "\n",
    "# Create and fit a RandomForestRegressor model\n",
    "rfr_model = RandomForestRegressor()\n",
    "rfr_model.fit(X_train, y_train)\n",
    "\n",
    "# Make predictions on the test dataset\n",
    "rfr_y_pred = rfr_model.predict(X_test)"
   ]
  },
  {
   "cell_type": "markdown",
   "metadata": {},
   "source": [
    "Now let's check how our model is performing."
   ]
  },
  {
   "cell_type": "code",
   "execution_count": 274,
   "metadata": {},
   "outputs": [
    {
     "name": "stdout",
     "output_type": "stream",
     "text": [
      "R-squared (R2) score for random forest regressor model: 0.9983899780445256\n",
      "Root mean squared error for random forest regressor model: 188645.2603348331\n"
     ]
    }
   ],
   "source": [
    "from sklearn.metrics import r2_score\n",
    "from sklearn.metrics import mean_squared_error\n",
    "import math\n",
    "# Calculate the R-squared (R2) score\n",
    "rfr_r2 = r2_score(y_test, rfr_y_pred)\n",
    "\n",
    "#Calculate the roost mean squared error\n",
    "rfr_mse = mean_squared_error(y_test, rfr_y_pred)\n",
    "rfr_rmse = math.sqrt(rfr_mse)\n",
    "\n",
    "# Print the R2 score\n",
    "print(f\"R-squared (R2) score for random forest regressor model: {rfr_r2}\")\n",
    "print(f\"Root mean squared error for random forest regressor model: {rfr_rmse}\")"
   ]
  },
  {
   "cell_type": "markdown",
   "metadata": {},
   "source": [
    "Seeing that our R2 score is close to 1 we can assume that the model is going to make rather good predictions."
   ]
  },
  {
   "cell_type": "code",
   "execution_count": 275,
   "metadata": {},
   "outputs": [
    {
     "name": "stdout",
     "output_type": "stream",
     "text": [
      "       Actual Production  Predicted Production\n",
      "15873      276507.729153         277566.669279\n",
      "19792     3032158.097948        2966783.479359\n",
      "16466     1029827.999129        1034276.529928\n",
      "12575     7783583.714348        7529023.483807\n",
      "20402        1270.067060           1272.961303\n",
      "...                  ...                   ...\n",
      "14627     1712279.555846        1698731.489574\n",
      "22156        5588.295062           5596.342152\n",
      "19811       29719.569193          30458.571523\n",
      "20222     4200213.371266        4220110.921957\n",
      "14540     2642390.594383        2612382.169062\n",
      "\n",
      "[7166 rows x 2 columns]\n"
     ]
    }
   ],
   "source": [
    "rfr_production_predictions = pd.DataFrame({'Actual Production': y_test, 'Predicted Production': rfr_y_pred})\n",
    "\n",
    "# Display the DataFrame\n",
    "print(rfr_production_predictions)"
   ]
  },
  {
   "cell_type": "code",
   "execution_count": 276,
   "metadata": {},
   "outputs": [
    {
     "data": {
      "image/png": "[encoded data removed]",
      "text/plain": [
       "<Figure size 800x600 with 1 Axes>"
      ]
     },
     "metadata": {},
     "output_type": "display_data"
    }
   ],
   "source": [
    "# Create a scatter plot with different colors for actual and predicted values\n",
    "plt.figure(figsize=(8, 6))\n",
    "plt.scatter(y_test, rfr_y_pred, color='blue', marker='o', label='Predicted Values')\n",
    "\n",
    "plt.xlabel('Actual Target Values')\n",
    "plt.ylabel('Predicted Values')\n",
    "plt.title('Actual vs. Predicted Values')\n",
    "plt.grid()\n",
    "\n",
    "# Plot actual values in a different color\n",
    "plt.scatter(y_test, y_test, color='green', marker='x', label='Actual Values')\n",
    "\n",
    "# Add a legend to the plot\n",
    "plt.legend()\n",
    "\n",
    "plt.show()"
   ]
  },
  {
   "cell_type": "markdown",
   "metadata": {},
   "source": [
    "As you can see in the scatter plot above, the predictions the model made are extremely close to their corresponding true values.\n",
    "\n",
    "But now let's try using pycaret and let's see which model it thinks is the best to use."
   ]
  },
  {
   "cell_type": "code",
   "execution_count": 277,
   "metadata": {},
   "outputs": [
    {
     "data": {
      "text/html": [
       "<style type=\"text/css\">\n",
       "#T_7dcf9_row9_col1 {\n",
       "  background-color: lightgreen;\n",
       "}\n",
       "</style>\n",
       "<table id=\"T_7dcf9\">\n",
       "  <thead>\n",
       "    <tr>\n",
       "      <th class=\"blank level0\" >&nbsp;</th>\n",
       "      <th id=\"T_7dcf9_level0_col0\" class=\"col_heading level0 col0\" >Description</th>\n",
       "      <th id=\"T_7dcf9_level0_col1\" class=\"col_heading level0 col1\" >Value</th>\n",
       "    </tr>\n",
       "  </thead>\n",
       "  <tbody>\n",
       "    <tr>\n",
       "      <th id=\"T_7dcf9_level0_row0\" class=\"row_heading level0 row0\" >0</th>\n",
       "      <td id=\"T_7dcf9_row0_col0\" class=\"data row0 col0\" >Session id</td>\n",
       "      <td id=\"T_7dcf9_row0_col1\" class=\"data row0 col1\" >3529</td>\n",
       "    </tr>\n",
       "    <tr>\n",
       "      <th id=\"T_7dcf9_level0_row1\" class=\"row_heading level0 row1\" >1</th>\n",
       "      <td id=\"T_7dcf9_row1_col0\" class=\"data row1 col0\" >Target</td>\n",
       "      <td id=\"T_7dcf9_row1_col1\" class=\"data row1 col1\" >production</td>\n",
       "    </tr>\n",
       "    <tr>\n",
       "      <th id=\"T_7dcf9_level0_row2\" class=\"row_heading level0 row2\" >2</th>\n",
       "      <td id=\"T_7dcf9_row2_col0\" class=\"data row2 col0\" >Target type</td>\n",
       "      <td id=\"T_7dcf9_row2_col1\" class=\"data row2 col1\" >Regression</td>\n",
       "    </tr>\n",
       "    <tr>\n",
       "      <th id=\"T_7dcf9_level0_row3\" class=\"row_heading level0 row3\" >3</th>\n",
       "      <td id=\"T_7dcf9_row3_col0\" class=\"data row3 col0\" >Original data shape</td>\n",
       "      <td id=\"T_7dcf9_row3_col1\" class=\"data row3 col1\" >(35829, 7)</td>\n",
       "    </tr>\n",
       "    <tr>\n",
       "      <th id=\"T_7dcf9_level0_row4\" class=\"row_heading level0 row4\" >4</th>\n",
       "      <td id=\"T_7dcf9_row4_col0\" class=\"data row4 col0\" >Transformed data shape</td>\n",
       "      <td id=\"T_7dcf9_row4_col1\" class=\"data row4 col1\" >(35829, 35)</td>\n",
       "    </tr>\n",
       "    <tr>\n",
       "      <th id=\"T_7dcf9_level0_row5\" class=\"row_heading level0 row5\" >5</th>\n",
       "      <td id=\"T_7dcf9_row5_col0\" class=\"data row5 col0\" >Transformed train set shape</td>\n",
       "      <td id=\"T_7dcf9_row5_col1\" class=\"data row5 col1\" >(25080, 35)</td>\n",
       "    </tr>\n",
       "    <tr>\n",
       "      <th id=\"T_7dcf9_level0_row6\" class=\"row_heading level0 row6\" >6</th>\n",
       "      <td id=\"T_7dcf9_row6_col0\" class=\"data row6 col0\" >Transformed test set shape</td>\n",
       "      <td id=\"T_7dcf9_row6_col1\" class=\"data row6 col1\" >(10749, 35)</td>\n",
       "    </tr>\n",
       "    <tr>\n",
       "      <th id=\"T_7dcf9_level0_row7\" class=\"row_heading level0 row7\" >7</th>\n",
       "      <td id=\"T_7dcf9_row7_col0\" class=\"data row7 col0\" >Numeric features</td>\n",
       "      <td id=\"T_7dcf9_row7_col1\" class=\"data row7 col1\" >3</td>\n",
       "    </tr>\n",
       "    <tr>\n",
       "      <th id=\"T_7dcf9_level0_row8\" class=\"row_heading level0 row8\" >8</th>\n",
       "      <td id=\"T_7dcf9_row8_col0\" class=\"data row8 col0\" >Categorical features</td>\n",
       "      <td id=\"T_7dcf9_row8_col1\" class=\"data row8 col1\" >3</td>\n",
       "    </tr>\n",
       "    <tr>\n",
       "      <th id=\"T_7dcf9_level0_row9\" class=\"row_heading level0 row9\" >9</th>\n",
       "      <td id=\"T_7dcf9_row9_col0\" class=\"data row9 col0\" >Preprocess</td>\n",
       "      <td id=\"T_7dcf9_row9_col1\" class=\"data row9 col1\" >True</td>\n",
       "    </tr>\n",
       "    <tr>\n",
       "      <th id=\"T_7dcf9_level0_row10\" class=\"row_heading level0 row10\" >10</th>\n",
       "      <td id=\"T_7dcf9_row10_col0\" class=\"data row10 col0\" >Imputation type</td>\n",
       "      <td id=\"T_7dcf9_row10_col1\" class=\"data row10 col1\" >simple</td>\n",
       "    </tr>\n",
       "    <tr>\n",
       "      <th id=\"T_7dcf9_level0_row11\" class=\"row_heading level0 row11\" >11</th>\n",
       "      <td id=\"T_7dcf9_row11_col0\" class=\"data row11 col0\" >Numeric imputation</td>\n",
       "      <td id=\"T_7dcf9_row11_col1\" class=\"data row11 col1\" >mean</td>\n",
       "    </tr>\n",
       "    <tr>\n",
       "      <th id=\"T_7dcf9_level0_row12\" class=\"row_heading level0 row12\" >12</th>\n",
       "      <td id=\"T_7dcf9_row12_col0\" class=\"data row12 col0\" >Categorical imputation</td>\n",
       "      <td id=\"T_7dcf9_row12_col1\" class=\"data row12 col1\" >mode</td>\n",
       "    </tr>\n",
       "    <tr>\n",
       "      <th id=\"T_7dcf9_level0_row13\" class=\"row_heading level0 row13\" >13</th>\n",
       "      <td id=\"T_7dcf9_row13_col0\" class=\"data row13 col0\" >Maximum one-hot encoding</td>\n",
       "      <td id=\"T_7dcf9_row13_col1\" class=\"data row13 col1\" >25</td>\n",
       "    </tr>\n",
       "    <tr>\n",
       "      <th id=\"T_7dcf9_level0_row14\" class=\"row_heading level0 row14\" >14</th>\n",
       "      <td id=\"T_7dcf9_row14_col0\" class=\"data row14 col0\" >Encoding method</td>\n",
       "      <td id=\"T_7dcf9_row14_col1\" class=\"data row14 col1\" >None</td>\n",
       "    </tr>\n",
       "    <tr>\n",
       "      <th id=\"T_7dcf9_level0_row15\" class=\"row_heading level0 row15\" >15</th>\n",
       "      <td id=\"T_7dcf9_row15_col0\" class=\"data row15 col0\" >Fold Generator</td>\n",
       "      <td id=\"T_7dcf9_row15_col1\" class=\"data row15 col1\" >KFold</td>\n",
       "    </tr>\n",
       "    <tr>\n",
       "      <th id=\"T_7dcf9_level0_row16\" class=\"row_heading level0 row16\" >16</th>\n",
       "      <td id=\"T_7dcf9_row16_col0\" class=\"data row16 col0\" >Fold Number</td>\n",
       "      <td id=\"T_7dcf9_row16_col1\" class=\"data row16 col1\" >10</td>\n",
       "    </tr>\n",
       "    <tr>\n",
       "      <th id=\"T_7dcf9_level0_row17\" class=\"row_heading level0 row17\" >17</th>\n",
       "      <td id=\"T_7dcf9_row17_col0\" class=\"data row17 col0\" >CPU Jobs</td>\n",
       "      <td id=\"T_7dcf9_row17_col1\" class=\"data row17 col1\" >-1</td>\n",
       "    </tr>\n",
       "    <tr>\n",
       "      <th id=\"T_7dcf9_level0_row18\" class=\"row_heading level0 row18\" >18</th>\n",
       "      <td id=\"T_7dcf9_row18_col0\" class=\"data row18 col0\" >Use GPU</td>\n",
       "      <td id=\"T_7dcf9_row18_col1\" class=\"data row18 col1\" >False</td>\n",
       "    </tr>\n",
       "    <tr>\n",
       "      <th id=\"T_7dcf9_level0_row19\" class=\"row_heading level0 row19\" >19</th>\n",
       "      <td id=\"T_7dcf9_row19_col0\" class=\"data row19 col0\" >Log Experiment</td>\n",
       "      <td id=\"T_7dcf9_row19_col1\" class=\"data row19 col1\" >False</td>\n",
       "    </tr>\n",
       "    <tr>\n",
       "      <th id=\"T_7dcf9_level0_row20\" class=\"row_heading level0 row20\" >20</th>\n",
       "      <td id=\"T_7dcf9_row20_col0\" class=\"data row20 col0\" >Experiment Name</td>\n",
       "      <td id=\"T_7dcf9_row20_col1\" class=\"data row20 col1\" >reg-default-name</td>\n",
       "    </tr>\n",
       "    <tr>\n",
       "      <th id=\"T_7dcf9_level0_row21\" class=\"row_heading level0 row21\" >21</th>\n",
       "      <td id=\"T_7dcf9_row21_col0\" class=\"data row21 col0\" >USI</td>\n",
       "      <td id=\"T_7dcf9_row21_col1\" class=\"data row21 col1\" >1659</td>\n",
       "    </tr>\n",
       "  </tbody>\n",
       "</table>\n"
      ],
      "text/plain": [
       "<pandas.io.formats.style.Styler at 0x15a2d5d4f40>"
      ]
     },
     "metadata": {},
     "output_type": "display_data"
    },
    {
     "data": {
      "text/html": [],
      "text/plain": [
       "<IPython.core.display.HTML object>"
      ]
     },
     "metadata": {},
     "output_type": "display_data"
    },
    {
     "data": {
      "text/html": [
       "<style type=\"text/css\">\n",
       "#T_7adbb th {\n",
       "  text-align: left;\n",
       "}\n",
       "#T_7adbb_row0_col0, #T_7adbb_row0_col5, #T_7adbb_row1_col0, #T_7adbb_row1_col1, #T_7adbb_row1_col2, #T_7adbb_row1_col3, #T_7adbb_row1_col4, #T_7adbb_row1_col5, #T_7adbb_row1_col6, #T_7adbb_row2_col0, #T_7adbb_row2_col1, #T_7adbb_row2_col2, #T_7adbb_row2_col3, #T_7adbb_row2_col4, #T_7adbb_row2_col6, #T_7adbb_row3_col0, #T_7adbb_row3_col1, #T_7adbb_row3_col2, #T_7adbb_row3_col3, #T_7adbb_row3_col4, #T_7adbb_row3_col5, #T_7adbb_row3_col6, #T_7adbb_row4_col0, #T_7adbb_row4_col1, #T_7adbb_row4_col2, #T_7adbb_row4_col3, #T_7adbb_row4_col4, #T_7adbb_row4_col5, #T_7adbb_row4_col6, #T_7adbb_row5_col0, #T_7adbb_row5_col1, #T_7adbb_row5_col2, #T_7adbb_row5_col3, #T_7adbb_row5_col4, #T_7adbb_row5_col5, #T_7adbb_row5_col6, #T_7adbb_row6_col0, #T_7adbb_row6_col1, #T_7adbb_row6_col2, #T_7adbb_row6_col3, #T_7adbb_row6_col4, #T_7adbb_row6_col5, #T_7adbb_row6_col6, #T_7adbb_row7_col0, #T_7adbb_row7_col1, #T_7adbb_row7_col2, #T_7adbb_row7_col3, #T_7adbb_row7_col4, #T_7adbb_row7_col5, #T_7adbb_row7_col6, #T_7adbb_row8_col0, #T_7adbb_row8_col1, #T_7adbb_row8_col2, #T_7adbb_row8_col3, #T_7adbb_row8_col4, #T_7adbb_row8_col5, #T_7adbb_row8_col6, #T_7adbb_row9_col0, #T_7adbb_row9_col1, #T_7adbb_row9_col2, #T_7adbb_row9_col3, #T_7adbb_row9_col4, #T_7adbb_row9_col5, #T_7adbb_row9_col6, #T_7adbb_row10_col0, #T_7adbb_row10_col1, #T_7adbb_row10_col2, #T_7adbb_row10_col3, #T_7adbb_row10_col4, #T_7adbb_row10_col5, #T_7adbb_row10_col6, #T_7adbb_row11_col0, #T_7adbb_row11_col1, #T_7adbb_row11_col2, #T_7adbb_row11_col3, #T_7adbb_row11_col4, #T_7adbb_row11_col5, #T_7adbb_row11_col6, #T_7adbb_row12_col0, #T_7adbb_row12_col1, #T_7adbb_row12_col2, #T_7adbb_row12_col3, #T_7adbb_row12_col4, #T_7adbb_row12_col5, #T_7adbb_row12_col6, #T_7adbb_row13_col0, #T_7adbb_row13_col1, #T_7adbb_row13_col2, #T_7adbb_row13_col3, #T_7adbb_row13_col4, #T_7adbb_row13_col5, #T_7adbb_row13_col6, #T_7adbb_row14_col0, #T_7adbb_row14_col1, #T_7adbb_row14_col2, #T_7adbb_row14_col3, #T_7adbb_row14_col4, #T_7adbb_row14_col5, #T_7adbb_row14_col6, #T_7adbb_row15_col0, #T_7adbb_row15_col1, #T_7adbb_row15_col2, #T_7adbb_row15_col3, #T_7adbb_row15_col4, #T_7adbb_row15_col5, #T_7adbb_row15_col6, #T_7adbb_row16_col0, #T_7adbb_row16_col1, #T_7adbb_row16_col2, #T_7adbb_row16_col3, #T_7adbb_row16_col4, #T_7adbb_row16_col5, #T_7adbb_row16_col6, #T_7adbb_row17_col0, #T_7adbb_row17_col1, #T_7adbb_row17_col2, #T_7adbb_row17_col3, #T_7adbb_row17_col4, #T_7adbb_row17_col5, #T_7adbb_row17_col6 {\n",
       "  text-align: left;\n",
       "}\n",
       "#T_7adbb_row0_col1, #T_7adbb_row0_col2, #T_7adbb_row0_col3, #T_7adbb_row0_col4, #T_7adbb_row0_col6, #T_7adbb_row2_col5 {\n",
       "  text-align: left;\n",
       "  background-color: yellow;\n",
       "}\n",
       "#T_7adbb_row0_col7, #T_7adbb_row1_col7, #T_7adbb_row2_col7, #T_7adbb_row3_col7, #T_7adbb_row4_col7, #T_7adbb_row5_col7, #T_7adbb_row6_col7, #T_7adbb_row7_col7, #T_7adbb_row8_col7, #T_7adbb_row9_col7, #T_7adbb_row10_col7, #T_7adbb_row11_col7, #T_7adbb_row12_col7, #T_7adbb_row13_col7, #T_7adbb_row14_col7, #T_7adbb_row15_col7, #T_7adbb_row17_col7 {\n",
       "  text-align: left;\n",
       "  background-color: lightgrey;\n",
       "}\n",
       "#T_7adbb_row16_col7 {\n",
       "  text-align: left;\n",
       "  background-color: yellow;\n",
       "  background-color: lightgrey;\n",
       "}\n",
       "</style>\n",
       "<table id=\"T_7adbb\">\n",
       "  <thead>\n",
       "    <tr>\n",
       "      <th class=\"blank level0\" >&nbsp;</th>\n",
       "      <th id=\"T_7adbb_level0_col0\" class=\"col_heading level0 col0\" >Model</th>\n",
       "      <th id=\"T_7adbb_level0_col1\" class=\"col_heading level0 col1\" >MAE</th>\n",
       "      <th id=\"T_7adbb_level0_col2\" class=\"col_heading level0 col2\" >MSE</th>\n",
       "      <th id=\"T_7adbb_level0_col3\" class=\"col_heading level0 col3\" >RMSE</th>\n",
       "      <th id=\"T_7adbb_level0_col4\" class=\"col_heading level0 col4\" >R2</th>\n",
       "      <th id=\"T_7adbb_level0_col5\" class=\"col_heading level0 col5\" >RMSLE</th>\n",
       "      <th id=\"T_7adbb_level0_col6\" class=\"col_heading level0 col6\" >MAPE</th>\n",
       "      <th id=\"T_7adbb_level0_col7\" class=\"col_heading level0 col7\" >TT (Sec)</th>\n",
       "    </tr>\n",
       "  </thead>\n",
       "  <tbody>\n",
       "    <tr>\n",
       "      <th id=\"T_7adbb_level0_row0\" class=\"row_heading level0 row0\" >et</th>\n",
       "      <td id=\"T_7adbb_row0_col0\" class=\"data row0 col0\" >Extra Trees Regressor</td>\n",
       "      <td id=\"T_7adbb_row0_col1\" class=\"data row0 col1\" >28155.3394</td>\n",
       "      <td id=\"T_7adbb_row0_col2\" class=\"data row0 col2\" >52372077142.5373</td>\n",
       "      <td id=\"T_7adbb_row0_col3\" class=\"data row0 col3\" >202595.2807</td>\n",
       "      <td id=\"T_7adbb_row0_col4\" class=\"data row0 col4\" >0.9978</td>\n",
       "      <td id=\"T_7adbb_row0_col5\" class=\"data row0 col5\" >0.4775</td>\n",
       "      <td id=\"T_7adbb_row0_col6\" class=\"data row0 col6\" >0.0181</td>\n",
       "      <td id=\"T_7adbb_row0_col7\" class=\"data row0 col7\" >0.9710</td>\n",
       "    </tr>\n",
       "    <tr>\n",
       "      <th id=\"T_7adbb_level0_row1\" class=\"row_heading level0 row1\" >rf</th>\n",
       "      <td id=\"T_7adbb_row1_col0\" class=\"data row1 col0\" >Random Forest Regressor</td>\n",
       "      <td id=\"T_7adbb_row1_col1\" class=\"data row1 col1\" >43518.5145</td>\n",
       "      <td id=\"T_7adbb_row1_col2\" class=\"data row1 col2\" >110961315850.8012</td>\n",
       "      <td id=\"T_7adbb_row1_col3\" class=\"data row1 col3\" >320774.8434</td>\n",
       "      <td id=\"T_7adbb_row1_col4\" class=\"data row1 col4\" >0.9953</td>\n",
       "      <td id=\"T_7adbb_row1_col5\" class=\"data row1 col5\" >0.4045</td>\n",
       "      <td id=\"T_7adbb_row1_col6\" class=\"data row1 col6\" >0.0213</td>\n",
       "      <td id=\"T_7adbb_row1_col7\" class=\"data row1 col7\" >1.3940</td>\n",
       "    </tr>\n",
       "    <tr>\n",
       "      <th id=\"T_7adbb_level0_row2\" class=\"row_heading level0 row2\" >dt</th>\n",
       "      <td id=\"T_7adbb_row2_col0\" class=\"data row2 col0\" >Decision Tree Regressor</td>\n",
       "      <td id=\"T_7adbb_row2_col1\" class=\"data row2 col1\" >76609.2754</td>\n",
       "      <td id=\"T_7adbb_row2_col2\" class=\"data row2 col2\" >267129198872.6864</td>\n",
       "      <td id=\"T_7adbb_row2_col3\" class=\"data row2 col3\" >498312.4634</td>\n",
       "      <td id=\"T_7adbb_row2_col4\" class=\"data row2 col4\" >0.9888</td>\n",
       "      <td id=\"T_7adbb_row2_col5\" class=\"data row2 col5\" >0.2817</td>\n",
       "      <td id=\"T_7adbb_row2_col6\" class=\"data row2 col6\" >0.0407</td>\n",
       "      <td id=\"T_7adbb_row2_col7\" class=\"data row2 col7\" >0.0590</td>\n",
       "    </tr>\n",
       "    <tr>\n",
       "      <th id=\"T_7adbb_level0_row3\" class=\"row_heading level0 row3\" >gbr</th>\n",
       "      <td id=\"T_7adbb_row3_col0\" class=\"data row3 col0\" >Gradient Boosting Regressor</td>\n",
       "      <td id=\"T_7adbb_row3_col1\" class=\"data row3 col1\" >183952.4935</td>\n",
       "      <td id=\"T_7adbb_row3_col2\" class=\"data row3 col2\" >272479622880.3300</td>\n",
       "      <td id=\"T_7adbb_row3_col3\" class=\"data row3 col3\" >517073.4161</td>\n",
       "      <td id=\"T_7adbb_row3_col4\" class=\"data row3 col4\" >0.9882</td>\n",
       "      <td id=\"T_7adbb_row3_col5\" class=\"data row3 col5\" >2.3158</td>\n",
       "      <td id=\"T_7adbb_row3_col6\" class=\"data row3 col6\" >15.6038</td>\n",
       "      <td id=\"T_7adbb_row3_col7\" class=\"data row3 col7\" >0.3930</td>\n",
       "    </tr>\n",
       "    <tr>\n",
       "      <th id=\"T_7adbb_level0_row4\" class=\"row_heading level0 row4\" >lightgbm</th>\n",
       "      <td id=\"T_7adbb_row4_col0\" class=\"data row4 col0\" >Light Gradient Boosting Machine</td>\n",
       "      <td id=\"T_7adbb_row4_col1\" class=\"data row4 col1\" >95992.2392</td>\n",
       "      <td id=\"T_7adbb_row4_col2\" class=\"data row4 col2\" >347150354136.9316</td>\n",
       "      <td id=\"T_7adbb_row4_col3\" class=\"data row4 col3\" >558854.3777</td>\n",
       "      <td id=\"T_7adbb_row4_col4\" class=\"data row4 col4\" >0.9851</td>\n",
       "      <td id=\"T_7adbb_row4_col5\" class=\"data row4 col5\" >1.5938</td>\n",
       "      <td id=\"T_7adbb_row4_col6\" class=\"data row4 col6\" >3.2324</td>\n",
       "      <td id=\"T_7adbb_row4_col7\" class=\"data row4 col7\" >0.1150</td>\n",
       "    </tr>\n",
       "    <tr>\n",
       "      <th id=\"T_7adbb_level0_row5\" class=\"row_heading level0 row5\" >knn</th>\n",
       "      <td id=\"T_7adbb_row5_col0\" class=\"data row5 col0\" >K Neighbors Regressor</td>\n",
       "      <td id=\"T_7adbb_row5_col1\" class=\"data row5 col1\" >594138.2312</td>\n",
       "      <td id=\"T_7adbb_row5_col2\" class=\"data row5 col2\" >3020253193830.3999</td>\n",
       "      <td id=\"T_7adbb_row5_col3\" class=\"data row5 col3\" >1733253.7875</td>\n",
       "      <td id=\"T_7adbb_row5_col4\" class=\"data row5 col4\" >0.8700</td>\n",
       "      <td id=\"T_7adbb_row5_col5\" class=\"data row5 col5\" >0.8738</td>\n",
       "      <td id=\"T_7adbb_row5_col6\" class=\"data row5 col6\" >0.6057</td>\n",
       "      <td id=\"T_7adbb_row5_col7\" class=\"data row5 col7\" >0.0850</td>\n",
       "    </tr>\n",
       "    <tr>\n",
       "      <th id=\"T_7adbb_level0_row6\" class=\"row_heading level0 row6\" >ada</th>\n",
       "      <td id=\"T_7adbb_row6_col0\" class=\"data row6 col0\" >AdaBoost Regressor</td>\n",
       "      <td id=\"T_7adbb_row6_col1\" class=\"data row6 col1\" >2090175.2936</td>\n",
       "      <td id=\"T_7adbb_row6_col2\" class=\"data row6 col2\" >6026131215795.8193</td>\n",
       "      <td id=\"T_7adbb_row6_col3\" class=\"data row6 col3\" >2448071.1101</td>\n",
       "      <td id=\"T_7adbb_row6_col4\" class=\"data row6 col4\" >0.7358</td>\n",
       "      <td id=\"T_7adbb_row6_col5\" class=\"data row6 col5\" >4.0001</td>\n",
       "      <td id=\"T_7adbb_row6_col6\" class=\"data row6 col6\" >708.4964</td>\n",
       "      <td id=\"T_7adbb_row6_col7\" class=\"data row6 col7\" >0.5390</td>\n",
       "    </tr>\n",
       "    <tr>\n",
       "      <th id=\"T_7adbb_level0_row7\" class=\"row_heading level0 row7\" >lasso</th>\n",
       "      <td id=\"T_7adbb_row7_col0\" class=\"data row7 col0\" >Lasso Regression</td>\n",
       "      <td id=\"T_7adbb_row7_col1\" class=\"data row7 col1\" >1188753.8896</td>\n",
       "      <td id=\"T_7adbb_row7_col2\" class=\"data row7 col2\" >6633576590706.8721</td>\n",
       "      <td id=\"T_7adbb_row7_col3\" class=\"data row7 col3\" >2565931.6602</td>\n",
       "      <td id=\"T_7adbb_row7_col4\" class=\"data row7 col4\" >0.7174</td>\n",
       "      <td id=\"T_7adbb_row7_col5\" class=\"data row7 col5\" >3.4424</td>\n",
       "      <td id=\"T_7adbb_row7_col6\" class=\"data row7 col6\" >274.7162</td>\n",
       "      <td id=\"T_7adbb_row7_col7\" class=\"data row7 col7\" >0.5550</td>\n",
       "    </tr>\n",
       "    <tr>\n",
       "      <th id=\"T_7adbb_level0_row8\" class=\"row_heading level0 row8\" >ridge</th>\n",
       "      <td id=\"T_7adbb_row8_col0\" class=\"data row8 col0\" >Ridge Regression</td>\n",
       "      <td id=\"T_7adbb_row8_col1\" class=\"data row8 col1\" >1187923.9895</td>\n",
       "      <td id=\"T_7adbb_row8_col2\" class=\"data row8 col2\" >6633586320432.2559</td>\n",
       "      <td id=\"T_7adbb_row8_col3\" class=\"data row8 col3\" >2565906.1139</td>\n",
       "      <td id=\"T_7adbb_row8_col4\" class=\"data row8 col4\" >0.7174</td>\n",
       "      <td id=\"T_7adbb_row8_col5\" class=\"data row8 col5\" >3.4429</td>\n",
       "      <td id=\"T_7adbb_row8_col6\" class=\"data row8 col6\" >275.0091</td>\n",
       "      <td id=\"T_7adbb_row8_col7\" class=\"data row8 col7\" >0.0500</td>\n",
       "    </tr>\n",
       "    <tr>\n",
       "      <th id=\"T_7adbb_level0_row9\" class=\"row_heading level0 row9\" >lr</th>\n",
       "      <td id=\"T_7adbb_row9_col0\" class=\"data row9 col0\" >Linear Regression</td>\n",
       "      <td id=\"T_7adbb_row9_col1\" class=\"data row9 col1\" >1188760.3712</td>\n",
       "      <td id=\"T_7adbb_row9_col2\" class=\"data row9 col2\" >6633576617099.5479</td>\n",
       "      <td id=\"T_7adbb_row9_col3\" class=\"data row9 col3\" >2565931.8154</td>\n",
       "      <td id=\"T_7adbb_row9_col4\" class=\"data row9 col4\" >0.7174</td>\n",
       "      <td id=\"T_7adbb_row9_col5\" class=\"data row9 col5\" >3.4423</td>\n",
       "      <td id=\"T_7adbb_row9_col6\" class=\"data row9 col6\" >274.7141</td>\n",
       "      <td id=\"T_7adbb_row9_col7\" class=\"data row9 col7\" >0.1910</td>\n",
       "    </tr>\n",
       "    <tr>\n",
       "      <th id=\"T_7adbb_level0_row10\" class=\"row_heading level0 row10\" >llar</th>\n",
       "      <td id=\"T_7adbb_row10_col0\" class=\"data row10 col0\" >Lasso Least Angle Regression</td>\n",
       "      <td id=\"T_7adbb_row10_col1\" class=\"data row10 col1\" >1186348.8191</td>\n",
       "      <td id=\"T_7adbb_row10_col2\" class=\"data row10 col2\" >6636745126456.6738</td>\n",
       "      <td id=\"T_7adbb_row10_col3\" class=\"data row10 col3\" >2566446.6376</td>\n",
       "      <td id=\"T_7adbb_row10_col4\" class=\"data row10 col4\" >0.7173</td>\n",
       "      <td id=\"T_7adbb_row10_col5\" class=\"data row10 col5\" >3.4410</td>\n",
       "      <td id=\"T_7adbb_row10_col6\" class=\"data row10 col6\" >275.1559</td>\n",
       "      <td id=\"T_7adbb_row10_col7\" class=\"data row10 col7\" >0.0470</td>\n",
       "    </tr>\n",
       "    <tr>\n",
       "      <th id=\"T_7adbb_level0_row11\" class=\"row_heading level0 row11\" >en</th>\n",
       "      <td id=\"T_7adbb_row11_col0\" class=\"data row11 col0\" >Elastic Net</td>\n",
       "      <td id=\"T_7adbb_row11_col1\" class=\"data row11 col1\" >1124734.6944</td>\n",
       "      <td id=\"T_7adbb_row11_col2\" class=\"data row11 col2\" >7453998130673.3955</td>\n",
       "      <td id=\"T_7adbb_row11_col3\" class=\"data row11 col3\" >2718220.3892</td>\n",
       "      <td id=\"T_7adbb_row11_col4\" class=\"data row11 col4\" >0.6831</td>\n",
       "      <td id=\"T_7adbb_row11_col5\" class=\"data row11 col5\" >3.4028</td>\n",
       "      <td id=\"T_7adbb_row11_col6\" class=\"data row11 col6\" >247.1005</td>\n",
       "      <td id=\"T_7adbb_row11_col7\" class=\"data row11 col7\" >0.0630</td>\n",
       "    </tr>\n",
       "    <tr>\n",
       "      <th id=\"T_7adbb_level0_row12\" class=\"row_heading level0 row12\" >omp</th>\n",
       "      <td id=\"T_7adbb_row12_col0\" class=\"data row12 col0\" >Orthogonal Matching Pursuit</td>\n",
       "      <td id=\"T_7adbb_row12_col1\" class=\"data row12 col1\" >1106196.7615</td>\n",
       "      <td id=\"T_7adbb_row12_col2\" class=\"data row12 col2\" >8449067427826.2939</td>\n",
       "      <td id=\"T_7adbb_row12_col3\" class=\"data row12 col3\" >2894792.5049</td>\n",
       "      <td id=\"T_7adbb_row12_col4\" class=\"data row12 col4\" >0.6407</td>\n",
       "      <td id=\"T_7adbb_row12_col5\" class=\"data row12 col5\" >3.1514</td>\n",
       "      <td id=\"T_7adbb_row12_col6\" class=\"data row12 col6\" >162.3228</td>\n",
       "      <td id=\"T_7adbb_row12_col7\" class=\"data row12 col7\" >0.0480</td>\n",
       "    </tr>\n",
       "    <tr>\n",
       "      <th id=\"T_7adbb_level0_row13\" class=\"row_heading level0 row13\" >br</th>\n",
       "      <td id=\"T_7adbb_row13_col0\" class=\"data row13 col0\" >Bayesian Ridge</td>\n",
       "      <td id=\"T_7adbb_row13_col1\" class=\"data row13 col1\" >1036927.4807</td>\n",
       "      <td id=\"T_7adbb_row13_col2\" class=\"data row13 col2\" >8889996147523.9746</td>\n",
       "      <td id=\"T_7adbb_row13_col3\" class=\"data row13 col3\" >2969998.4997</td>\n",
       "      <td id=\"T_7adbb_row13_col4\" class=\"data row13 col4\" >0.6218</td>\n",
       "      <td id=\"T_7adbb_row13_col5\" class=\"data row13 col5\" >2.8671</td>\n",
       "      <td id=\"T_7adbb_row13_col6\" class=\"data row13 col6\" >56.4916</td>\n",
       "      <td id=\"T_7adbb_row13_col7\" class=\"data row13 col7\" >0.0660</td>\n",
       "    </tr>\n",
       "    <tr>\n",
       "      <th id=\"T_7adbb_level0_row14\" class=\"row_heading level0 row14\" >huber</th>\n",
       "      <td id=\"T_7adbb_row14_col0\" class=\"data row14 col0\" >Huber Regressor</td>\n",
       "      <td id=\"T_7adbb_row14_col1\" class=\"data row14 col1\" >845691.1472</td>\n",
       "      <td id=\"T_7adbb_row14_col2\" class=\"data row14 col2\" >10261782846548.8730</td>\n",
       "      <td id=\"T_7adbb_row14_col3\" class=\"data row14 col3\" >3183030.4109</td>\n",
       "      <td id=\"T_7adbb_row14_col4\" class=\"data row14 col4\" >0.5675</td>\n",
       "      <td id=\"T_7adbb_row14_col5\" class=\"data row14 col5\" >1.7083</td>\n",
       "      <td id=\"T_7adbb_row14_col6\" class=\"data row14 col6\" >1.9868</td>\n",
       "      <td id=\"T_7adbb_row14_col7\" class=\"data row14 col7\" >0.1020</td>\n",
       "    </tr>\n",
       "    <tr>\n",
       "      <th id=\"T_7adbb_level0_row15\" class=\"row_heading level0 row15\" >par</th>\n",
       "      <td id=\"T_7adbb_row15_col0\" class=\"data row15 col0\" >Passive Aggressive Regressor</td>\n",
       "      <td id=\"T_7adbb_row15_col1\" class=\"data row15 col1\" >1336513.0723</td>\n",
       "      <td id=\"T_7adbb_row15_col2\" class=\"data row15 col2\" >19196325233790.1914</td>\n",
       "      <td id=\"T_7adbb_row15_col3\" class=\"data row15 col3\" >4240157.2157</td>\n",
       "      <td id=\"T_7adbb_row15_col4\" class=\"data row15 col4\" >0.1953</td>\n",
       "      <td id=\"T_7adbb_row15_col5\" class=\"data row15 col5\" >2.0719</td>\n",
       "      <td id=\"T_7adbb_row15_col6\" class=\"data row15 col6\" >52.1954</td>\n",
       "      <td id=\"T_7adbb_row15_col7\" class=\"data row15 col7\" >0.0530</td>\n",
       "    </tr>\n",
       "    <tr>\n",
       "      <th id=\"T_7adbb_level0_row16\" class=\"row_heading level0 row16\" >dummy</th>\n",
       "      <td id=\"T_7adbb_row16_col0\" class=\"data row16 col0\" >Dummy Regressor</td>\n",
       "      <td id=\"T_7adbb_row16_col1\" class=\"data row16 col1\" >1902228.5125</td>\n",
       "      <td id=\"T_7adbb_row16_col2\" class=\"data row16 col2\" >23604543619072.0000</td>\n",
       "      <td id=\"T_7adbb_row16_col3\" class=\"data row16 col3\" >4841811.7500</td>\n",
       "      <td id=\"T_7adbb_row16_col4\" class=\"data row16 col4\" >-0.0004</td>\n",
       "      <td id=\"T_7adbb_row16_col5\" class=\"data row16 col5\" >3.8154</td>\n",
       "      <td id=\"T_7adbb_row16_col6\" class=\"data row16 col6\" >509.9486</td>\n",
       "      <td id=\"T_7adbb_row16_col7\" class=\"data row16 col7\" >0.0440</td>\n",
       "    </tr>\n",
       "    <tr>\n",
       "      <th id=\"T_7adbb_level0_row17\" class=\"row_heading level0 row17\" >lar</th>\n",
       "      <td id=\"T_7adbb_row17_col0\" class=\"data row17 col0\" >Least Angle Regression</td>\n",
       "      <td id=\"T_7adbb_row17_col1\" class=\"data row17 col1\" >3004327.2831</td>\n",
       "      <td id=\"T_7adbb_row17_col2\" class=\"data row17 col2\" >58634100845457.9688</td>\n",
       "      <td id=\"T_7adbb_row17_col3\" class=\"data row17 col3\" >5284808.4591</td>\n",
       "      <td id=\"T_7adbb_row17_col4\" class=\"data row17 col4\" >-1.4742</td>\n",
       "      <td id=\"T_7adbb_row17_col5\" class=\"data row17 col5\" >3.8167</td>\n",
       "      <td id=\"T_7adbb_row17_col6\" class=\"data row17 col6\" >722.4319</td>\n",
       "      <td id=\"T_7adbb_row17_col7\" class=\"data row17 col7\" >0.0500</td>\n",
       "    </tr>\n",
       "  </tbody>\n",
       "</table>\n"
      ],
      "text/plain": [
       "<pandas.io.formats.style.Styler at 0x15a8d4a2f50>"
      ]
     },
     "metadata": {},
     "output_type": "display_data"
    },
    {
     "data": {
      "text/html": [],
      "text/plain": [
       "<IPython.core.display.HTML object>"
      ]
     },
     "metadata": {},
     "output_type": "display_data"
    },
    {
     "data": {
      "application/vnd.jupyter.widget-view+json": {
       "model_id": "079f88bdb7e54b6bbb22958bb6e7b3a2",
       "version_major": 2,
       "version_minor": 0
      },
      "text/plain": [
       "interactive(children=(ToggleButtons(description='Plot Type:', icons=('',), options=(('Pipeline Plot', 'pipelin…"
      ]
     },
     "metadata": {},
     "output_type": "display_data"
    }
   ],
   "source": [
    "from pycaret.regression import *\n",
    "pyc = setup(data = df, target = 'production')\n",
    "best_model = compare_models()\n",
    "evaluate_model(best_model)"
   ]
  },
  {
   "cell_type": "markdown",
   "metadata": {},
   "source": [
    "Pycaret concludes that the Extra Trees Regressor model is the best model for this situation. It beat our selected models R2 score by 0.002%."
   ]
  }
 ],
 "metadata": {
  "kernelspec": {
   "display_name": "Python 3",
   "language": "python",
   "name": "python3"
  },
  "language_info": {
   "codemirror_mode": {
    "name": "ipython",
    "version": 3
   },
   "file_extension": ".py",
   "mimetype": "text/x-python",
   "name": "python",
   "nbconvert_exporter": "python",
   "pygments_lexer": "ipython3",
   "version": "3.10.12"
  }
 },
 "nbformat": 4,
 "nbformat_minor": 2
}
